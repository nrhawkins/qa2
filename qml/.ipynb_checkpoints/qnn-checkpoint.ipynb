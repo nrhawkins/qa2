{
 "cells": [
  {
   "cell_type": "markdown",
   "id": "3dc7a466-a8aa-4431-92c8-8cbb958a2b9c",
   "metadata": {},
   "source": [
    "# Quantum Neural Networks"
   ]
  },
  {
   "cell_type": "markdown",
   "id": "3bf5800b-3b61-4da3-9101-7088baaa835c",
   "metadata": {},
   "source": [
    "Set a seed so that the output doesn't change in between runs."
   ]
  },
  {
   "cell_type": "code",
   "execution_count": 1,
   "id": "90a0e20f-c1c3-42fd-8aea-8aaa192a8a0c",
   "metadata": {},
   "outputs": [],
   "source": [
    "from qiskit_machine_learning.utils import algorithm_globals\n",
    "\n",
    "algorithm_globals.random_seed = 42"
   ]
  },
  {
   "cell_type": "markdown",
   "id": "b9b6e01a-d3ad-4791-b609-06ae43aa5ffd",
   "metadata": {},
   "source": [
    "Construct a parameterized circuit.  One parameter is the QNN input, and the other is a trainable weight."
   ]
  },
  {
   "cell_type": "code",
   "execution_count": 5,
   "id": "c31110b0-6a41-479a-b9c8-ab47b49eb17b",
   "metadata": {},
   "outputs": [
    {
     "name": "stdout",
     "output_type": "stream",
     "text": [
      "<class 'qiskit.circuit.parameter.Parameter'> <class 'qiskit.circuit.parameter.Parameter'>\n"
     ]
    }
   ],
   "source": [
    "from qiskit.circuit import Parameter\n",
    "from qiskit import QuantumCircuit\n",
    "\n",
    "params1 = [Parameter(\"input1\"), Parameter(\"weight1\")]\n",
    "qc1 = QuantumCircuit(1)\n",
    "qc1.h(0)\n",
    "# ry(theta, qubit)\n",
    "qc1.ry(params1[0], 0)\n",
    "qc1.rx(params1[1], 0)\n",
    "qc1.draw(\"mpl\", style=\"clifford\")\n",
    "print(type(params1[0]), type(params1[1]))\n",
    "\n",
    "# bind the parameters after circuit to create a bound circuit\n",
    "# bc = qc.assign_parameters({phi: 3.14})"
   ]
  },
  {
   "cell_type": "markdown",
   "id": "20786eee-1cfd-4d84-8eda-7e5e6a3a6071",
   "metadata": {},
   "source": [
    "Create an observable, Y^xn in this example, to define the expectation value computation, where n is the number of qubits.  \n",
    "By default, QNNEstimator computes the Z^xn observable."
   ]
  },
  {
   "cell_type": "code",
   "execution_count": 6,
   "id": "7155d64b-f48e-47e4-814b-f4d21109d1b0",
   "metadata": {},
   "outputs": [],
   "source": [
    "from qiskit.quantum_info import SparsePauliOp\n",
    "\n",
    "observable1 = SparsePauliOp.from_list([(\"Y\" * qc1.num_qubits, 1)])"
   ]
  },
  {
   "cell_type": "markdown",
   "id": "dd566914-6687-49b2-835e-86dd89ef4bf4",
   "metadata": {},
   "source": [
    "We are performing a local statevector simulation.\n",
    "\n"
   ]
  },
  {
   "cell_type": "code",
   "execution_count": 7,
   "id": "8da6eeba-e0c2-4f21-aa41-d7152a65f268",
   "metadata": {},
   "outputs": [
    {
     "name": "stderr",
     "output_type": "stream",
     "text": [
      "No gradient function provided, creating a gradient function. If your Estimator requires transpilation, please provide a pass manager.\n"
     ]
    },
    {
     "data": {
      "text/plain": [
       "<qiskit_machine_learning.neural_networks.estimator_qnn.EstimatorQNN at 0x2f0117434d0>"
      ]
     },
     "execution_count": 7,
     "metadata": {},
     "output_type": "execute_result"
    }
   ],
   "source": [
    "from qiskit_machine_learning.neural_networks import EstimatorQNN\n",
    "from qiskit.primitives import StatevectorEstimator as Estimator\n",
    "\n",
    "estimator = Estimator()\n",
    "estimator_qnn = EstimatorQNN(\n",
    "    circuit=qc1,\n",
    "    observables=observable1,\n",
    "    input_params=[params1[0]],\n",
    "    weight_params=[params1[1]],\n",
    "    estimator=estimator,\n",
    ")\n",
    "estimator_qnn"
   ]
  },
  {
   "cell_type": "markdown",
   "id": "5d8cc314-fcc7-4097-8f76-c375e78be1a1",
   "metadata": {},
   "source": [
    "That's all for now for the EstimatorQNN example, more later.  \n",
    "Next, let's look at the SamplerQNN."
   ]
  },
  {
   "cell_type": "markdown",
   "id": "f67d945e-b63c-445b-b2d4-6a491ae643e7",
   "metadata": {},
   "source": [
    "The SamplerQNN does not require a custom observable.  \n",
    "Instead, it takes samples from measuring the quantum circuit.  \n",
    "Can supply an interpret function and an output shape.  If the interpret fcn maps all bitstrings to 0 or 1, reduces scaling from exponential to constant. <br> <br>\n",
    "For the SamplerQNN, we will create a different circuit.  \n",
    "We will create a two-local circuit w/2 input parameters and 4 trainable weights."
   ]
  },
  {
   "cell_type": "code",
   "execution_count": 8,
   "id": "3c100ff1-9c8f-45f6-b2c6-328f4819c20e",
   "metadata": {},
   "outputs": [
    {
     "name": "stdout",
     "output_type": "stream",
     "text": [
      "input parameters: ['input[0]', 'input[1]']\n",
      "weight parameters: ['weight[0]', 'weight[1]', 'weight[2]', 'weight[3]']\n"
     ]
    },
    {
     "data": {
      "image/png": "[encoded data removed]",
      "text/plain": [
       "<Figure size 538.128x200.667 with 1 Axes>"
      ]
     },
     "execution_count": 8,
     "metadata": {},
     "output_type": "execute_result"
    }
   ],
   "source": [
    "from qiskit.circuit import ParameterVector\n",
    "\n",
    "inputs2 = ParameterVector(\"input\", 2)\n",
    "weights2 = ParameterVector(\"weight\", 4)\n",
    "print(f\"input parameters: {[str(item) for item in inputs2.params]}\")\n",
    "print(f\"weight parameters: {[str(item) for item in weights2.params]}\")\n",
    "\n",
    "qc2 = QuantumCircuit(2)\n",
    "qc2.ry(inputs2[0], 0)\n",
    "qc2.ry(inputs2[1], 1)\n",
    "qc2.cx(0, 1)\n",
    "qc2.ry(weights2[0], 0)\n",
    "qc2.ry(weights2[1], 1)\n",
    "qc2.cx(0, 1)\n",
    "qc2.ry(weights2[2], 0)\n",
    "qc2.ry(weights2[3], 1)\n",
    "\n",
    "qc2.draw(\"mpl\", style=\"clifford\")"
   ]
  },
  {
   "cell_type": "markdown",
   "id": "46146a28-4aec-436e-a67c-22a974bdac79",
   "metadata": {},
   "source": [
    "Again, we use the StatevectorSampler, in which case we don't need to specify a pass_manager.  It's also possible to specify input_gradients."
   ]
  },
  {
   "cell_type": "code",
   "execution_count": 10,
   "id": "4ffe6b8b-5df3-40a2-9bb3-ea4a35087ccd",
   "metadata": {},
   "outputs": [
    {
     "name": "stderr",
     "output_type": "stream",
     "text": [
      "No gradient function provided, creating a gradient function. If your Sampler requires transpilation, please provide a pass manager.\n"
     ]
    },
    {
     "data": {
      "text/plain": [
       "<qiskit_machine_learning.neural_networks.sampler_qnn.SamplerQNN at 0x2f034ac36b0>"
      ]
     },
     "execution_count": 10,
     "metadata": {},
     "output_type": "execute_result"
    }
   ],
   "source": [
    "from qiskit_machine_learning.neural_networks import SamplerQNN\n",
    "from qiskit.primitives import StatevectorSampler as Sampler\n",
    "\n",
    "sampler = Sampler()\n",
    "sampler_qnn = SamplerQNN(circuit=qc2, input_params=inputs2, weight_params=weights2, sampler=sampler)\n",
    "sampler_qnn"
   ]
  },
  {
   "cell_type": "code",
   "execution_count": null,
   "id": "cd1d2964-97c9-497d-a23a-93103de5ba57",
   "metadata": {},
   "outputs": [],
   "source": []
  }
 ],
 "metadata": {
  "kernelspec": {
   "display_name": "qk_qml",
   "language": "python",
   "name": "qk_qml"
  },
  "language_info": {
   "codemirror_mode": {
    "name": "ipython",
    "version": 3
   },
   "file_extension": ".py",
   "mimetype": "text/x-python",
   "name": "python",
   "nbconvert_exporter": "python",
   "pygments_lexer": "ipython3",
   "version": "3.12.8"
  }
 },
 "nbformat": 4,
 "nbformat_minor": 5
}
