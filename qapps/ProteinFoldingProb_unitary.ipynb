{
 "cells": [
  {
   "cell_type": "code",
   "execution_count": 1,
   "id": "a1c960b9-667d-425a-bb8c-6ee82f016375",
   "metadata": {},
   "outputs": [],
   "source": [
    "# import qiskit libraries\n",
    "from protein_folding.protein_folding_problem import ProteinFoldingProblem\n",
    "from protein_folding.peptide.peptide import Peptide\n",
    "from protein_folding.interactions.random_interaction import RandomInteraction\n",
    "from protein_folding.interactions.miyazawa_jernigan_interaction import MiyazawaJerniganInteraction\n",
    "from protein_folding.penalty_parameters import PenaltyParameters\n",
    "from qiskit.utils import algorithm_globals, QuantumInstance\n",
    "algorithm_globals.random_seed = 23\n",
    "from qiskit import QuantumCircuit"
   ]
  },
  {
   "cell_type": "code",
   "execution_count": 2,
   "id": "0d71f90e-288d-47aa-b216-c337bc6f19ce",
   "metadata": {},
   "outputs": [],
   "source": [
    "from qiskit.algorithms import TimeEvolutionProblem"
   ]
  },
  {
   "cell_type": "code",
   "execution_count": 32,
   "id": "4ede6740-2bb6-44a8-8761-79a91e5d6591",
   "metadata": {},
   "outputs": [
    {
     "name": "stdout",
     "output_type": "stream",
     "text": [
      "main_chain_len 5\n"
     ]
    }
   ],
   "source": [
    "# qiskit_research tutorial chain\n",
    "#main_chain = \"APRLRFY\"\n",
    "# use a shorter chain to look at a smaller qubit_op matrix (8x8)\n",
    "main_chain = \"APRLR\" \n",
    "main_chain_len = len(main_chain)\n",
    "print(\"main_chain_len\", main_chain_len)"
   ]
  },
  {
   "cell_type": "code",
   "execution_count": 33,
   "id": "5f81f8b5-3e94-4ed9-822c-84d0039e7f2a",
   "metadata": {},
   "outputs": [
    {
     "name": "stdout",
     "output_type": "stream",
     "text": [
      "2.5 * III\n",
      "- 2.5 * ZII\n",
      "+ 2.5 * IZZ\n",
      "- 2.5 * ZZZ\n"
     ]
    }
   ],
   "source": [
    "side_chains = [\"\"] * main_chain_len\n",
    "random_interaction = RandomInteraction()\n",
    "mj_interaction = MiyazawaJerniganInteraction()\n",
    "penalty_back = 10\n",
    "penalty_chiral = 10\n",
    "penalty_1 = 10\n",
    "penalty_terms = PenaltyParameters(penalty_chiral, penalty_back, penalty_1)\n",
    "peptide = Peptide(main_chain, side_chains)\n",
    "protein_folding_problem = ProteinFoldingProblem(peptide, mj_interaction, penalty_terms)\n",
    "qubit_op = protein_folding_problem.qubit_op()\n",
    "print(qubit_op)"
   ]
  },
  {
   "cell_type": "code",
   "execution_count": 34,
   "id": "83d7bbec-ea03-48b0-a605-68606f62ad4c",
   "metadata": {},
   "outputs": [
    {
     "name": "stdout",
     "output_type": "stream",
     "text": [
      "3 8\n"
     ]
    }
   ],
   "source": [
    "print(qubit_op.num_qubits, 2**qubit_op.num_qubits)"
   ]
  },
  {
   "cell_type": "code",
   "execution_count": 35,
   "id": "027fc6fd-6bb8-4b68-ba5d-88060fa6d763",
   "metadata": {},
   "outputs": [
    {
     "data": {
      "text/plain": [
       "array([[ 0.+0.j,  0.+0.j,  0.+0.j,  0.+0.j,  0.+0.j,  0.+0.j,  0.+0.j,\n",
       "         0.+0.j],\n",
       "       [ 0.+0.j,  0.+0.j,  0.+0.j,  0.+0.j,  0.+0.j,  0.+0.j,  0.+0.j,\n",
       "         0.+0.j],\n",
       "       [ 0.+0.j,  0.+0.j,  0.+0.j,  0.+0.j,  0.+0.j,  0.+0.j,  0.+0.j,\n",
       "         0.+0.j],\n",
       "       [ 0.+0.j,  0.+0.j,  0.+0.j,  0.+0.j,  0.+0.j,  0.+0.j,  0.+0.j,\n",
       "         0.+0.j],\n",
       "       [ 0.+0.j,  0.+0.j,  0.+0.j,  0.+0.j, 10.+0.j,  0.+0.j,  0.+0.j,\n",
       "         0.+0.j],\n",
       "       [ 0.+0.j,  0.+0.j,  0.+0.j,  0.+0.j,  0.+0.j,  0.+0.j,  0.+0.j,\n",
       "         0.+0.j],\n",
       "       [ 0.+0.j,  0.+0.j,  0.+0.j,  0.+0.j,  0.+0.j,  0.+0.j,  0.+0.j,\n",
       "         0.+0.j],\n",
       "       [ 0.+0.j,  0.+0.j,  0.+0.j,  0.+0.j,  0.+0.j,  0.+0.j,  0.+0.j,\n",
       "        10.+0.j]])"
      ]
     },
     "execution_count": 35,
     "metadata": {},
     "output_type": "execute_result"
    }
   ],
   "source": [
    "qubit_op_matrix = qubit_op.to_matrix()\n",
    "qubit_op_matrix"
   ]
  },
  {
   "cell_type": "code",
   "execution_count": 36,
   "id": "fa4fc355-78cd-473c-ab67-6c0d8b84d6d9",
   "metadata": {},
   "outputs": [
    {
     "name": "stdout",
     "output_type": "stream",
     "text": [
      "length of main chain: 5\n"
     ]
    },
    {
     "ename": "ExtensionError",
     "evalue": "'Input matrix is not unitary.'",
     "output_type": "error",
     "traceback": [
      "\u001b[1;31m---------------------------------------------------------------------------\u001b[0m",
      "\u001b[1;31mExtensionError\u001b[0m                            Traceback (most recent call last)",
      "Cell \u001b[1;32mIn[36], line 9\u001b[0m\n\u001b[0;32m      7\u001b[0m     \u001b[38;5;28mprint\u001b[39m(\u001b[38;5;124m\"\u001b[39m\u001b[38;5;124mlength of main chain:\u001b[39m\u001b[38;5;124m\"\u001b[39m, length_main_chain)\n\u001b[0;32m      8\u001b[0m     qc_qubit_op \u001b[38;5;241m=\u001b[39m QuantumCircuit(\u001b[38;5;241m3\u001b[39m)\n\u001b[1;32m----> 9\u001b[0m     \u001b[43mqc_qubit_op\u001b[49m\u001b[38;5;241;43m.\u001b[39;49m\u001b[43munitary\u001b[49m\u001b[43m(\u001b[49m\u001b[43mqubit_op_matrix\u001b[49m\u001b[43m,\u001b[49m\u001b[43m \u001b[49m\u001b[43m[\u001b[49m\u001b[38;5;241;43m0\u001b[39;49m\u001b[43m,\u001b[49m\u001b[38;5;241;43m1\u001b[39;49m\u001b[43m,\u001b[49m\u001b[38;5;241;43m2\u001b[39;49m\u001b[43m]\u001b[49m\u001b[43m)\u001b[49m\n\u001b[0;32m     10\u001b[0m \u001b[38;5;28;01melse\u001b[39;00m:\n\u001b[0;32m     11\u001b[0m     \u001b[38;5;28mprint\u001b[39m(\u001b[38;5;124m\"\u001b[39m\u001b[38;5;124munexpected length of main_chain\u001b[39m\u001b[38;5;124m\"\u001b[39m, length_main_chain)\n",
      "File \u001b[1;32m~\\miniconda3\\envs\\qa2_py39\\lib\\site-packages\\qiskit\\extensions\\unitary.py:246\u001b[0m, in \u001b[0;36munitary\u001b[1;34m(self, obj, qubits, label)\u001b[0m\n\u001b[0;32m    217\u001b[0m \u001b[38;5;28;01mdef\u001b[39;00m \u001b[38;5;21munitary\u001b[39m(\u001b[38;5;28mself\u001b[39m, obj, qubits, label\u001b[38;5;241m=\u001b[39m\u001b[38;5;28;01mNone\u001b[39;00m):\n\u001b[0;32m    218\u001b[0m \u001b[38;5;250m    \u001b[39m\u001b[38;5;124;03m\"\"\"Apply unitary gate specified by ``obj`` to ``qubits``.\u001b[39;00m\n\u001b[0;32m    219\u001b[0m \n\u001b[0;32m    220\u001b[0m \u001b[38;5;124;03m    Args:\u001b[39;00m\n\u001b[1;32m   (...)\u001b[0m\n\u001b[0;32m    244\u001b[0m \u001b[38;5;124;03m            circuit.unitary(matrix, [0, 1])\u001b[39;00m\n\u001b[0;32m    245\u001b[0m \u001b[38;5;124;03m    \"\"\"\u001b[39;00m\n\u001b[1;32m--> 246\u001b[0m     gate \u001b[38;5;241m=\u001b[39m \u001b[43mUnitaryGate\u001b[49m\u001b[43m(\u001b[49m\u001b[43mobj\u001b[49m\u001b[43m,\u001b[49m\u001b[43m \u001b[49m\u001b[43mlabel\u001b[49m\u001b[38;5;241;43m=\u001b[39;49m\u001b[43mlabel\u001b[49m\u001b[43m)\u001b[49m\n\u001b[0;32m    247\u001b[0m     \u001b[38;5;28;01mif\u001b[39;00m \u001b[38;5;28misinstance\u001b[39m(qubits, QuantumRegister):\n\u001b[0;32m    248\u001b[0m         qubits \u001b[38;5;241m=\u001b[39m qubits[:]\n",
      "File \u001b[1;32m~\\miniconda3\\envs\\qa2_py39\\lib\\site-packages\\qiskit\\extensions\\unitary.py:83\u001b[0m, in \u001b[0;36mUnitaryGate.__init__\u001b[1;34m(self, data, label)\u001b[0m\n\u001b[0;32m     81\u001b[0m \u001b[38;5;66;03m# Check input is unitary\u001b[39;00m\n\u001b[0;32m     82\u001b[0m \u001b[38;5;28;01mif\u001b[39;00m \u001b[38;5;129;01mnot\u001b[39;00m is_unitary_matrix(data):\n\u001b[1;32m---> 83\u001b[0m     \u001b[38;5;28;01mraise\u001b[39;00m ExtensionError(\u001b[38;5;124m\"\u001b[39m\u001b[38;5;124mInput matrix is not unitary.\u001b[39m\u001b[38;5;124m\"\u001b[39m)\n\u001b[0;32m     84\u001b[0m \u001b[38;5;66;03m# Check input is N-qubit matrix\u001b[39;00m\n\u001b[0;32m     85\u001b[0m input_dim, output_dim \u001b[38;5;241m=\u001b[39m data\u001b[38;5;241m.\u001b[39mshape\n",
      "\u001b[1;31mExtensionError\u001b[0m: 'Input matrix is not unitary.'"
     ]
    }
   ],
   "source": [
    "length_main_chain = len(main_chain)\n",
    "if length_main_chain == 7:\n",
    "    print(\"length of main chain:\", length_main_chain)\n",
    "    qc_qubit_op = QuantumCircuit(6)\n",
    "    qc_qubit_op.unitary(qubit_op_matrix, [0,1,2,3,4,5])\n",
    "elif length_main_chain == 5:\n",
    "    print(\"length of main chain:\", length_main_chain)\n",
    "    qc_qubit_op = QuantumCircuit(3)\n",
    "    qc_qubit_op.unitary(qubit_op_matrix, [0,1,2])\n",
    "else:\n",
    "    print(\"unexpected length of main_chain\", length_main_chain)"
   ]
  },
  {
   "cell_type": "code",
   "execution_count": null,
   "id": "0f24e408-54db-4a99-81f8-c33667d047e2",
   "metadata": {},
   "outputs": [],
   "source": []
  }
 ],
 "metadata": {
  "kernelspec": {
   "display_name": "qa2_py39",
   "language": "python",
   "name": "qa2_py39"
  },
  "language_info": {
   "codemirror_mode": {
    "name": "ipython",
    "version": 3
   },
   "file_extension": ".py",
   "mimetype": "text/x-python",
   "name": "python",
   "nbconvert_exporter": "python",
   "pygments_lexer": "ipython3",
   "version": "3.9.18"
  }
 },
 "nbformat": 4,
 "nbformat_minor": 5
}
