{
 "cells": [
  {
   "cell_type": "code",
   "execution_count": 2,
   "id": "4a06cd11-0b07-4863-a054-a6aaeb2fdf89",
   "metadata": {},
   "outputs": [],
   "source": [
    "from protein_folding.protein_folding_problem import ProteinFoldingProblem\n",
    "from protein_folding.peptide.peptide import Peptide\n",
    "from protein_folding.interactions.random_interaction import RandomInteraction\n",
    "from protein_folding.interactions.miyazawa_jernigan_interaction import MiyazawaJerniganInteraction\n",
    "from protein_folding.penalty_parameters import PenaltyParameters\n",
    "from qiskit.utils import algorithm_globals, QuantumInstance\n",
    "algorithm_globals.random_seed = 23"
   ]
  },
  {
   "cell_type": "code",
   "execution_count": 33,
   "id": "53dc816a-1610-46f4-8b2c-3c277ef6a8ff",
   "metadata": {},
   "outputs": [
    {
     "name": "stdout",
     "output_type": "stream",
     "text": [
      "main_chain_len 6\n"
     ]
    }
   ],
   "source": [
    "# qiskit_research tutorial chain\n",
    "# main_chain = \"APRLRFY\" \n",
    "# main_chain = \"APRLR\" \n",
    "# fractal analytics Alzheimer's enzyme related chain\n",
    "main_chain = \"YPYFIP\"\n",
    "main_chain_len = len(main_chain)\n",
    "print(\"main_chain_len\", main_chain_len)"
   ]
  },
  {
   "cell_type": "code",
   "execution_count": 34,
   "id": "27fe3087-a64e-4f33-9202-b15638058474",
   "metadata": {},
   "outputs": [
    {
     "name": "stdout",
     "output_type": "stream",
     "text": [
      "929.4905 * IIIIII\n",
      "+ 300.0 * IIIZII\n",
      "- 97.5 * IIIIZZ\n",
      "+ 97.5 * IIIZZZ\n",
      "- 100.0 * IZIZII\n",
      "- 100.0 * IIZIZI\n",
      "- 100.0 * IZZZZI\n",
      "+ 202.5 * IIIZZI\n",
      "- 310.0 * IZIIII\n",
      "- 207.5 * IZZIII\n",
      "+ 205.0 * IIIIIZ\n",
      "+ 102.5 * IIZIIZ\n",
      "- 102.5 * IZZIIZ\n",
      "- 924.4905 * ZIIIII\n",
      "- 302.5 * ZIIZII\n",
      "- 202.5 * ZIIZZI\n",
      "+ 310.0 * ZZIIII\n",
      "+ 207.5 * ZZZIII\n",
      "+ 102.5 * ZZIZII\n",
      "+ 102.5 * ZIZIZI\n",
      "+ 102.5 * ZZZZZI\n",
      "- 205.0 * ZIIIIZ\n",
      "+ 100.0 * ZIIIZZ\n",
      "- 100.0 * ZIIZZZ\n",
      "- 102.5 * ZIZIIZ\n",
      "+ 102.5 * ZZZIIZ\n",
      "- 2.5 * IIIIZI\n",
      "+ 2.5 * IIZIII\n",
      "+ 2.5 * ZIIIZI\n",
      "- 2.5 * ZIZIII\n"
     ]
    }
   ],
   "source": [
    "side_chains = [\"\"] * main_chain_len\n",
    "random_interaction = RandomInteraction()\n",
    "mj_interaction = MiyazawaJerniganInteraction()\n",
    "penalty_back = 10\n",
    "penalty_chiral = 10\n",
    "penalty_1 = 10\n",
    "penalty_terms = PenaltyParameters(penalty_chiral, penalty_back, penalty_1)\n",
    "peptide = Peptide(main_chain, side_chains)\n",
    "protein_folding_problem = ProteinFoldingProblem(peptide, mj_interaction, penalty_terms)\n",
    "qubit_op = protein_folding_problem.qubit_op()\n",
    "print(qubit_op)"
   ]
  },
  {
   "cell_type": "code",
   "execution_count": 37,
   "id": "cea2b73c-ddb6-4b41-86f3-e18b9a312803",
   "metadata": {},
   "outputs": [
    {
     "name": "stdout",
     "output_type": "stream",
     "text": [
      "6 64\n"
     ]
    }
   ],
   "source": [
    "print(qubit_op.num_qubits, 2**qubit_op.num_qubits)"
   ]
  },
  {
   "cell_type": "code",
   "execution_count": 38,
   "id": "080cbb52-839b-4791-8649-bfe28f6c8ccc",
   "metadata": {},
   "outputs": [
    {
     "name": "stdout",
     "output_type": "stream",
     "text": [
      "<class 'numpy.ndarray'>\n",
      "(64, 64)\n"
     ]
    }
   ],
   "source": [
    "qubit_op_matrix = qubit_op.to_matrix()\n",
    "print(type(qubit_op_matrix))\n",
    "print(qubit_op_matrix.shape)\n",
    "#qubit_op_matrix"
   ]
  },
  {
   "cell_type": "code",
   "execution_count": 39,
   "id": "3664ee1a-4f6b-4014-9f29-f898be2c7e08",
   "metadata": {},
   "outputs": [
    {
     "data": {
      "text/plain": [
       "array([[2.20264658e+04+0.j, 0.00000000e+00+0.j, 0.00000000e+00+0.j, ...,\n",
       "        0.00000000e+00+0.j, 0.00000000e+00+0.j, 0.00000000e+00+0.j],\n",
       "       [0.00000000e+00+0.j, 2.20264658e+04+0.j, 0.00000000e+00+0.j, ...,\n",
       "        0.00000000e+00+0.j, 0.00000000e+00+0.j, 0.00000000e+00+0.j],\n",
       "       [0.00000000e+00+0.j, 0.00000000e+00+0.j, 1.00000000e+00+0.j, ...,\n",
       "        0.00000000e+00+0.j, 0.00000000e+00+0.j, 0.00000000e+00+0.j],\n",
       "       ...,\n",
       "       [0.00000000e+00+0.j, 0.00000000e+00+0.j, 0.00000000e+00+0.j, ...,\n",
       "                   inf+0.j, 0.00000000e+00+0.j, 0.00000000e+00+0.j],\n",
       "       [0.00000000e+00+0.j, 0.00000000e+00+0.j, 0.00000000e+00+0.j, ...,\n",
       "        0.00000000e+00+0.j,            inf+0.j, 0.00000000e+00+0.j],\n",
       "       [0.00000000e+00+0.j, 0.00000000e+00+0.j, 0.00000000e+00+0.j, ...,\n",
       "        0.00000000e+00+0.j, 0.00000000e+00+0.j,            inf+0.j]])"
      ]
     },
     "execution_count": 39,
     "metadata": {},
     "output_type": "execute_result"
    }
   ],
   "source": [
    "import scipy.linalg as la\n",
    "qubit_op_unitary = la.expm(qubit_op_matrix)\n",
    "qubit_op_unitary"
   ]
  },
  {
   "cell_type": "code",
   "execution_count": 40,
   "id": "cf2011ef-b98d-4432-a418-95235be0b770",
   "metadata": {},
   "outputs": [
    {
     "name": "stdout",
     "output_type": "stream",
     "text": [
      "SamplingMinimumEigensolverResult:\n",
      "\tEigenvalue: -1.0190000000001191\n",
      "\tBest measurement\n",
      ": {'state': 37, 'bitstring': '100101', 'value': (-1.0190000000001191+0j), 'probability': 0.3103856826285104}\n",
      "\n"
     ]
    }
   ],
   "source": [
    "from qiskit.circuit.library import RealAmplitudes\n",
    "from qiskit.algorithms.optimizers import COBYLA\n",
    "from qiskit.algorithms import NumPyMinimumEigensolver\n",
    "from qiskit.algorithms.minimum_eigensolvers import SamplingVQE\n",
    "from qiskit import execute, Aer\n",
    "from qiskit.primitives import Sampler\n",
    "\n",
    "# set classical optimizer\n",
    "optimizer = COBYLA(maxiter=50)\n",
    "\n",
    "# set variational ansatz\n",
    "ansatz = RealAmplitudes(reps=1)\n",
    "\n",
    "counts = []\n",
    "values = []\n",
    "\n",
    "\n",
    "def store_intermediate_result(eval_count, parameters, mean, std):\n",
    "    counts.append(eval_count)\n",
    "    values.append(mean)\n",
    "\n",
    "\n",
    "# initialize VQE using CVaR with alpha = 0.1\n",
    "vqe = SamplingVQE(\n",
    "    Sampler(),\n",
    "    ansatz=ansatz,\n",
    "    optimizer=optimizer,\n",
    "    aggregation=0.1,\n",
    "    callback=store_intermediate_result,\n",
    ")\n",
    "\n",
    "raw_result = vqe.compute_minimum_eigenvalue(qubit_op)\n",
    "print(raw_result)"
   ]
  },
  {
   "cell_type": "code",
   "execution_count": 41,
   "id": "b548c8bc-491e-4fd9-aae5-2540b84de4ce",
   "metadata": {},
   "outputs": [],
   "source": [
    "from qiskit import QuantumCircuit\n",
    "from qiskit.algorithms import IterativePhaseEstimation"
   ]
  },
  {
   "cell_type": "code",
   "execution_count": 42,
   "id": "428a5e6a-e907-4358-b1fb-43ec53259f5e",
   "metadata": {},
   "outputs": [],
   "source": [
    "num_iterations = 3\n",
    "quantum_instance = None\n",
    "qc = QuantumCircuit()\n",
    "sampler = Sampler()\n",
    "ipe = IterativePhaseEstimation(num_iterations, quantum_instance, sampler)"
   ]
  },
  {
   "cell_type": "code",
   "execution_count": 44,
   "id": "ecae36d9-006e-4f10-8662-621ae00281b9",
   "metadata": {},
   "outputs": [
    {
     "data": {
      "text/plain": [
       "False"
      ]
     },
     "execution_count": 44,
     "metadata": {},
     "output_type": "execute_result"
    }
   ],
   "source": [
    "import numpy as np\n",
    "m = qubit_op_matrix\n",
    "np.allclose(np.eye(len(m)), m.dot(m.T.conj()))"
   ]
  },
  {
   "cell_type": "code",
   "execution_count": 45,
   "id": "bae36797-dae2-457c-9223-24843a53b25c",
   "metadata": {},
   "outputs": [
    {
     "data": {
      "text/plain": [
       "False"
      ]
     },
     "execution_count": 45,
     "metadata": {},
     "output_type": "execute_result"
    }
   ],
   "source": [
    "m = qubit_op_unitary\n",
    "np.allclose(np.eye(len(m)), m.dot(m.T.conj()))"
   ]
  },
  {
   "cell_type": "code",
   "execution_count": 46,
   "id": "d2f9ddaf-5c1e-4e42-8906-f06737d0ad5c",
   "metadata": {},
   "outputs": [
    {
     "ename": "ExtensionError",
     "evalue": "'Input matrix is not unitary.'",
     "output_type": "error",
     "traceback": [
      "\u001b[1;31m---------------------------------------------------------------------------\u001b[0m",
      "\u001b[1;31mExtensionError\u001b[0m                            Traceback (most recent call last)",
      "Cell \u001b[1;32mIn[46], line 2\u001b[0m\n\u001b[0;32m      1\u001b[0m qc_qubit_op \u001b[38;5;241m=\u001b[39m QuantumCircuit(\u001b[38;5;241m3\u001b[39m)\n\u001b[1;32m----> 2\u001b[0m \u001b[43mqc_qubit_op\u001b[49m\u001b[38;5;241;43m.\u001b[39;49m\u001b[43munitary\u001b[49m\u001b[43m(\u001b[49m\u001b[43mqubit_op_unitary\u001b[49m\u001b[43m,\u001b[49m\u001b[43m \u001b[49m\u001b[43m[\u001b[49m\u001b[38;5;241;43m0\u001b[39;49m\u001b[43m,\u001b[49m\u001b[38;5;241;43m1\u001b[39;49m\u001b[43m,\u001b[49m\u001b[38;5;241;43m2\u001b[39;49m\u001b[43m]\u001b[49m\u001b[43m)\u001b[49m\n\u001b[0;32m      3\u001b[0m \u001b[38;5;28mprint\u001b[39m(\u001b[38;5;28mtype\u001b[39m(qc_qubit_op))\n",
      "File \u001b[1;32m~\\miniconda3\\envs\\qa2_py39\\lib\\site-packages\\qiskit\\extensions\\unitary.py:246\u001b[0m, in \u001b[0;36munitary\u001b[1;34m(self, obj, qubits, label)\u001b[0m\n\u001b[0;32m    217\u001b[0m \u001b[38;5;28;01mdef\u001b[39;00m \u001b[38;5;21munitary\u001b[39m(\u001b[38;5;28mself\u001b[39m, obj, qubits, label\u001b[38;5;241m=\u001b[39m\u001b[38;5;28;01mNone\u001b[39;00m):\n\u001b[0;32m    218\u001b[0m \u001b[38;5;250m    \u001b[39m\u001b[38;5;124;03m\"\"\"Apply unitary gate specified by ``obj`` to ``qubits``.\u001b[39;00m\n\u001b[0;32m    219\u001b[0m \n\u001b[0;32m    220\u001b[0m \u001b[38;5;124;03m    Args:\u001b[39;00m\n\u001b[1;32m   (...)\u001b[0m\n\u001b[0;32m    244\u001b[0m \u001b[38;5;124;03m            circuit.unitary(matrix, [0, 1])\u001b[39;00m\n\u001b[0;32m    245\u001b[0m \u001b[38;5;124;03m    \"\"\"\u001b[39;00m\n\u001b[1;32m--> 246\u001b[0m     gate \u001b[38;5;241m=\u001b[39m \u001b[43mUnitaryGate\u001b[49m\u001b[43m(\u001b[49m\u001b[43mobj\u001b[49m\u001b[43m,\u001b[49m\u001b[43m \u001b[49m\u001b[43mlabel\u001b[49m\u001b[38;5;241;43m=\u001b[39;49m\u001b[43mlabel\u001b[49m\u001b[43m)\u001b[49m\n\u001b[0;32m    247\u001b[0m     \u001b[38;5;28;01mif\u001b[39;00m \u001b[38;5;28misinstance\u001b[39m(qubits, QuantumRegister):\n\u001b[0;32m    248\u001b[0m         qubits \u001b[38;5;241m=\u001b[39m qubits[:]\n",
      "File \u001b[1;32m~\\miniconda3\\envs\\qa2_py39\\lib\\site-packages\\qiskit\\extensions\\unitary.py:83\u001b[0m, in \u001b[0;36mUnitaryGate.__init__\u001b[1;34m(self, data, label)\u001b[0m\n\u001b[0;32m     81\u001b[0m \u001b[38;5;66;03m# Check input is unitary\u001b[39;00m\n\u001b[0;32m     82\u001b[0m \u001b[38;5;28;01mif\u001b[39;00m \u001b[38;5;129;01mnot\u001b[39;00m is_unitary_matrix(data):\n\u001b[1;32m---> 83\u001b[0m     \u001b[38;5;28;01mraise\u001b[39;00m ExtensionError(\u001b[38;5;124m\"\u001b[39m\u001b[38;5;124mInput matrix is not unitary.\u001b[39m\u001b[38;5;124m\"\u001b[39m)\n\u001b[0;32m     84\u001b[0m \u001b[38;5;66;03m# Check input is N-qubit matrix\u001b[39;00m\n\u001b[0;32m     85\u001b[0m input_dim, output_dim \u001b[38;5;241m=\u001b[39m data\u001b[38;5;241m.\u001b[39mshape\n",
      "\u001b[1;31mExtensionError\u001b[0m: 'Input matrix is not unitary.'"
     ]
    }
   ],
   "source": [
    "#qc_qubit_op = QuantumCircuit(3)\n",
    "#qc_qubit_op.unitary(qubit_op_unitary, [0,1,2])\n",
    "#print(type(qc_qubit_op))"
   ]
  },
  {
   "cell_type": "code",
   "execution_count": null,
   "id": "d7c5472f-1685-4b47-a4d0-dcda595872e7",
   "metadata": {},
   "outputs": [],
   "source": [
    "result = ipe.estimate(qc_qubit_op, ansatz)\n",
    "result"
   ]
  }
 ],
 "metadata": {
  "kernelspec": {
   "display_name": "qa2_py39",
   "language": "python",
   "name": "qa2_py39"
  },
  "language_info": {
   "codemirror_mode": {
    "name": "ipython",
    "version": 3
   },
   "file_extension": ".py",
   "mimetype": "text/x-python",
   "name": "python",
   "nbconvert_exporter": "python",
   "pygments_lexer": "ipython3",
   "version": "3.9.18"
  }
 },
 "nbformat": 4,
 "nbformat_minor": 5
}
