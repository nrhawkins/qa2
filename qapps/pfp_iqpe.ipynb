{
 "cells": [
  {
   "cell_type": "markdown",
   "id": "c22e1264-de3a-4505-8880-2fa1036cf94e",
   "metadata": {},
   "source": [
    "# Find the Protein Structure with the Minimum Energy\n",
    "\n",
    "<ol>\n",
    "\n",
    "<li>First, use the <b> ProteinFoldingProblem </b> approach outlined in: <br><br>\n",
    "npj Quantum Information 7 (2021), <i> Resource-efficient quantum algorithm for protein folding </i><br>\n",
    "by Anton Robert, Panagiotis Kl. Barkoutsos, Stefan Woerner & Ivano Tavernelli <br>\n",
    "<br></li>\n",
    "\n",
    "<li>Next, find the minimum energy using the <b>iQPE algorithm </b>. <br></li>\n",
    "\n",
    "</ol>"
   ]
  },
  {
   "cell_type": "markdown",
   "id": "61ab545b-706d-4c6c-b214-eec47ef9bf5c",
   "metadata": {},
   "source": [
    "## ProteinFoldingProblem approach"
   ]
  },
  {
   "cell_type": "code",
   "execution_count": 1,
   "id": "4a06cd11-0b07-4863-a054-a6aaeb2fdf89",
   "metadata": {},
   "outputs": [
    {
     "ename": "ImportError",
     "evalue": "Qiskit is installed in an invalid environment that has both Qiskit >=1.0 and an earlier version. You should create a new virtual environment, and ensure that you do not mix dependencies between Qiskit <1.0 and >=1.0. Any packages that depend on 'qiskit-terra' are not compatible with Qiskit 1.0 and will need to be updated. Qiskit unfortunately cannot enforce this requirement during environment resolution. See https://qisk.it/packaging-1-0 for more detail.",
     "output_type": "error",
     "traceback": [
      "\u001b[1;31m---------------------------------------------------------------------------\u001b[0m",
      "\u001b[1;31mImportError\u001b[0m                               Traceback (most recent call last)",
      "Cell \u001b[1;32mIn[1], line 1\u001b[0m\n\u001b[1;32m----> 1\u001b[0m \u001b[38;5;28;01mfrom\u001b[39;00m \u001b[38;5;21;01mprotein_folding\u001b[39;00m\u001b[38;5;21;01m.\u001b[39;00m\u001b[38;5;21;01mprotein_folding_problem\u001b[39;00m \u001b[38;5;28;01mimport\u001b[39;00m ProteinFoldingProblem\n\u001b[0;32m      2\u001b[0m \u001b[38;5;28;01mfrom\u001b[39;00m \u001b[38;5;21;01mprotein_folding\u001b[39;00m\u001b[38;5;21;01m.\u001b[39;00m\u001b[38;5;21;01mpeptide\u001b[39;00m\u001b[38;5;21;01m.\u001b[39;00m\u001b[38;5;21;01mpeptide\u001b[39;00m \u001b[38;5;28;01mimport\u001b[39;00m Peptide\n\u001b[0;32m      3\u001b[0m \u001b[38;5;28;01mfrom\u001b[39;00m \u001b[38;5;21;01mprotein_folding\u001b[39;00m\u001b[38;5;21;01m.\u001b[39;00m\u001b[38;5;21;01minteractions\u001b[39;00m\u001b[38;5;21;01m.\u001b[39;00m\u001b[38;5;21;01mrandom_interaction\u001b[39;00m \u001b[38;5;28;01mimport\u001b[39;00m RandomInteraction\n",
      "File \u001b[1;32m~\\miniconda3\\envs\\pf_py310\\lib\\site-packages\\protein_folding\\__init__.py:119\u001b[0m\n\u001b[0;32m    117\u001b[0m \u001b[38;5;28;01mfrom\u001b[39;00m \u001b[38;5;21;01m.\u001b[39;00m\u001b[38;5;21;01minteractions\u001b[39;00m\u001b[38;5;21;01m.\u001b[39;00m\u001b[38;5;21;01mmixed_interaction\u001b[39;00m \u001b[38;5;28;01mimport\u001b[39;00m MixedInteraction\n\u001b[0;32m    118\u001b[0m \u001b[38;5;28;01mfrom\u001b[39;00m \u001b[38;5;21;01m.\u001b[39;00m\u001b[38;5;21;01minteractions\u001b[39;00m\u001b[38;5;21;01m.\u001b[39;00m\u001b[38;5;21;01mmiyazawa_jernigan_interaction\u001b[39;00m \u001b[38;5;28;01mimport\u001b[39;00m MiyazawaJerniganInteraction\n\u001b[1;32m--> 119\u001b[0m \u001b[38;5;28;01mfrom\u001b[39;00m \u001b[38;5;21;01m.\u001b[39;00m\u001b[38;5;21;01minteractions\u001b[39;00m\u001b[38;5;21;01m.\u001b[39;00m\u001b[38;5;21;01mrandom_interaction\u001b[39;00m \u001b[38;5;28;01mimport\u001b[39;00m RandomInteraction\n\u001b[0;32m    120\u001b[0m \u001b[38;5;28;01mfrom\u001b[39;00m \u001b[38;5;21;01m.\u001b[39;00m\u001b[38;5;21;01mpenalty_parameters\u001b[39;00m \u001b[38;5;28;01mimport\u001b[39;00m PenaltyParameters\n\u001b[0;32m    121\u001b[0m \u001b[38;5;28;01mfrom\u001b[39;00m \u001b[38;5;21;01m.\u001b[39;00m\u001b[38;5;21;01mpeptide\u001b[39;00m\u001b[38;5;21;01m.\u001b[39;00m\u001b[38;5;21;01mchains\u001b[39;00m\u001b[38;5;21;01m.\u001b[39;00m\u001b[38;5;21;01mmain_chain\u001b[39;00m \u001b[38;5;28;01mimport\u001b[39;00m MainChain\n",
      "File \u001b[1;32m~\\miniconda3\\envs\\pf_py310\\lib\\site-packages\\protein_folding\\interactions\\random_interaction.py:13\u001b[0m\n\u001b[0;32m     10\u001b[0m \u001b[38;5;124;03m\"\"\"A class defining a random interaction between beads of a peptide.\"\"\"\u001b[39;00m\n\u001b[0;32m     12\u001b[0m \u001b[38;5;28;01mimport\u001b[39;00m \u001b[38;5;21;01mnumpy\u001b[39;00m \u001b[38;5;28;01mas\u001b[39;00m \u001b[38;5;21;01mnp\u001b[39;00m\n\u001b[1;32m---> 13\u001b[0m \u001b[38;5;28;01mfrom\u001b[39;00m \u001b[38;5;21;01mqiskit\u001b[39;00m\u001b[38;5;21;01m.\u001b[39;00m\u001b[38;5;21;01mutils\u001b[39;00m \u001b[38;5;28;01mimport\u001b[39;00m algorithm_globals\n\u001b[0;32m     15\u001b[0m \u001b[38;5;28;01mfrom\u001b[39;00m \u001b[38;5;21;01m.\u001b[39;00m\u001b[38;5;21;01minteraction\u001b[39;00m \u001b[38;5;28;01mimport\u001b[39;00m Interaction\n\u001b[0;32m     17\u001b[0m \u001b[38;5;66;03m# pylint: disable=too-few-public-methods\u001b[39;00m\n",
      "File \u001b[1;32m~\\miniconda3\\envs\\pf_py310\\lib\\site-packages\\qiskit\\__init__.py:36\u001b[0m\n\u001b[0;32m     34\u001b[0m     _suppress_error \u001b[38;5;241m=\u001b[39m os\u001b[38;5;241m.\u001b[39menviron\u001b[38;5;241m.\u001b[39mget(\u001b[38;5;124m\"\u001b[39m\u001b[38;5;124mQISKIT_SUPPRESS_1_0_IMPORT_ERROR\u001b[39m\u001b[38;5;124m\"\u001b[39m, \u001b[38;5;28;01mFalse\u001b[39;00m) \u001b[38;5;241m==\u001b[39m \u001b[38;5;124m\"\u001b[39m\u001b[38;5;124m1\u001b[39m\u001b[38;5;124m\"\u001b[39m\n\u001b[0;32m     35\u001b[0m     \u001b[38;5;28;01mif\u001b[39;00m \u001b[38;5;129;01mnot\u001b[39;00m _suppress_error \u001b[38;5;129;01mand\u001b[39;00m _has_tools:\n\u001b[1;32m---> 36\u001b[0m         \u001b[38;5;28;01mraise\u001b[39;00m \u001b[38;5;167;01mImportError\u001b[39;00m(\n\u001b[0;32m     37\u001b[0m             \u001b[38;5;124m\"\u001b[39m\u001b[38;5;124mQiskit is installed in an invalid environment that has both Qiskit >=1.0\u001b[39m\u001b[38;5;124m\"\u001b[39m\n\u001b[0;32m     38\u001b[0m             \u001b[38;5;124m\"\u001b[39m\u001b[38;5;124m and an earlier version.\u001b[39m\u001b[38;5;124m\"\u001b[39m\n\u001b[0;32m     39\u001b[0m             \u001b[38;5;124m\"\u001b[39m\u001b[38;5;124m You should create a new virtual environment, and ensure that you do not mix\u001b[39m\u001b[38;5;124m\"\u001b[39m\n\u001b[0;32m     40\u001b[0m             \u001b[38;5;124m\"\u001b[39m\u001b[38;5;124m dependencies between Qiskit <1.0 and >=1.0.\u001b[39m\u001b[38;5;124m\"\u001b[39m\n\u001b[0;32m     41\u001b[0m             \u001b[38;5;124m\"\u001b[39m\u001b[38;5;124m Any packages that depend on \u001b[39m\u001b[38;5;124m'\u001b[39m\u001b[38;5;124mqiskit-terra\u001b[39m\u001b[38;5;124m'\u001b[39m\u001b[38;5;124m are not compatible with Qiskit 1.0 and\u001b[39m\u001b[38;5;124m\"\u001b[39m\n\u001b[0;32m     42\u001b[0m             \u001b[38;5;124m\"\u001b[39m\u001b[38;5;124m will need to be updated.\u001b[39m\u001b[38;5;124m\"\u001b[39m\n\u001b[0;32m     43\u001b[0m             \u001b[38;5;124m\"\u001b[39m\u001b[38;5;124m Qiskit unfortunately cannot enforce this requirement during environment resolution.\u001b[39m\u001b[38;5;124m\"\u001b[39m\n\u001b[0;32m     44\u001b[0m             \u001b[38;5;124m\"\u001b[39m\u001b[38;5;124m See https://qisk.it/packaging-1-0 for more detail.\u001b[39m\u001b[38;5;124m\"\u001b[39m\n\u001b[0;32m     45\u001b[0m         )\n\u001b[0;32m     46\u001b[0m \u001b[38;5;28;01mif\u001b[39;00m sys\u001b[38;5;241m.\u001b[39mversion_info \u001b[38;5;241m<\u001b[39m (\u001b[38;5;241m3\u001b[39m, \u001b[38;5;241m9\u001b[39m):\n\u001b[0;32m     47\u001b[0m     warnings\u001b[38;5;241m.\u001b[39mwarn(\n\u001b[0;32m     48\u001b[0m         \u001b[38;5;124m\"\u001b[39m\u001b[38;5;124mUsing Qiskit with Python 3.8 is deprecated as of the 1.1.0 release. \u001b[39m\u001b[38;5;124m\"\u001b[39m\n\u001b[0;32m     49\u001b[0m         \u001b[38;5;124m\"\u001b[39m\u001b[38;5;124mSupport for running Qiskit with Python 3.8 will be removed in the \u001b[39m\u001b[38;5;124m\"\u001b[39m\n\u001b[0;32m     50\u001b[0m         \u001b[38;5;124m\"\u001b[39m\u001b[38;5;124m1.3.0 release, which coincides with when Python 3.8 goes end of life.\u001b[39m\u001b[38;5;124m\"\u001b[39m,\n\u001b[0;32m     51\u001b[0m         \u001b[38;5;167;01mDeprecationWarning\u001b[39;00m,\n\u001b[0;32m     52\u001b[0m     )\n",
      "\u001b[1;31mImportError\u001b[0m: Qiskit is installed in an invalid environment that has both Qiskit >=1.0 and an earlier version. You should create a new virtual environment, and ensure that you do not mix dependencies between Qiskit <1.0 and >=1.0. Any packages that depend on 'qiskit-terra' are not compatible with Qiskit 1.0 and will need to be updated. Qiskit unfortunately cannot enforce this requirement during environment resolution. See https://qisk.it/packaging-1-0 for more detail."
     ]
    }
   ],
   "source": [
    "from protein_folding.protein_folding_problem import ProteinFoldingProblem\n",
    "from protein_folding.peptide.peptide import Peptide\n",
    "from protein_folding.interactions.random_interaction import RandomInteraction\n",
    "from protein_folding.interactions.miyazawa_jernigan_interaction import MiyazawaJerniganInteraction\n",
    "from protein_folding.penalty_parameters import PenaltyParameters\n",
    "from qiskit.utils import algorithm_globals, QuantumInstance\n",
    "algorithm_globals.random_seed = 23"
   ]
  },
  {
   "cell_type": "markdown",
   "id": "cf523b20-1a5f-4267-affb-1e2965ad126a",
   "metadata": {},
   "source": [
    "### Define a ProteinFoldingProblem"
   ]
  },
  {
   "cell_type": "markdown",
   "id": "882c25fa-201b-4ad4-ad36-629e549faebb",
   "metadata": {},
   "source": [
    "#### Focus on a short peptide chain\n",
    "#### Don't include any side chains"
   ]
  },
  {
   "cell_type": "code",
   "execution_count": 25,
   "id": "53dc816a-1610-46f4-8b2c-3c277ef6a8ff",
   "metadata": {},
   "outputs": [
    {
     "name": "stdout",
     "output_type": "stream",
     "text": [
      "main_chain_len 6\n"
     ]
    }
   ],
   "source": [
    "# qiskit_research tutorial chain\n",
    "# main_chain = \"APRLRFY\" \n",
    "# main_chain = \"APRLR\" \n",
    "# fractal analytics Alzheimer's enzyme related chain\n",
    "main_chain = \"YPYFIP\"\n",
    "main_chain_len = len(main_chain)\n",
    "print(\"main_chain_len\", main_chain_len)\n",
    "side_chains = [\"\"] * main_chain_len\n",
    "peptide = Peptide(main_chain, side_chains)"
   ]
  },
  {
   "cell_type": "markdown",
   "id": "668c739f-50e9-4b7e-a094-b003fe08b2f8",
   "metadata": {},
   "source": [
    "#### Choose interaction type\n",
    "#### Assign structure penalties for folding back on itself and chirality"
   ]
  },
  {
   "cell_type": "code",
   "execution_count": 19,
   "id": "27fe3087-a64e-4f33-9202-b15638058474",
   "metadata": {},
   "outputs": [],
   "source": [
    "random_interaction = RandomInteraction()\n",
    "mj_interaction = MiyazawaJerniganInteraction()\n",
    "penalty_back = 10\n",
    "penalty_chiral = 10\n",
    "penalty_1 = 10\n",
    "penalty_terms = PenaltyParameters(penalty_chiral, penalty_back, penalty_1)"
   ]
  },
  {
   "cell_type": "markdown",
   "id": "c9a19a1b-be65-4686-8804-5af6204af1b5",
   "metadata": {},
   "source": [
    "#### Create the ProteinFoldingProblem"
   ]
  },
  {
   "cell_type": "code",
   "execution_count": null,
   "id": "74c3ed55-75b8-4b80-b6f8-3cb55328a6a7",
   "metadata": {},
   "outputs": [],
   "source": [
    "protein_folding_problem = ProteinFoldingProblem(peptide, mj_interaction, penalty_terms)"
   ]
  },
  {
   "cell_type": "markdown",
   "id": "eb35c5a4-aa88-4ea4-b3aa-bc68e12450a7",
   "metadata": {},
   "source": [
    "#### Get the Hamiltonian by calling the qubit_op method"
   ]
  },
  {
   "cell_type": "code",
   "execution_count": 21,
   "id": "624d7f61-6249-4cb9-b426-56008ecac6b0",
   "metadata": {},
   "outputs": [
    {
     "name": "stdout",
     "output_type": "stream",
     "text": [
      "<class 'qiskit.opflow.primitive_ops.pauli_sum_op.PauliSumOp'>\n",
      "929.4905 * IIIIII\n",
      "+ 300.0 * IIIZII\n",
      "- 97.5 * IIIIZZ\n",
      "+ 97.5 * IIIZZZ\n",
      "- 100.0 * IZIZII\n",
      "- 100.0 * IIZIZI\n",
      "- 100.0 * IZZZZI\n",
      "+ 202.5 * IIIZZI\n",
      "- 310.0 * IZIIII\n",
      "- 207.5 * IZZIII\n",
      "+ 205.0 * IIIIIZ\n",
      "+ 102.5 * IIZIIZ\n",
      "- 102.5 * IZZIIZ\n",
      "- 924.4905 * ZIIIII\n",
      "- 302.5 * ZIIZII\n",
      "- 202.5 * ZIIZZI\n",
      "+ 310.0 * ZZIIII\n",
      "+ 207.5 * ZZZIII\n",
      "+ 102.5 * ZZIZII\n",
      "+ 102.5 * ZIZIZI\n",
      "+ 102.5 * ZZZZZI\n",
      "- 205.0 * ZIIIIZ\n",
      "+ 100.0 * ZIIIZZ\n",
      "- 100.0 * ZIIZZZ\n",
      "- 102.5 * ZIZIIZ\n",
      "+ 102.5 * ZZZIIZ\n",
      "- 2.5 * IIIIZI\n",
      "+ 2.5 * IIZIII\n",
      "+ 2.5 * ZIIIZI\n",
      "- 2.5 * ZIZIII\n"
     ]
    }
   ],
   "source": [
    "qubit_op = protein_folding_problem.qubit_op()\n",
    "print(type(qubit_op))\n",
    "print(qubit_op)"
   ]
  },
  {
   "cell_type": "markdown",
   "id": "c7772770-ff17-4102-9cf8-8921ab2078d5",
   "metadata": {},
   "source": [
    "#### Verify the number of qubits used, and check the size of the operator matrix"
   ]
  },
  {
   "cell_type": "code",
   "execution_count": 4,
   "id": "cea2b73c-ddb6-4b41-86f3-e18b9a312803",
   "metadata": {},
   "outputs": [
    {
     "name": "stdout",
     "output_type": "stream",
     "text": [
      "6 64\n"
     ]
    }
   ],
   "source": [
    "print(qubit_op.num_qubits, 2**qubit_op.num_qubits)"
   ]
  },
  {
   "cell_type": "markdown",
   "id": "7e82d39d-8002-401e-a24a-e781f76b6389",
   "metadata": {},
   "source": [
    "#### Find the minimum energy and structure for that energy"
   ]
  },
  {
   "cell_type": "code",
   "execution_count": 8,
   "id": "cf2011ef-b98d-4432-a418-95235be0b770",
   "metadata": {},
   "outputs": [
    {
     "name": "stdout",
     "output_type": "stream",
     "text": [
      "SamplingMinimumEigensolverResult:\n",
      "\tEigenvalue: -1.0190000000001191\n",
      "\tBest measurement\n",
      ": {'state': 37, 'bitstring': '100101', 'value': (-1.0190000000001191+0j), 'probability': 0.223520808846322}\n",
      "\n"
     ]
    }
   ],
   "source": [
    "from qiskit.circuit.library import RealAmplitudes\n",
    "from qiskit.algorithms.optimizers import COBYLA\n",
    "from qiskit.algorithms import NumPyMinimumEigensolver\n",
    "from qiskit.algorithms.minimum_eigensolvers import SamplingVQE\n",
    "from qiskit import execute, Aer\n",
    "from qiskit.primitives import Sampler\n",
    "\n",
    "# set classical optimizer\n",
    "optimizer = COBYLA(maxiter=50)\n",
    "\n",
    "# set variational ansatz\n",
    "ansatz = RealAmplitudes(reps=1)\n",
    "\n",
    "counts = []\n",
    "values = []\n",
    "\n",
    "\n",
    "def store_intermediate_result(eval_count, parameters, mean, std):\n",
    "    counts.append(eval_count)\n",
    "    values.append(mean)\n",
    "\n",
    "\n",
    "# initialize VQE using CVaR with alpha = 0.1\n",
    "vqe = SamplingVQE(\n",
    "    Sampler(),\n",
    "    ansatz=ansatz,\n",
    "    optimizer=optimizer,\n",
    "    aggregation=0.1,\n",
    "    callback=store_intermediate_result,\n",
    ")\n",
    "\n",
    "raw_result = vqe.compute_minimum_eigenvalue(qubit_op)\n",
    "print(raw_result)"
   ]
  },
  {
   "cell_type": "markdown",
   "id": "4e25b714-a8f0-4829-97e7-c82d2fe1c170",
   "metadata": {},
   "source": [
    "## iQPE Approach"
   ]
  },
  {
   "cell_type": "markdown",
   "id": "b59907fd-720e-4335-8f3b-0dbd6a433374",
   "metadata": {},
   "source": [
    "#### We need an ansatz, and a unitary operator\n",
    "We can use the ansatz used in the ProteinFoldingProblem <br>\n",
    "We can get a unitary by exponentiating the Hamiltonian (qubit_op) from the ProteinFoldingProblem <br>\n",
    "We can create a TimeEvolutionProblem and evolve the Hamiltonian via TrotterQRTE to get a unitary as a circuit <br>"
   ]
  },
  {
   "cell_type": "code",
   "execution_count": 28,
   "id": "fc7f93c8-e6c8-41bb-9415-a8f25fe403a4",
   "metadata": {},
   "outputs": [],
   "source": [
    "from qiskit import QuantumCircuit\n",
    "from qiskit_algorithms import IterativePhaseEstimation"
   ]
  },
  {
   "cell_type": "code",
   "execution_count": 29,
   "id": "98a42754-ca1e-47d7-b0ed-db6841094096",
   "metadata": {},
   "outputs": [],
   "source": [
    "from qiskit_algorithms import TimeEvolutionProblem, TrotterQRTE\n",
    "from qiskit import BasicAer\n",
    "from qiskit.utils import QuantumInstance\n",
    "from qiskit.primitives import Estimator"
   ]
  },
  {
   "cell_type": "markdown",
   "id": "e0950a63-8902-40f8-aa1c-0c1db3629d17",
   "metadata": {},
   "source": [
    "#### Define the TimeEvolutionProblem"
   ]
  },
  {
   "cell_type": "code",
   "execution_count": 15,
   "id": "add55234-b776-42e5-b1ea-eddb14846190",
   "metadata": {},
   "outputs": [],
   "source": [
    "hamiltonian = qubit_op\n",
    "time = 1\n",
    "initial_state = ansatz\n",
    "#initial_state = None\n",
    "time_evo_problem = TimeEvolutionProblem(hamiltonian, time, initial_state)"
   ]
  },
  {
   "cell_type": "code",
   "execution_count": 30,
   "id": "1507f4ab-69ff-4159-ba7e-677fc8602caf",
   "metadata": {},
   "outputs": [
    {
     "ename": "TypeError",
     "evalue": "TrotterQRTE.__init__() got an unexpected keyword argument 'estimator'",
     "output_type": "error",
     "traceback": [
      "\u001b[1;31m---------------------------------------------------------------------------\u001b[0m",
      "\u001b[1;31mTypeError\u001b[0m                                 Traceback (most recent call last)",
      "Cell \u001b[1;32mIn[30], line 2\u001b[0m\n\u001b[0;32m      1\u001b[0m estimator \u001b[38;5;241m=\u001b[39m Estimator()\n\u001b[1;32m----> 2\u001b[0m trotter_qrte \u001b[38;5;241m=\u001b[39m \u001b[43mTrotterQRTE\u001b[49m\u001b[43m(\u001b[49m\u001b[43mestimator\u001b[49m\u001b[38;5;241;43m=\u001b[39;49m\u001b[43mestimator\u001b[49m\u001b[43m)\u001b[49m\n\u001b[0;32m      3\u001b[0m evolved_state \u001b[38;5;241m=\u001b[39m trotter_qrte\u001b[38;5;241m.\u001b[39mevolve(time_evo_problem)\u001b[38;5;241m.\u001b[39mevolved_state\n",
      "File \u001b[1;32m~\\miniconda3\\envs\\pf_py310\\lib\\site-packages\\qiskit\\utils\\deprecation.py:51\u001b[0m, in \u001b[0;36mdeprecate_function.<locals>.decorator.<locals>.wrapper\u001b[1;34m(*args, **kwargs)\u001b[0m\n\u001b[0;32m     48\u001b[0m \u001b[38;5;129m@functools\u001b[39m\u001b[38;5;241m.\u001b[39mwraps(func)\n\u001b[0;32m     49\u001b[0m \u001b[38;5;28;01mdef\u001b[39;00m \u001b[38;5;21mwrapper\u001b[39m(\u001b[38;5;241m*\u001b[39margs, \u001b[38;5;241m*\u001b[39m\u001b[38;5;241m*\u001b[39mkwargs):\n\u001b[0;32m     50\u001b[0m     warnings\u001b[38;5;241m.\u001b[39mwarn(msg, category\u001b[38;5;241m=\u001b[39mcategory, stacklevel\u001b[38;5;241m=\u001b[39mstacklevel)\n\u001b[1;32m---> 51\u001b[0m     \u001b[38;5;28;01mreturn\u001b[39;00m func(\u001b[38;5;241m*\u001b[39margs, \u001b[38;5;241m*\u001b[39m\u001b[38;5;241m*\u001b[39mkwargs)\n",
      "\u001b[1;31mTypeError\u001b[0m: TrotterQRTE.__init__() got an unexpected keyword argument 'estimator'"
     ]
    }
   ],
   "source": [
    "estimator = Estimator()\n",
    "trotter_qrte = TrotterQRTE(estimator=estimator)\n",
    "evolved_state = trotter_qrte.evolve(time_evo_problem).evolved_state"
   ]
  },
  {
   "cell_type": "markdown",
   "id": "88f2bdb1-b2f8-4e27-ab3e-18f38f97fa75",
   "metadata": {},
   "source": [
    "#### Define the TrotterQRTE"
   ]
  },
  {
   "cell_type": "code",
   "execution_count": 16,
   "id": "c5418527-689b-4d12-8973-65e80b425be1",
   "metadata": {},
   "outputs": [
    {
     "ename": "AttributeError",
     "evalue": "'TimeEvolutionProblem' object has no attribute 'param_value_dict'",
     "output_type": "error",
     "traceback": [
      "\u001b[1;31m---------------------------------------------------------------------------\u001b[0m",
      "\u001b[1;31mAttributeError\u001b[0m                            Traceback (most recent call last)",
      "Cell \u001b[1;32mIn[16], line 4\u001b[0m\n\u001b[0;32m      2\u001b[0m quantum_instance \u001b[38;5;241m=\u001b[39m QuantumInstance(backend\u001b[38;5;241m=\u001b[39mbackend)\n\u001b[0;32m      3\u001b[0m trotter_qrte \u001b[38;5;241m=\u001b[39m TrotterQRTE(quantum_instance\u001b[38;5;241m=\u001b[39mquantum_instance)\n\u001b[1;32m----> 4\u001b[0m evolved_state \u001b[38;5;241m=\u001b[39m \u001b[43mtrotter_qrte\u001b[49m\u001b[38;5;241;43m.\u001b[39;49m\u001b[43mevolve\u001b[49m\u001b[43m(\u001b[49m\u001b[43mtime_evo_problem\u001b[49m\u001b[43m)\u001b[49m\u001b[38;5;241m.\u001b[39mevolved_state\n\u001b[0;32m      5\u001b[0m \u001b[38;5;28mprint\u001b[39m(\u001b[38;5;28mtype\u001b[39m(evolved_state))\n",
      "File \u001b[1;32m~\\miniconda3\\envs\\pf_py310\\lib\\site-packages\\qiskit\\algorithms\\evolvers\\trotterization\\trotter_qrte.py:206\u001b[0m, in \u001b[0;36mTrotterQRTE.evolve\u001b[1;34m(self, evolution_problem)\u001b[0m\n\u001b[0;32m    201\u001b[0m     \u001b[38;5;28;01mraise\u001b[39;00m \u001b[38;5;167;01mValueError\u001b[39;00m(\n\u001b[0;32m    202\u001b[0m         \u001b[38;5;124m\"\u001b[39m\u001b[38;5;124mTrotterQRTE only accepts PauliOp | \u001b[39m\u001b[38;5;124m\"\u001b[39m\n\u001b[0;32m    203\u001b[0m         \u001b[38;5;124mf\u001b[39m\u001b[38;5;124m\"\u001b[39m\u001b[38;5;124mPauliSumOp | SummedOp, \u001b[39m\u001b[38;5;132;01m{\u001b[39;00m\u001b[38;5;28mtype\u001b[39m(hamiltonian)\u001b[38;5;132;01m}\u001b[39;00m\u001b[38;5;124m provided.\u001b[39m\u001b[38;5;124m\"\u001b[39m\n\u001b[0;32m    204\u001b[0m     )\n\u001b[0;32m    205\u001b[0m \u001b[38;5;28;01mif\u001b[39;00m \u001b[38;5;28misinstance\u001b[39m(hamiltonian, OperatorBase):\n\u001b[1;32m--> 206\u001b[0m     hamiltonian \u001b[38;5;241m=\u001b[39m hamiltonian\u001b[38;5;241m.\u001b[39mbind_parameters(\u001b[43mevolution_problem\u001b[49m\u001b[38;5;241;43m.\u001b[39;49m\u001b[43mparam_value_dict\u001b[49m)\n\u001b[0;32m    207\u001b[0m \u001b[38;5;28;01mif\u001b[39;00m \u001b[38;5;28misinstance\u001b[39m(hamiltonian, SummedOp):\n\u001b[0;32m    208\u001b[0m     hamiltonian \u001b[38;5;241m=\u001b[39m \u001b[38;5;28mself\u001b[39m\u001b[38;5;241m.\u001b[39m_summed_op_to_pauli_sum_op(hamiltonian)\n",
      "\u001b[1;31mAttributeError\u001b[0m: 'TimeEvolutionProblem' object has no attribute 'param_value_dict'"
     ]
    }
   ],
   "source": [
    "backend = BasicAer.get_backend(\"statevector_simulator\")\n",
    "quantum_instance = QuantumInstance(backend=backend)\n",
    "trotter_qrte = TrotterQRTE(quantum_instance=quantum_instance)\n",
    "evolved_state = trotter_qrte.evolve(time_evo_problem).evolved_state\n",
    "print(type(evolved_state))"
   ]
  },
  {
   "cell_type": "code",
   "execution_count": 42,
   "id": "428a5e6a-e907-4358-b1fb-43ec53259f5e",
   "metadata": {},
   "outputs": [],
   "source": [
    "num_iterations = 3\n",
    "quantum_instance = None\n",
    "qc = QuantumCircuit()\n",
    "sampler = Sampler()\n",
    "ipe = IterativePhaseEstimation(num_iterations, quantum_instance, sampler)"
   ]
  },
  {
   "cell_type": "code",
   "execution_count": 44,
   "id": "ecae36d9-006e-4f10-8662-621ae00281b9",
   "metadata": {},
   "outputs": [
    {
     "data": {
      "text/plain": [
       "False"
      ]
     },
     "execution_count": 44,
     "metadata": {},
     "output_type": "execute_result"
    }
   ],
   "source": [
    "import numpy as np\n",
    "m = qubit_op_matrix\n",
    "np.allclose(np.eye(len(m)), m.dot(m.T.conj()))"
   ]
  },
  {
   "cell_type": "code",
   "execution_count": 45,
   "id": "bae36797-dae2-457c-9223-24843a53b25c",
   "metadata": {},
   "outputs": [
    {
     "data": {
      "text/plain": [
       "False"
      ]
     },
     "execution_count": 45,
     "metadata": {},
     "output_type": "execute_result"
    }
   ],
   "source": [
    "m = qubit_op_unitary\n",
    "np.allclose(np.eye(len(m)), m.dot(m.T.conj()))"
   ]
  },
  {
   "cell_type": "code",
   "execution_count": 46,
   "id": "d2f9ddaf-5c1e-4e42-8906-f06737d0ad5c",
   "metadata": {},
   "outputs": [
    {
     "ename": "ExtensionError",
     "evalue": "'Input matrix is not unitary.'",
     "output_type": "error",
     "traceback": [
      "\u001b[1;31m---------------------------------------------------------------------------\u001b[0m",
      "\u001b[1;31mExtensionError\u001b[0m                            Traceback (most recent call last)",
      "Cell \u001b[1;32mIn[46], line 2\u001b[0m\n\u001b[0;32m      1\u001b[0m qc_qubit_op \u001b[38;5;241m=\u001b[39m QuantumCircuit(\u001b[38;5;241m3\u001b[39m)\n\u001b[1;32m----> 2\u001b[0m \u001b[43mqc_qubit_op\u001b[49m\u001b[38;5;241;43m.\u001b[39;49m\u001b[43munitary\u001b[49m\u001b[43m(\u001b[49m\u001b[43mqubit_op_unitary\u001b[49m\u001b[43m,\u001b[49m\u001b[43m \u001b[49m\u001b[43m[\u001b[49m\u001b[38;5;241;43m0\u001b[39;49m\u001b[43m,\u001b[49m\u001b[38;5;241;43m1\u001b[39;49m\u001b[43m,\u001b[49m\u001b[38;5;241;43m2\u001b[39;49m\u001b[43m]\u001b[49m\u001b[43m)\u001b[49m\n\u001b[0;32m      3\u001b[0m \u001b[38;5;28mprint\u001b[39m(\u001b[38;5;28mtype\u001b[39m(qc_qubit_op))\n",
      "File \u001b[1;32m~\\miniconda3\\envs\\qa2_py39\\lib\\site-packages\\qiskit\\extensions\\unitary.py:246\u001b[0m, in \u001b[0;36munitary\u001b[1;34m(self, obj, qubits, label)\u001b[0m\n\u001b[0;32m    217\u001b[0m \u001b[38;5;28;01mdef\u001b[39;00m \u001b[38;5;21munitary\u001b[39m(\u001b[38;5;28mself\u001b[39m, obj, qubits, label\u001b[38;5;241m=\u001b[39m\u001b[38;5;28;01mNone\u001b[39;00m):\n\u001b[0;32m    218\u001b[0m \u001b[38;5;250m    \u001b[39m\u001b[38;5;124;03m\"\"\"Apply unitary gate specified by ``obj`` to ``qubits``.\u001b[39;00m\n\u001b[0;32m    219\u001b[0m \n\u001b[0;32m    220\u001b[0m \u001b[38;5;124;03m    Args:\u001b[39;00m\n\u001b[1;32m   (...)\u001b[0m\n\u001b[0;32m    244\u001b[0m \u001b[38;5;124;03m            circuit.unitary(matrix, [0, 1])\u001b[39;00m\n\u001b[0;32m    245\u001b[0m \u001b[38;5;124;03m    \"\"\"\u001b[39;00m\n\u001b[1;32m--> 246\u001b[0m     gate \u001b[38;5;241m=\u001b[39m \u001b[43mUnitaryGate\u001b[49m\u001b[43m(\u001b[49m\u001b[43mobj\u001b[49m\u001b[43m,\u001b[49m\u001b[43m \u001b[49m\u001b[43mlabel\u001b[49m\u001b[38;5;241;43m=\u001b[39;49m\u001b[43mlabel\u001b[49m\u001b[43m)\u001b[49m\n\u001b[0;32m    247\u001b[0m     \u001b[38;5;28;01mif\u001b[39;00m \u001b[38;5;28misinstance\u001b[39m(qubits, QuantumRegister):\n\u001b[0;32m    248\u001b[0m         qubits \u001b[38;5;241m=\u001b[39m qubits[:]\n",
      "File \u001b[1;32m~\\miniconda3\\envs\\qa2_py39\\lib\\site-packages\\qiskit\\extensions\\unitary.py:83\u001b[0m, in \u001b[0;36mUnitaryGate.__init__\u001b[1;34m(self, data, label)\u001b[0m\n\u001b[0;32m     81\u001b[0m \u001b[38;5;66;03m# Check input is unitary\u001b[39;00m\n\u001b[0;32m     82\u001b[0m \u001b[38;5;28;01mif\u001b[39;00m \u001b[38;5;129;01mnot\u001b[39;00m is_unitary_matrix(data):\n\u001b[1;32m---> 83\u001b[0m     \u001b[38;5;28;01mraise\u001b[39;00m ExtensionError(\u001b[38;5;124m\"\u001b[39m\u001b[38;5;124mInput matrix is not unitary.\u001b[39m\u001b[38;5;124m\"\u001b[39m)\n\u001b[0;32m     84\u001b[0m \u001b[38;5;66;03m# Check input is N-qubit matrix\u001b[39;00m\n\u001b[0;32m     85\u001b[0m input_dim, output_dim \u001b[38;5;241m=\u001b[39m data\u001b[38;5;241m.\u001b[39mshape\n",
      "\u001b[1;31mExtensionError\u001b[0m: 'Input matrix is not unitary.'"
     ]
    }
   ],
   "source": [
    "#qc_qubit_op = QuantumCircuit(3)\n",
    "#qc_qubit_op.unitary(qubit_op_unitary, [0,1,2])\n",
    "#print(type(qc_qubit_op))"
   ]
  },
  {
   "cell_type": "code",
   "execution_count": null,
   "id": "d7c5472f-1685-4b47-a4d0-dcda595872e7",
   "metadata": {},
   "outputs": [],
   "source": [
    "result = ipe.estimate(qc_qubit_op, ansatz)\n",
    "result"
   ]
  }
 ],
 "metadata": {
  "kernelspec": {
   "display_name": "qk1_312",
   "language": "python",
   "name": "qk1_312"
  },
  "language_info": {
   "codemirror_mode": {
    "name": "ipython",
    "version": 3
   },
   "file_extension": ".py",
   "mimetype": "text/x-python",
   "name": "python",
   "nbconvert_exporter": "python",
   "pygments_lexer": "ipython3",
   "version": "3.12.3"
  }
 },
 "nbformat": 4,
 "nbformat_minor": 5
}
