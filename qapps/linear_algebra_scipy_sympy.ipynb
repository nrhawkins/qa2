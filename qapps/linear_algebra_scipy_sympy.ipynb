{
 "cells": [
  {
   "cell_type": "code",
   "execution_count": 1,
   "id": "41d68c17-90f5-4976-8ba1-4e15b6457258",
   "metadata": {},
   "outputs": [],
   "source": [
    "import numpy as np\n",
    "import scipy.linalg as la"
   ]
  },
  {
   "cell_type": "code",
   "execution_count": 12,
   "id": "b4b4b933-eb20-4c52-b863-b56496e054f8",
   "metadata": {},
   "outputs": [
    {
     "name": "stdout",
     "output_type": "stream",
     "text": [
      "[1.+0.j 1.+0.j]\n",
      "[[1. 0.]\n",
      " [0. 1.]]\n"
     ]
    }
   ],
   "source": [
    "A = np.array([[1, 0], [0, 1]])\n",
    "# extract eigenvalues 1 and 1, and eigenvectors [1, 0] and [0, 1] from A\n",
    "eigen_values, eigen_vectors = la.eig(A)\n",
    "print(eigen_values)\n",
    "print(eigen_vectors)"
   ]
  },
  {
   "cell_type": "code",
   "execution_count": 23,
   "id": "08301c28-74fe-4f46-a861-85ea65a60cbc",
   "metadata": {},
   "outputs": [
    {
     "name": "stdout",
     "output_type": "stream",
     "text": [
      "A is diag: True\n",
      "B is diag: False\n"
     ]
    }
   ],
   "source": [
    "from sympy import Matrix\n",
    "print(\"A is diag:\", Matrix(A).is_diagonalizable())\n",
    "B = np.array([[1, 1], [0, 1]])\n",
    "print(\"B is diag:\", Matrix(B).is_diagonalizable())"
   ]
  },
  {
   "cell_type": "code",
   "execution_count": 26,
   "id": "fb95841f-4bf7-4626-9bb8-bc94c3309177",
   "metadata": {},
   "outputs": [
    {
     "data": {
      "text/plain": [
       "array([[2.71828183, 0.        ],\n",
       "       [0.        , 2.71828183]])"
      ]
     },
     "execution_count": 26,
     "metadata": {},
     "output_type": "execute_result"
    }
   ],
   "source": [
    "expA = la.expm(A)\n",
    "expA"
   ]
  },
  {
   "cell_type": "code",
   "execution_count": 35,
   "id": "6129fb88-097d-4ea9-b1ca-f5ee6cd0d421",
   "metadata": {},
   "outputs": [
    {
     "name": "stdout",
     "output_type": "stream",
     "text": [
      "1.0 2.718281828459045 22026.465794806718\n"
     ]
    }
   ],
   "source": [
    "import math\n",
    "print(math.exp(0), math.exp(1), math.exp(10))"
   ]
  },
  {
   "cell_type": "code",
   "execution_count": 33,
   "id": "a41ef889-7ecf-4cf4-99e5-e8c4b7e2dbed",
   "metadata": {},
   "outputs": [
    {
     "data": {
      "text/plain": [
       "array([[2.71828183, 0.        , 0.        , 0.        ],\n",
       "       [0.        , 1.        , 0.        , 0.        ],\n",
       "       [0.        , 0.        , 1.        , 0.        ],\n",
       "       [0.        , 0.        , 0.        , 2.71828183]])"
      ]
     },
     "execution_count": 33,
     "metadata": {},
     "output_type": "execute_result"
    }
   ],
   "source": [
    "C = np.array([[1, 0, 0, 0], [0, 0, 0, 0], [0, 0, 0, 0], [0, 0, 0, 1]])\n",
    "expC = la.expm(C)\n",
    "expC"
   ]
  },
  {
   "cell_type": "code",
   "execution_count": null,
   "id": "bf220b7a-c84e-4210-a04a-0fde2eb5badd",
   "metadata": {},
   "outputs": [],
   "source": []
  }
 ],
 "metadata": {
  "kernelspec": {
   "display_name": "qa2_py39",
   "language": "python",
   "name": "qa2_py39"
  },
  "language_info": {
   "codemirror_mode": {
    "name": "ipython",
    "version": 3
   },
   "file_extension": ".py",
   "mimetype": "text/x-python",
   "name": "python",
   "nbconvert_exporter": "python",
   "pygments_lexer": "ipython3",
   "version": "3.9.18"
  }
 },
 "nbformat": 4,
 "nbformat_minor": 5
}
