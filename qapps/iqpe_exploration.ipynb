{
 "cells": [
  {
   "cell_type": "code",
   "execution_count": 1,
   "id": "3beac4ed-fb1c-476d-b8a0-d046cad98000",
   "metadata": {},
   "outputs": [],
   "source": [
    "import numpy as np\n",
    "from numpy.linalg import eig\n",
    "from qiskit import QuantumCircuit\n",
    "from qiskit_algorithms import IterativePhaseEstimation\n",
    "from qiskit.primitives import Sampler"
   ]
  },
  {
   "cell_type": "code",
   "execution_count": 2,
   "id": "6d3631e9-edc3-41d1-b320-8ef78d304314",
   "metadata": {},
   "outputs": [],
   "source": [
    "num_iterations = 3\n",
    "sampler = Sampler()\n",
    "ipe = IterativePhaseEstimation(num_iterations, sampler)"
   ]
  },
  {
   "cell_type": "code",
   "execution_count": 3,
   "id": "fe4e3f24-b4cb-48b6-8c86-4b1ea2e3ecee",
   "metadata": {},
   "outputs": [
    {
     "name": "stdout",
     "output_type": "stream",
     "text": [
      "unitary matrix:\n",
      " [[ 1  0  0  0]\n",
      " [ 0  0 -1  0]\n",
      " [ 0 -1  0  0]\n",
      " [ 0  0  0  1]]\n",
      "eigenvalue: [ 1. -1.  1.  1.]\n",
      "eigenvector: [[ 0.          0.          1.          0.        ]\n",
      " [-0.70710678  0.70710678  0.          0.        ]\n",
      " [ 0.70710678  0.70710678  0.          0.        ]\n",
      " [ 0.          0.          0.          1.        ]]\n"
     ]
    }
   ],
   "source": [
    "num_qubits = 2\n",
    "unitary_matrix = np.array([[1, 0, 0, 0], [0, 0, -1, 0], [0, -1, 0, 0], [0, 0, 0, 1]])\n",
    "print(\"unitary matrix:\\n\", unitary_matrix)\n",
    "eig_value, eig_vector = eig(unitary_matrix)\n",
    "print(\"eigenvalue:\", eig_value)\n",
    "print(\"eigenvector:\", eig_vector)"
   ]
  },
  {
   "cell_type": "code",
   "execution_count": 4,
   "id": "72507be3-216c-4796-b818-548c7c913160",
   "metadata": {},
   "outputs": [
    {
     "data": {
      "text/plain": [
       "True"
      ]
     },
     "execution_count": 4,
     "metadata": {},
     "output_type": "execute_result"
    }
   ],
   "source": [
    "# check if the unitary_matrix is actually unitary\n",
    "np.allclose(np.eye(len(unitary_matrix)), unitary_matrix.dot(unitary_matrix.T.conj()))"
   ]
  },
  {
   "cell_type": "code",
   "execution_count": 5,
   "id": "b2066505-513a-4af9-a4ed-6a450fad0d67",
   "metadata": {},
   "outputs": [
    {
     "name": "stdout",
     "output_type": "stream",
     "text": [
      "<class 'qiskit.circuit.quantumcircuit.QuantumCircuit'>\n"
     ]
    }
   ],
   "source": [
    "unitary_operator = QuantumCircuit(num_qubits)\n",
    "unitary_operator.unitary(unitary_matrix, [0, 1])\n",
    "print(type(unitary_operator))"
   ]
  },
  {
   "cell_type": "code",
   "execution_count": 6,
   "id": "a59b4606-58dc-4fcb-8ffb-4639584cc776",
   "metadata": {},
   "outputs": [],
   "source": [
    "ansatz = QuantumCircuit(num_qubits)"
   ]
  },
  {
   "cell_type": "code",
   "execution_count": 7,
   "id": "3499df9e-d076-42ae-8ec5-a9f6cd6da63b",
   "metadata": {},
   "outputs": [
    {
     "name": "stdout",
     "output_type": "stream",
     "text": [
      "phase: 0.0\n",
      "eigenvalue: 1.0\n"
     ]
    }
   ],
   "source": [
    "result = ipe.estimate(unitary_operator, ansatz)\n",
    "eigenvalue = np.exp(2*np.pi*result.phase)\n",
    "print(\"phase:\", result.phase)\n",
    "print(\"eigenvalue:\", eigenvalue)"
   ]
  },
  {
   "cell_type": "markdown",
   "id": "26023e18-6c79-442f-b34c-45219dc06af8",
   "metadata": {},
   "source": [
    "#### Single qubit S-gate example"
   ]
  },
  {
   "cell_type": "code",
   "execution_count": 8,
   "id": "8c2a7fb4-48d7-4125-8b8a-6eb31f78b3f4",
   "metadata": {},
   "outputs": [
    {
     "name": "stdout",
     "output_type": "stream",
     "text": [
      "unitary matrix:\n",
      " [[1.000000e+00+0.j 0.000000e+00+0.j 0.000000e+00+0.j 0.000000e+00+0.j]\n",
      " [0.000000e+00+0.j 1.000000e+00+0.j 0.000000e+00+0.j 0.000000e+00+0.j]\n",
      " [0.000000e+00+0.j 0.000000e+00+0.j 1.000000e+00+0.j 0.000000e+00+0.j]\n",
      " [0.000000e+00+0.j 0.000000e+00+0.j 0.000000e+00+0.j 6.123234e-17+1.j]]\n",
      "eigenvalue:\n",
      " [1.000000e+00+0.j 1.000000e+00+0.j 1.000000e+00+0.j 6.123234e-17+1.j]\n",
      "eigenvector:\n",
      " [[1.+0.j 0.+0.j 0.+0.j 0.+0.j]\n",
      " [0.+0.j 1.+0.j 0.+0.j 0.+0.j]\n",
      " [0.+0.j 0.+0.j 1.+0.j 0.+0.j]\n",
      " [0.+0.j 0.+0.j 0.+0.j 1.+0.j]]\n"
     ]
    }
   ],
   "source": [
    "# single qubit S-gate\n",
    "unitary_matrix = np.array([[1, 0, 0, 0], [0, 1, 0, 0], [0, 0, 1, 0], [0, 0, 0, np.exp(complex(0,np.pi/2))]])\n",
    "print(\"unitary matrix:\\n\", unitary_matrix)\n",
    "eig_value, eig_vector = eig(unitary_matrix)\n",
    "print(\"eigenvalue:\\n\", eig_value)\n",
    "print(\"eigenvector:\\n\", eig_vector)"
   ]
  },
  {
   "cell_type": "code",
   "execution_count": 9,
   "id": "4412f34f-e36a-45e6-a410-d9fba83a4c2b",
   "metadata": {},
   "outputs": [
    {
     "data": {
      "text/plain": [
       "True"
      ]
     },
     "execution_count": 9,
     "metadata": {},
     "output_type": "execute_result"
    }
   ],
   "source": [
    "# check if the unitary_matrix is actually unitary\n",
    "np.allclose(np.eye(len(unitary_matrix)), unitary_matrix.dot(unitary_matrix.T.conj()))"
   ]
  },
  {
   "cell_type": "code",
   "execution_count": 10,
   "id": "19bcfaf1-eb1c-403d-9824-0771a92c545f",
   "metadata": {},
   "outputs": [
    {
     "name": "stdout",
     "output_type": "stream",
     "text": [
      "<class 'qiskit.circuit.quantumcircuit.QuantumCircuit'>\n"
     ]
    }
   ],
   "source": [
    "unitary_operator = QuantumCircuit(2)\n",
    "unitary_operator.unitary(unitary_matrix, [0, 1])\n",
    "print(type(unitary_operator))"
   ]
  },
  {
   "cell_type": "code",
   "execution_count": 11,
   "id": "cad41f86-0f71-4159-b32c-52dcf9fd6168",
   "metadata": {},
   "outputs": [
    {
     "name": "stdout",
     "output_type": "stream",
     "text": [
      "<class 'qiskit.circuit.quantumcircuit.QuantumCircuit'>\n"
     ]
    }
   ],
   "source": [
    "ansatz = QuantumCircuit(2)\n",
    "ansatz.x(1)\n",
    "print(type(ansatz))"
   ]
  },
  {
   "cell_type": "code",
   "execution_count": 12,
   "id": "4725708c-1d60-4e09-9629-8fd1d00aa9fd",
   "metadata": {},
   "outputs": [
    {
     "name": "stdout",
     "output_type": "stream",
     "text": [
      "phase: 0.0\n",
      "eigenvalue: 1.0\n"
     ]
    }
   ],
   "source": [
    "result = ipe.estimate(unitary_operator, ansatz)\n",
    "eigenvalue = np.exp(2*np.pi*result.phase)\n",
    "print(\"phase:\", result.phase)\n",
    "print(\"eigenvalue:\", eigenvalue)"
   ]
  },
  {
   "cell_type": "code",
   "execution_count": null,
   "id": "6cb5193d-8ee7-4e84-b7c1-08178a49e8d8",
   "metadata": {},
   "outputs": [],
   "source": []
  }
 ],
 "metadata": {
  "kernelspec": {
   "display_name": "qk1_312",
   "language": "python",
   "name": "qk1_312"
  },
  "language_info": {
   "codemirror_mode": {
    "name": "ipython",
    "version": 3
   },
   "file_extension": ".py",
   "mimetype": "text/x-python",
   "name": "python",
   "nbconvert_exporter": "python",
   "pygments_lexer": "ipython3",
   "version": "3.12.3"
  }
 },
 "nbformat": 4,
 "nbformat_minor": 5
}
