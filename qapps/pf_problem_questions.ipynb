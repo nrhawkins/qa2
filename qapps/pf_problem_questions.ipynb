{
 "cells": [
  {
   "cell_type": "markdown",
   "id": "61f5c359",
   "metadata": {},
   "source": [
    "# The Protein Folding Problem"
   ]
  },
  {
   "cell_type": "markdown",
   "id": "bb78e866",
   "metadata": {},
   "source": [
    "What is the problem? <br>\n",
    "\n",
    "Is it a problem? <br>\n",
    "\n",
    "AlphaFold results <br>\n",
    "\n",
    "Can a QC help? <br>\n",
    "\n",
    "QC approaches <br>\n",
    "\n",
    "Fractal Analytics Results <br>\n",
    "\n",
    "Bilbao Spain Results <br>\n",
    "\n",
    "Research Proposal (UF)\n",
    "\n",
    "Qiskit Code <br>\n"
   ]
  },
  {
   "cell_type": "code",
   "execution_count": null,
   "id": "5a520b54",
   "metadata": {},
   "outputs": [],
   "source": []
  }
 ],
 "metadata": {
  "kernelspec": {
   "display_name": "osc_py39",
   "language": "python",
   "name": "osc_py39"
  },
  "language_info": {
   "codemirror_mode": {
    "name": "ipython",
    "version": 3
   },
   "file_extension": ".py",
   "mimetype": "text/x-python",
   "name": "python",
   "nbconvert_exporter": "python",
   "pygments_lexer": "ipython3",
   "version": "3.9.16"
  }
 },
 "nbformat": 4,
 "nbformat_minor": 5
}
