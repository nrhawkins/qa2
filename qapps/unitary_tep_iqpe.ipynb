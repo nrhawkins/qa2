{
 "cells": [
  {
   "cell_type": "markdown",
   "id": "9dc92036-5b8e-4dc5-848e-127f352f2970",
   "metadata": {},
   "source": [
    "## iQPE for protein folding problem"
   ]
  },
  {
   "cell_type": "code",
   "execution_count": 1,
   "id": "1e2242cb-c538-41f6-9808-a912cbbbc72f",
   "metadata": {},
   "outputs": [],
   "source": [
    "from math import cos, sin\n",
    "import numpy as np\n",
    "from qiskit import QuantumCircuit\n",
    "from qiskit.quantum_info import SparsePauliOp, Statevector\n",
    "from qiskit_algorithms import IterativePhaseEstimation, TimeEvolutionProblem, TrotterQRTE\n",
    "from qiskit.primitives import Sampler"
   ]
  },
  {
   "cell_type": "markdown",
   "id": "16a25fd4-f241-462a-9e84-d7139cf3a8ad",
   "metadata": {},
   "source": [
    "### Step 1: Get the unitary representing the Hamiltonian"
   ]
  },
  {
   "cell_type": "markdown",
   "id": "f16faa4e-912e-445d-a965-0f6c20535947",
   "metadata": {},
   "source": [
    "#### This is the Hamiltonian as a sum of Pauli ops that I obtained from the ProteinFoldingProblem for a peptide of length 5"
   ]
  },
  {
   "cell_type": "code",
   "execution_count": 2,
   "id": "4950efde-fc45-4778-b31e-75ed82fc8b13",
   "metadata": {},
   "outputs": [
    {
     "name": "stdout",
     "output_type": "stream",
     "text": [
      "hamiltonian SparsePauliOp(['III', 'ZII', 'IZZ', 'ZZZ'],\n",
      "              coeffs=[ 2.5+0.j, -2.5+0.j,  2.5+0.j, -2.5+0.j])\n"
     ]
    }
   ],
   "source": [
    "labels = [\"III\", \"ZII\", \"IZZ\", \"ZZZ\"]\n",
    "coefs = [2.5, -2.5, 2.5, -2.5]\n",
    "H = SparsePauliOp(labels, coefs)\n",
    "print(\"hamiltonian\", H)\n",
    "initial_state = Statevector.from_label(\"000\")\n",
    "# initial_state = QuantumCircuit(3)\n",
    "final_time = 1"
   ]
  },
  {
   "cell_type": "markdown",
   "id": "91781d2b-5088-466c-888e-d340fbc9b8eb",
   "metadata": {},
   "source": [
    "#### Define a TimeEvolutionProblem and evolve it using TrotterQRTE to get a unitary operator, evolved_state"
   ]
  },
  {
   "cell_type": "code",
   "execution_count": 3,
   "id": "6fb0a379-468f-4b3b-95b6-2439a445acc2",
   "metadata": {},
   "outputs": [
    {
     "name": "stdout",
     "output_type": "stream",
     "text": [
      "trotter_qrte is a: <class 'qiskit_algorithms.time_evolvers.time_evolution_result.TimeEvolutionResult'>\n",
      "evolved_state is a : <class 'qiskit.circuit.quantumcircuit.QuantumCircuit'>\n"
     ]
    },
    {
     "data": {
      "image/png": "[encoded data removed]",
      "text/plain": [
       "<Figure size 705.552x284.278 with 1 Axes>"
      ]
     },
     "execution_count": 3,
     "metadata": {},
     "output_type": "execute_result"
    }
   ],
   "source": [
    "tep = TimeEvolutionProblem(H, initial_state=initial_state, time=final_time)\n",
    "trotter_qrte = TrotterQRTE().evolve(tep)\n",
    "print(\"trotter_qrte is a:\", type(trotter_qrte))\n",
    "evolved_state = trotter_qrte.evolved_state\n",
    "print(\"evolved_state is a :\", type(evolved_state))\n",
    "evolved_state.draw(\"mpl\")"
   ]
  },
  {
   "cell_type": "code",
   "execution_count": 4,
   "id": "7f0731dc-6ed6-4dce-92d3-f6b434ac7a24",
   "metadata": {},
   "outputs": [
    {
     "name": "stdout",
     "output_type": "stream",
     "text": [
      "Is H unitary? False\n"
     ]
    }
   ],
   "source": [
    "# H is not unitary, just checking to make sure\n",
    "m = H.to_matrix()\n",
    "H_is_unitary = np.allclose(np.eye(len(m)), m.dot(m.T.conj()))\n",
    "print(\"Is H unitary?\", H_is_unitary)"
   ]
  },
  {
   "cell_type": "code",
   "execution_count": 5,
   "id": "3dcc97c6-dd02-48e8-a976-34488c3ae929",
   "metadata": {},
   "outputs": [],
   "source": [
    "# Can't convert the QuantumCircuit, evolved_state, to a gate, getting error msg \"circuit-160\" is not a gate instruction'\n",
    "# esg = evolved_state.to_gate()\n",
    "# print(type(esg))"
   ]
  },
  {
   "cell_type": "markdown",
   "id": "ff602ab8-de8c-4160-ad1d-e7b8002b4bf2",
   "metadata": {},
   "source": [
    "### Step 2: Would like to try iQPE on the Hamiltonian"
   ]
  },
  {
   "cell_type": "code",
   "execution_count": 6,
   "id": "6621a147-2b6b-4e12-a778-fe40c9285c49",
   "metadata": {},
   "outputs": [
    {
     "ename": "CircuitError",
     "evalue": "'The circuit contains non-unitary operations and cannot be controlled. Note that no qiskit.circuit.Instruction objects may be in the circuit for this operation.'",
     "output_type": "error",
     "traceback": [
      "\u001b[1;31m---------------------------------------------------------------------------\u001b[0m",
      "\u001b[1;31mQiskitError\u001b[0m                               Traceback (most recent call last)",
      "File \u001b[1;32m~\\miniconda3\\envs\\qk1_py312\\Lib\\site-packages\\qiskit\\circuit\\quantumcircuit.py:1698\u001b[0m, in \u001b[0;36mQuantumCircuit.control\u001b[1;34m(self, num_ctrl_qubits, label, ctrl_state, annotated)\u001b[0m\n\u001b[0;32m   1697\u001b[0m \u001b[38;5;28;01mtry\u001b[39;00m:\n\u001b[1;32m-> 1698\u001b[0m     gate \u001b[38;5;241m=\u001b[39m \u001b[38;5;28;43mself\u001b[39;49m\u001b[38;5;241;43m.\u001b[39;49m\u001b[43mto_gate\u001b[49m\u001b[43m(\u001b[49m\u001b[43m)\u001b[49m\n\u001b[0;32m   1699\u001b[0m \u001b[38;5;28;01mexcept\u001b[39;00m QiskitError \u001b[38;5;28;01mas\u001b[39;00m ex:\n",
      "File \u001b[1;32m~\\miniconda3\\envs\\qk1_py312\\Lib\\site-packages\\qiskit\\circuit\\quantumcircuit.py:3081\u001b[0m, in \u001b[0;36mQuantumCircuit.to_gate\u001b[1;34m(self, parameter_map, label)\u001b[0m\n\u001b[0;32m   3079\u001b[0m \u001b[38;5;28;01mfrom\u001b[39;00m \u001b[38;5;21;01mqiskit\u001b[39;00m\u001b[38;5;21;01m.\u001b[39;00m\u001b[38;5;21;01mconverters\u001b[39;00m\u001b[38;5;21;01m.\u001b[39;00m\u001b[38;5;21;01mcircuit_to_gate\u001b[39;00m \u001b[38;5;28;01mimport\u001b[39;00m circuit_to_gate\n\u001b[1;32m-> 3081\u001b[0m \u001b[38;5;28;01mreturn\u001b[39;00m \u001b[43mcircuit_to_gate\u001b[49m\u001b[43m(\u001b[49m\u001b[38;5;28;43mself\u001b[39;49m\u001b[43m,\u001b[49m\u001b[43m \u001b[49m\u001b[43mparameter_map\u001b[49m\u001b[43m,\u001b[49m\u001b[43m \u001b[49m\u001b[43mlabel\u001b[49m\u001b[38;5;241;43m=\u001b[39;49m\u001b[43mlabel\u001b[49m\u001b[43m)\u001b[49m\n",
      "File \u001b[1;32m~\\miniconda3\\envs\\qk1_py312\\Lib\\site-packages\\qiskit\\converters\\circuit_to_gate.py:66\u001b[0m, in \u001b[0;36mcircuit_to_gate\u001b[1;34m(circuit, parameter_map, equivalence_library, label)\u001b[0m\n\u001b[0;32m     65\u001b[0m     \u001b[38;5;28;01mif\u001b[39;00m \u001b[38;5;129;01mnot\u001b[39;00m _check_is_gate(instruction\u001b[38;5;241m.\u001b[39moperation):\n\u001b[1;32m---> 66\u001b[0m         \u001b[38;5;28;01mraise\u001b[39;00m QiskitError(\n\u001b[0;32m     67\u001b[0m             (\n\u001b[0;32m     68\u001b[0m                 \u001b[38;5;124m\"\u001b[39m\u001b[38;5;124mOne or more instructions cannot be converted to\u001b[39m\u001b[38;5;124m\"\u001b[39m\n\u001b[0;32m     69\u001b[0m                 \u001b[38;5;124m'\u001b[39m\u001b[38;5;124m a gate. \u001b[39m\u001b[38;5;124m\"\u001b[39m\u001b[38;5;132;01m{}\u001b[39;00m\u001b[38;5;124m\"\u001b[39m\u001b[38;5;124m is not a gate instruction\u001b[39m\u001b[38;5;124m'\u001b[39m\n\u001b[0;32m     70\u001b[0m             )\u001b[38;5;241m.\u001b[39mformat(instruction\u001b[38;5;241m.\u001b[39moperation\u001b[38;5;241m.\u001b[39mname)\n\u001b[0;32m     71\u001b[0m         )\n\u001b[0;32m     73\u001b[0m \u001b[38;5;28;01mif\u001b[39;00m parameter_map \u001b[38;5;129;01mis\u001b[39;00m \u001b[38;5;28;01mNone\u001b[39;00m:\n",
      "\u001b[1;31mQiskitError\u001b[0m: 'One or more instructions cannot be converted to a gate. \"circuit-161\" is not a gate instruction'",
      "\nThe above exception was the direct cause of the following exception:\n",
      "\u001b[1;31mCircuitError\u001b[0m                              Traceback (most recent call last)",
      "Cell \u001b[1;32mIn[6], line 6\u001b[0m\n\u001b[0;32m      4\u001b[0m unitary \u001b[38;5;241m=\u001b[39m evolved_state\n\u001b[0;32m      5\u001b[0m ansatz \u001b[38;5;241m=\u001b[39m QuantumCircuit(\u001b[38;5;241m3\u001b[39m)\n\u001b[1;32m----> 6\u001b[0m result \u001b[38;5;241m=\u001b[39m \u001b[43mipe\u001b[49m\u001b[38;5;241;43m.\u001b[39;49m\u001b[43mestimate\u001b[49m\u001b[43m(\u001b[49m\u001b[43munitary\u001b[49m\u001b[43m,\u001b[49m\u001b[43m \u001b[49m\u001b[43mansatz\u001b[49m\u001b[43m)\u001b[49m\n\u001b[0;32m      7\u001b[0m result\n",
      "File \u001b[1;32m~\\miniconda3\\envs\\qk1_py312\\Lib\\site-packages\\qiskit_algorithms\\phase_estimators\\ipe.py:160\u001b[0m, in \u001b[0;36mIterativePhaseEstimation.estimate\u001b[1;34m(self, unitary, state_preparation)\u001b[0m\n\u001b[0;32m    140\u001b[0m \u001b[38;5;28;01mdef\u001b[39;00m \u001b[38;5;21mestimate\u001b[39m(\n\u001b[0;32m    141\u001b[0m     \u001b[38;5;28mself\u001b[39m, unitary: QuantumCircuit, state_preparation: QuantumCircuit \u001b[38;5;241m|\u001b[39m \u001b[38;5;28;01mNone\u001b[39;00m \u001b[38;5;241m=\u001b[39m \u001b[38;5;28;01mNone\u001b[39;00m\n\u001b[0;32m    142\u001b[0m ) \u001b[38;5;241m-\u001b[39m\u001b[38;5;241m>\u001b[39m \u001b[38;5;124m\"\u001b[39m\u001b[38;5;124mIterativePhaseEstimationResult\u001b[39m\u001b[38;5;124m\"\u001b[39m:\n\u001b[0;32m    143\u001b[0m \u001b[38;5;250m    \u001b[39m\u001b[38;5;124;03m\"\"\"\u001b[39;00m\n\u001b[0;32m    144\u001b[0m \u001b[38;5;124;03m    Estimate the eigenphase of the input unitary and initial-state pair.\u001b[39;00m\n\u001b[0;32m    145\u001b[0m \n\u001b[1;32m   (...)\u001b[0m\n\u001b[0;32m    158\u001b[0m \u001b[38;5;124;03m        AlgorithmError: If a sampler is not provided.\u001b[39;00m\n\u001b[0;32m    159\u001b[0m \u001b[38;5;124;03m    \"\"\"\u001b[39;00m\n\u001b[1;32m--> 160\u001b[0m     phase \u001b[38;5;241m=\u001b[39m \u001b[38;5;28;43mself\u001b[39;49m\u001b[38;5;241;43m.\u001b[39;49m\u001b[43m_estimate_phase_iteratively\u001b[49m\u001b[43m(\u001b[49m\u001b[43munitary\u001b[49m\u001b[43m,\u001b[49m\u001b[43m \u001b[49m\u001b[43mstate_preparation\u001b[49m\u001b[43m)\u001b[49m\n\u001b[0;32m    162\u001b[0m     \u001b[38;5;28;01mreturn\u001b[39;00m IterativePhaseEstimationResult(\u001b[38;5;28mself\u001b[39m\u001b[38;5;241m.\u001b[39m_num_iterations, phase)\n",
      "File \u001b[1;32m~\\miniconda3\\envs\\qk1_py312\\Lib\\site-packages\\qiskit_algorithms\\phase_estimators\\ipe.py:125\u001b[0m, in \u001b[0;36mIterativePhaseEstimation._estimate_phase_iteratively\u001b[1;34m(self, unitary, state_preparation)\u001b[0m\n\u001b[0;32m    122\u001b[0m \u001b[38;5;28;01mfor\u001b[39;00m k \u001b[38;5;129;01min\u001b[39;00m \u001b[38;5;28mrange\u001b[39m(\u001b[38;5;28mself\u001b[39m\u001b[38;5;241m.\u001b[39m_num_iterations, \u001b[38;5;241m0\u001b[39m, \u001b[38;5;241m-\u001b[39m\u001b[38;5;241m1\u001b[39m):\n\u001b[0;32m    123\u001b[0m     omega_coef \u001b[38;5;241m/\u001b[39m\u001b[38;5;241m=\u001b[39m \u001b[38;5;241m2\u001b[39m\n\u001b[1;32m--> 125\u001b[0m     qc \u001b[38;5;241m=\u001b[39m \u001b[38;5;28;43mself\u001b[39;49m\u001b[38;5;241;43m.\u001b[39;49m\u001b[43mconstruct_circuit\u001b[49m\u001b[43m(\u001b[49m\n\u001b[0;32m    126\u001b[0m \u001b[43m        \u001b[49m\u001b[43munitary\u001b[49m\u001b[43m,\u001b[49m\u001b[43m \u001b[49m\u001b[43mstate_preparation\u001b[49m\u001b[43m,\u001b[49m\u001b[43m \u001b[49m\u001b[43mk\u001b[49m\u001b[43m,\u001b[49m\u001b[43m \u001b[49m\u001b[38;5;241;43m-\u001b[39;49m\u001b[38;5;241;43m2\u001b[39;49m\u001b[43m \u001b[49m\u001b[38;5;241;43m*\u001b[39;49m\u001b[43m \u001b[49m\u001b[43mnumpy\u001b[49m\u001b[38;5;241;43m.\u001b[39;49m\u001b[43mpi\u001b[49m\u001b[43m \u001b[49m\u001b[38;5;241;43m*\u001b[39;49m\u001b[43m \u001b[49m\u001b[43momega_coef\u001b[49m\u001b[43m,\u001b[49m\u001b[43m \u001b[49m\u001b[38;5;28;43;01mTrue\u001b[39;49;00m\n\u001b[0;32m    127\u001b[0m \u001b[43m    \u001b[49m\u001b[43m)\u001b[49m\n\u001b[0;32m    128\u001b[0m     \u001b[38;5;28;01mtry\u001b[39;00m:\n\u001b[0;32m    129\u001b[0m         sampler_job \u001b[38;5;241m=\u001b[39m \u001b[38;5;28mself\u001b[39m\u001b[38;5;241m.\u001b[39m_sampler\u001b[38;5;241m.\u001b[39mrun([qc])\n",
      "File \u001b[1;32m~\\miniconda3\\envs\\qk1_py312\\Lib\\site-packages\\qiskit_algorithms\\phase_estimators\\ipe.py:105\u001b[0m, in \u001b[0;36mIterativePhaseEstimation.construct_circuit\u001b[1;34m(self, unitary, state_preparation, k, omega, measurement)\u001b[0m\n\u001b[0;32m    100\u001b[0m qc\u001b[38;5;241m.\u001b[39mh(phase_register[\u001b[38;5;241m0\u001b[39m])\n\u001b[0;32m    101\u001b[0m \u001b[38;5;66;03m# controlled-U\u001b[39;00m\n\u001b[0;32m    102\u001b[0m \u001b[38;5;66;03m# TODO: We may want to allow flexibility in how the power is computed\u001b[39;00m\n\u001b[0;32m    103\u001b[0m \u001b[38;5;66;03m# For example, it may be desirable to compute the power via Trotterization, if\u001b[39;00m\n\u001b[0;32m    104\u001b[0m \u001b[38;5;66;03m# we are doing Trotterization anyway.\u001b[39;00m\n\u001b[1;32m--> 105\u001b[0m unitary_power \u001b[38;5;241m=\u001b[39m \u001b[43munitary\u001b[49m\u001b[38;5;241;43m.\u001b[39;49m\u001b[43mpower\u001b[49m\u001b[43m(\u001b[49m\u001b[38;5;241;43m2\u001b[39;49m\u001b[43m \u001b[49m\u001b[38;5;241;43m*\u001b[39;49m\u001b[38;5;241;43m*\u001b[39;49m\u001b[43m \u001b[49m\u001b[43m(\u001b[49m\u001b[43mk\u001b[49m\u001b[43m \u001b[49m\u001b[38;5;241;43m-\u001b[39;49m\u001b[43m \u001b[49m\u001b[38;5;241;43m1\u001b[39;49m\u001b[43m)\u001b[49m\u001b[43m)\u001b[49m\u001b[38;5;241;43m.\u001b[39;49m\u001b[43mcontrol\u001b[49m\u001b[43m(\u001b[49m\u001b[43m)\u001b[49m\n\u001b[0;32m    106\u001b[0m qc \u001b[38;5;241m=\u001b[39m qc\u001b[38;5;241m.\u001b[39mcompose(unitary_power, [unitary\u001b[38;5;241m.\u001b[39mnum_qubits] \u001b[38;5;241m+\u001b[39m \u001b[38;5;28mlist\u001b[39m(\u001b[38;5;28mrange\u001b[39m(\u001b[38;5;241m0\u001b[39m, unitary\u001b[38;5;241m.\u001b[39mnum_qubits)))\n\u001b[0;32m    107\u001b[0m qc\u001b[38;5;241m.\u001b[39mp(omega, phase_register[\u001b[38;5;241m0\u001b[39m])\n",
      "File \u001b[1;32m~\\miniconda3\\envs\\qk1_py312\\Lib\\site-packages\\qiskit\\circuit\\quantumcircuit.py:1700\u001b[0m, in \u001b[0;36mQuantumCircuit.control\u001b[1;34m(self, num_ctrl_qubits, label, ctrl_state, annotated)\u001b[0m\n\u001b[0;32m   1698\u001b[0m     gate \u001b[38;5;241m=\u001b[39m \u001b[38;5;28mself\u001b[39m\u001b[38;5;241m.\u001b[39mto_gate()\n\u001b[0;32m   1699\u001b[0m \u001b[38;5;28;01mexcept\u001b[39;00m QiskitError \u001b[38;5;28;01mas\u001b[39;00m ex:\n\u001b[1;32m-> 1700\u001b[0m     \u001b[38;5;28;01mraise\u001b[39;00m CircuitError(\n\u001b[0;32m   1701\u001b[0m         \u001b[38;5;124m\"\u001b[39m\u001b[38;5;124mThe circuit contains non-unitary operations and cannot be \u001b[39m\u001b[38;5;124m\"\u001b[39m\n\u001b[0;32m   1702\u001b[0m         \u001b[38;5;124m\"\u001b[39m\u001b[38;5;124mcontrolled. Note that no qiskit.circuit.Instruction objects may \u001b[39m\u001b[38;5;124m\"\u001b[39m\n\u001b[0;32m   1703\u001b[0m         \u001b[38;5;124m\"\u001b[39m\u001b[38;5;124mbe in the circuit for this operation.\u001b[39m\u001b[38;5;124m\"\u001b[39m\n\u001b[0;32m   1704\u001b[0m     ) \u001b[38;5;28;01mfrom\u001b[39;00m \u001b[38;5;21;01mex\u001b[39;00m\n\u001b[0;32m   1706\u001b[0m controlled_gate \u001b[38;5;241m=\u001b[39m gate\u001b[38;5;241m.\u001b[39mcontrol(num_ctrl_qubits, label, ctrl_state, annotated)\n\u001b[0;32m   1707\u001b[0m control_qreg \u001b[38;5;241m=\u001b[39m QuantumRegister(num_ctrl_qubits)\n",
      "\u001b[1;31mCircuitError\u001b[0m: 'The circuit contains non-unitary operations and cannot be controlled. Note that no qiskit.circuit.Instruction objects may be in the circuit for this operation.'"
     ]
    }
   ],
   "source": [
    "num_iterations = 3\n",
    "sampler = Sampler()\n",
    "ipe = IterativePhaseEstimation(num_iterations, sampler)\n",
    "unitary = evolved_state\n",
    "ansatz = QuantumCircuit(3)\n",
    "result = ipe.estimate(unitary, ansatz)\n",
    "result"
   ]
  },
  {
   "cell_type": "code",
   "execution_count": null,
   "id": "8e1cf18c-f7b3-4474-8b68-1e406d3a6781",
   "metadata": {},
   "outputs": [],
   "source": []
  }
 ],
 "metadata": {
  "kernelspec": {
   "display_name": "qk1_py312",
   "language": "python",
   "name": "qk1_py312"
  },
  "language_info": {
   "codemirror_mode": {
    "name": "ipython",
    "version": 3
   },
   "file_extension": ".py",
   "mimetype": "text/x-python",
   "name": "python",
   "nbconvert_exporter": "python",
   "pygments_lexer": "ipython3",
   "version": "3.12.3"
  }
 },
 "nbformat": 4,
 "nbformat_minor": 5
}
