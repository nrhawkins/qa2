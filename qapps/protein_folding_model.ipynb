{
 "cells": [
  {
   "cell_type": "markdown",
   "id": "81f4e761-5540-4a68-9c6f-97f4843df9dc",
   "metadata": {},
   "source": [
    "## Protein Folding Model in Qiskit\n",
    "\n",
    "Import protein folding classes from the Qiskit Research repository <br>\n",
    "\n",
    "  <li><b>Protein Folding Problem:</b> based on the IBM NPJ paper </li> <br>\n",
    "<i>needs:</i> <br>\n",
    "<ul>\n",
    "  <li><b>Peptide:</b> the amino acid sequence for the main chain and for side chains (<i>optional </i>) </li>\n",
    "  <li><b>Amino Acid Interaction,</b> <i>some choices are</i><b>:</b> </li>\n",
    "  <ul>\n",
    "    <li>random </li> \n",
    "    <li>Miyazawa-Jernigan </li>\n",
    "  </ul>    \n",
    "</ul>\n",
    "<i>can specify:</i> <br>\n",
    "<ul>\n",
    "    <li><b>Penalty Parameters,</b> <i>such as </i><b>:</b> </li>\n",
    "    <ul> \n",
    "        <li>Folding Back on Itself</li>\n",
    "        <li>Chiralty</li>\n",
    "        <li>Other</li>\n",
    "    </ul>    \n",
    "</ul>\n",
    "<br>\n",
    "\n",
    "The <b> ProteinFoldingProblem </b> class has a method, qubit_op() which returns a Hamiltonian decomposed into a sum of Pauli operations which can be used by the VQE algorithm. \n",
    "\n",
    "<br>\n"
   ]
  },
  {
   "cell_type": "code",
   "execution_count": 9,
   "id": "efd481df-8681-4405-aacc-443e92b9ee0e",
   "metadata": {},
   "outputs": [],
   "source": [
    "from qiskit_research.protein_folding.protein_folding_problem import (\n",
    "    ProteinFoldingProblem,\n",
    ")\n",
    "from qiskit_research.protein_folding.peptide.peptide import Peptide\n",
    "\n",
    "from qiskit_research.protein_folding.interactions.random_interaction import (\n",
    "    RandomInteraction,\n",
    ")\n",
    "from qiskit_research.protein_folding.interactions.miyazawa_jernigan_interaction import (\n",
    "    MiyazawaJerniganInteraction,\n",
    ")\n",
    "from qiskit_research.protein_folding.penalty_parameters import PenaltyParameters\n",
    "\n",
    "from qiskit.utils import algorithm_globals, QuantumInstance\n",
    "\n",
    "algorithm_globals.random_seed = 23"
   ]
  },
  {
   "cell_type": "code",
   "execution_count": 79,
   "id": "1fc8b06a-2dcc-4cf0-90a7-6daff18ab4a1",
   "metadata": {},
   "outputs": [
    {
     "name": "stdout",
     "output_type": "stream",
     "text": [
      "1613.5895000000003 * IIIIIIIII\n",
      "+ 487.5 * IIIIIIZII\n",
      "- 192.5 * IIIIIIIZZ\n",
      "+ 192.5 * IIIIIIZZZ\n",
      "- 195.0 * IIIIZIZII\n",
      "- 195.0 * IIIIIZIZI\n",
      "- 195.0 * IIIIZZZZI\n",
      "- 95.0 * IIZIZIIII\n",
      "- 95.0 * IIIZIZIII\n",
      "- 95.0 * IIZZZZIII\n",
      "+ 295.0 * IIIIIIZZI\n",
      "- 497.5 * IIIIZIIII\n",
      "- 300.0 * IIIIZZIII\n",
      "+ 195.0 * IIIIIIIIZ\n",
      "+ 197.5 * IIIIIZIIZ\n",
      "- 197.5 * IIIIZZIIZ\n",
      "- 904.2875 * IZIIIIIII\n",
      "- 295.0 * IZIIIIZII\n",
      "- 197.5 * IZIIIIZZI\n",
      "+ 302.5 * IZIIZIIII\n",
      "+ 202.5 * IZIIZZIII\n",
      "+ 100.0 * IZIIZIZII\n",
      "+ 100.0 * IZIIIZIZI\n",
      "+ 100.0 * IZIIZZZZI\n",
      "- 200.0 * IZIIIIIIZ\n",
      "+ 97.5 * IZIIIIIZZ\n",
      "- 97.5 * IZIIIIZZZ\n",
      "- 100.0 * IZIIIZIIZ\n",
      "+ 100.0 * IZIIZZIIZ\n",
      "+ 100.0 * IIIIIIIZI\n",
      "- 100.0 * IIIIIZIII\n",
      "+ 2.5 * IZIIIIIZI\n",
      "- 2.5 * IZIIIZIII\n",
      "+ 192.5 * IIZIIIIII\n",
      "+ 95.0 * IIZZIIIII\n",
      "+ 97.5 * IIZIIIZII\n",
      "+ 97.5 * IIIZIIIZI\n",
      "+ 97.5 * IIZZIIZZI\n",
      "- 97.5 * IIIZIIIIZ\n",
      "+ 97.5 * IIZZIIIIZ\n",
      "+ 7.5 * IZZIIIIII\n",
      "+ 5.0 * IZZZIIIII\n",
      "+ 2.5 * IZZIIIZII\n",
      "+ 2.5 * IZIZIIIZI\n",
      "+ 2.5 * IZZZIIZZI\n",
      "- 2.5 * IZZIZIIII\n",
      "- 2.5 * IZIZIZIII\n",
      "- 2.5 * IZZZZZIII\n",
      "- 2.5 * IZIZIIIIZ\n",
      "+ 2.5 * IZZZIIIIZ\n",
      "+ 105.0 * IIIZIIIII\n",
      "- 701.802 * ZIIIIIIII\n",
      "- 195.0 * ZIIIIIZII\n",
      "- 102.5 * ZIIIIIIZI\n",
      "- 97.5 * ZIIIIIZZI\n",
      "+ 195.0 * ZIIIZIIII\n",
      "+ 102.5 * ZIIIIZIII\n",
      "+ 97.5 * ZIIIZZIII\n",
      "- 200.0 * ZIZIIIIII\n",
      "- 105.0 * ZIIZIIIII\n",
      "- 100.0 * ZIZZIIIII\n",
      "+ 97.5 * ZIIIZIZII\n",
      "- 100.0 * ZIZIIIZII\n",
      "+ 97.5 * ZIIIIZIZI\n",
      "- 100.0 * ZIIZIIIZI\n",
      "+ 97.5 * ZIIIZZZZI\n",
      "- 100.0 * ZIZZIIZZI\n",
      "+ 100.0 * ZIZIZIIII\n",
      "+ 100.0 * ZIIZIZIII\n",
      "+ 100.0 * ZIZZZZIII\n",
      "+ 97.5 * ZIIIIIIZZ\n",
      "- 97.5 * ZIIIIIZZZ\n",
      "- 97.5 * ZIIIIZIIZ\n",
      "+ 97.5 * ZIIIZZIIZ\n",
      "+ 100.0 * ZIIZIIIIZ\n",
      "- 100.0 * ZIZZIIIIZ\n",
      "+ 5.0 * ZIIIIIIIZ\n",
      "qubit_op size: 512 x 512\n"
     ]
    }
   ],
   "source": [
    "# main_chain = \"APRLRFY\"\n",
    "main_chain = \"APRLRFY\"\n",
    "main_chain_len = len(main_chain)\n",
    "side_chains = [\"\"] * main_chain_len\n",
    "random_interaction = RandomInteraction()\n",
    "mj_interaction = MiyazawaJerniganInteraction()\n",
    "penalty_back = 10\n",
    "penalty_chiral = 10\n",
    "penalty_1 = 10\n",
    "penalty_terms = PenaltyParameters(penalty_chiral, penalty_back, penalty_1)\n",
    "peptide = Peptide(main_chain, side_chains)\n",
    "protein_folding_problem = ProteinFoldingProblem(peptide, mj_interaction, penalty_terms)\n",
    "qubit_op = protein_folding_problem.qubit_op()\n",
    "print(qubit_op)\n",
    "x = 2**qubit_op.num_qubits\n",
    "print(\"qubit_op size:\", x, \"x\", x)"
   ]
  },
  {
   "cell_type": "code",
   "execution_count": 85,
   "id": "55a4e4f5-e74f-4986-bb6e-4e2eb55b00b7",
   "metadata": {},
   "outputs": [
    {
     "ename": "ExtensionError",
     "evalue": "'Input matrix is not unitary.'",
     "output_type": "error",
     "traceback": [
      "\u001b[1;31m---------------------------------------------------------------------------\u001b[0m",
      "\u001b[1;31mExtensionError\u001b[0m                            Traceback (most recent call last)",
      "Cell \u001b[1;32mIn[85], line 3\u001b[0m\n\u001b[0;32m      1\u001b[0m qubit_op_matrix \u001b[38;5;241m=\u001b[39m qubit_op\u001b[38;5;241m.\u001b[39mto_matrix()\n\u001b[0;32m      2\u001b[0m qc_qubit_op \u001b[38;5;241m=\u001b[39m QuantumCircuit(\u001b[38;5;241m9\u001b[39m)\n\u001b[1;32m----> 3\u001b[0m \u001b[43mqc_qubit_op\u001b[49m\u001b[38;5;241;43m.\u001b[39;49m\u001b[43munitary\u001b[49m\u001b[43m(\u001b[49m\u001b[43mqubit_op_matrix\u001b[49m\u001b[43m,\u001b[49m\u001b[43m \u001b[49m\u001b[43m[\u001b[49m\u001b[38;5;241;43m0\u001b[39;49m\u001b[43m,\u001b[49m\u001b[38;5;241;43m1\u001b[39;49m\u001b[43m,\u001b[49m\u001b[38;5;241;43m2\u001b[39;49m\u001b[43m,\u001b[49m\u001b[38;5;241;43m3\u001b[39;49m\u001b[43m,\u001b[49m\u001b[38;5;241;43m4\u001b[39;49m\u001b[43m,\u001b[49m\u001b[38;5;241;43m5\u001b[39;49m\u001b[43m,\u001b[49m\u001b[38;5;241;43m6\u001b[39;49m\u001b[43m,\u001b[49m\u001b[38;5;241;43m7\u001b[39;49m\u001b[43m,\u001b[49m\u001b[38;5;241;43m8\u001b[39;49m\u001b[43m]\u001b[49m\u001b[43m)\u001b[49m\n\u001b[0;32m      4\u001b[0m \u001b[38;5;28mprint\u001b[39m(\u001b[38;5;28mtype\u001b[39m(qc_qubit_op))\n",
      "File \u001b[1;32m~\\miniconda3\\envs\\qa2_py39\\lib\\site-packages\\qiskit\\extensions\\unitary.py:234\u001b[0m, in \u001b[0;36munitary\u001b[1;34m(self, obj, qubits, label)\u001b[0m\n\u001b[0;32m    217\u001b[0m \u001b[38;5;28;01mdef\u001b[39;00m \u001b[38;5;21munitary\u001b[39m(\u001b[38;5;28mself\u001b[39m, obj, qubits, label\u001b[38;5;241m=\u001b[39m\u001b[38;5;28;01mNone\u001b[39;00m):\n\u001b[0;32m    218\u001b[0m \u001b[38;5;250m    \u001b[39m\u001b[38;5;124;03m\"\"\"Apply unitary gate specified by ``obj`` to ``qubits``.\u001b[39;00m\n\u001b[0;32m    219\u001b[0m \n\u001b[0;32m    220\u001b[0m \u001b[38;5;124;03m    Example:\u001b[39;00m\n\u001b[1;32m   (...)\u001b[0m\n\u001b[0;32m    232\u001b[0m \u001b[38;5;124;03m            circuit.unitary(matrix, [0, 1])\u001b[39;00m\n\u001b[0;32m    233\u001b[0m \u001b[38;5;124;03m    \"\"\"\u001b[39;00m\n\u001b[1;32m--> 234\u001b[0m     gate \u001b[38;5;241m=\u001b[39m \u001b[43mUnitaryGate\u001b[49m\u001b[43m(\u001b[49m\u001b[43mobj\u001b[49m\u001b[43m,\u001b[49m\u001b[43m \u001b[49m\u001b[43mlabel\u001b[49m\u001b[38;5;241;43m=\u001b[39;49m\u001b[43mlabel\u001b[49m\u001b[43m)\u001b[49m\n\u001b[0;32m    235\u001b[0m     \u001b[38;5;28;01mif\u001b[39;00m \u001b[38;5;28misinstance\u001b[39m(qubits, QuantumRegister):\n\u001b[0;32m    236\u001b[0m         qubits \u001b[38;5;241m=\u001b[39m qubits[:]\n",
      "File \u001b[1;32m~\\miniconda3\\envs\\qa2_py39\\lib\\site-packages\\qiskit\\extensions\\unitary.py:83\u001b[0m, in \u001b[0;36mUnitaryGate.__init__\u001b[1;34m(self, data, label)\u001b[0m\n\u001b[0;32m     81\u001b[0m \u001b[38;5;66;03m# Check input is unitary\u001b[39;00m\n\u001b[0;32m     82\u001b[0m \u001b[38;5;28;01mif\u001b[39;00m \u001b[38;5;129;01mnot\u001b[39;00m is_unitary_matrix(data):\n\u001b[1;32m---> 83\u001b[0m     \u001b[38;5;28;01mraise\u001b[39;00m ExtensionError(\u001b[38;5;124m\"\u001b[39m\u001b[38;5;124mInput matrix is not unitary.\u001b[39m\u001b[38;5;124m\"\u001b[39m)\n\u001b[0;32m     84\u001b[0m \u001b[38;5;66;03m# Check input is N-qubit matrix\u001b[39;00m\n\u001b[0;32m     85\u001b[0m input_dim, output_dim \u001b[38;5;241m=\u001b[39m data\u001b[38;5;241m.\u001b[39mshape\n",
      "\u001b[1;31mExtensionError\u001b[0m: 'Input matrix is not unitary.'"
     ]
    }
   ],
   "source": [
    "qubit_op_matrix = qubit_op.to_matrix()\n",
    "qc_qubit_op = QuantumCircuit(9)\n",
    "qc_qubit_op.unitary(qubit_op_matrix, [0,1,2,3,4,5,6,7,8])\n",
    "print(type(qc_qubit_op))"
   ]
  },
  {
   "cell_type": "code",
   "execution_count": 87,
   "id": "784b2504-592a-4756-b29a-317b484b2586",
   "metadata": {},
   "outputs": [
    {
     "name": "stdout",
     "output_type": "stream",
     "text": [
      "2.5 * III\n",
      "- 2.5 * ZII\n",
      "+ 2.5 * IZZ\n",
      "- 2.5 * ZZZ\n",
      "qubit_op size: 8 x 8\n"
     ]
    }
   ],
   "source": [
    "main_chain = \"YPYFI\"\n",
    "main_chain_len = len(main_chain)\n",
    "side_chains = [\"\"] * main_chain_len\n",
    "random_interaction = RandomInteraction()\n",
    "mj_interaction = MiyazawaJerniganInteraction()\n",
    "penalty_back = 10\n",
    "penalty_chiral = 10\n",
    "penalty_1 = 10\n",
    "penalty_terms = PenaltyParameters(penalty_chiral, penalty_back, penalty_1)\n",
    "peptide = Peptide(main_chain, side_chains)\n",
    "protein_folding_problem = ProteinFoldingProblem(peptide, mj_interaction, penalty_terms)\n",
    "qubit_op = protein_folding_problem.qubit_op()\n",
    "print(qubit_op)\n",
    "x = 2**qubit_op.num_qubits\n",
    "print(\"qubit_op size:\", x, \"x\", x)"
   ]
  },
  {
   "cell_type": "code",
   "execution_count": 88,
   "id": "f7163ed6-20d6-477c-9e84-205b14ec7699",
   "metadata": {},
   "outputs": [
    {
     "name": "stdout",
     "output_type": "stream",
     "text": [
      "<class 'numpy.ndarray'>\n",
      "(8, 8)\n"
     ]
    },
    {
     "data": {
      "text/plain": [
       "array([[ 0.+0.j,  0.+0.j,  0.+0.j,  0.+0.j,  0.+0.j,  0.+0.j,  0.+0.j,\n",
       "         0.+0.j],\n",
       "       [ 0.+0.j,  0.+0.j,  0.+0.j,  0.+0.j,  0.+0.j,  0.+0.j,  0.+0.j,\n",
       "         0.+0.j],\n",
       "       [ 0.+0.j,  0.+0.j,  0.+0.j,  0.+0.j,  0.+0.j,  0.+0.j,  0.+0.j,\n",
       "         0.+0.j],\n",
       "       [ 0.+0.j,  0.+0.j,  0.+0.j,  0.+0.j,  0.+0.j,  0.+0.j,  0.+0.j,\n",
       "         0.+0.j],\n",
       "       [ 0.+0.j,  0.+0.j,  0.+0.j,  0.+0.j, 10.+0.j,  0.+0.j,  0.+0.j,\n",
       "         0.+0.j],\n",
       "       [ 0.+0.j,  0.+0.j,  0.+0.j,  0.+0.j,  0.+0.j,  0.+0.j,  0.+0.j,\n",
       "         0.+0.j],\n",
       "       [ 0.+0.j,  0.+0.j,  0.+0.j,  0.+0.j,  0.+0.j,  0.+0.j,  0.+0.j,\n",
       "         0.+0.j],\n",
       "       [ 0.+0.j,  0.+0.j,  0.+0.j,  0.+0.j,  0.+0.j,  0.+0.j,  0.+0.j,\n",
       "        10.+0.j]])"
      ]
     },
     "execution_count": 88,
     "metadata": {},
     "output_type": "execute_result"
    }
   ],
   "source": [
    "operator = qubit_op.to_matrix()\n",
    "print(type(operator))\n",
    "print(operator.shape)\n",
    "operator"
   ]
  },
  {
   "cell_type": "code",
   "execution_count": 89,
   "id": "3f3ab6b6-8c91-4dc6-b552-6edda82950fa",
   "metadata": {},
   "outputs": [
    {
     "data": {
      "text/plain": [
       "SummedOp([PauliOp(Pauli('III'), coeff=2.5), PauliOp(Pauli('ZII'), coeff=-2.5), PauliOp(Pauli('IZZ'), coeff=2.5), PauliOp(Pauli('ZZZ'), coeff=-2.5)], coeff=1.0, abelian=False)"
      ]
     },
     "execution_count": 89,
     "metadata": {},
     "output_type": "execute_result"
    }
   ],
   "source": [
    "qubit_op.to_pauli_op()"
   ]
  },
  {
   "cell_type": "code",
   "execution_count": 90,
   "id": "80de6972-0551-4b09-bfc3-5ab4f8c4530f",
   "metadata": {},
   "outputs": [
    {
     "ename": "ExtensionError",
     "evalue": "'Input matrix is not unitary.'",
     "output_type": "error",
     "traceback": [
      "\u001b[1;31m---------------------------------------------------------------------------\u001b[0m",
      "\u001b[1;31mExtensionError\u001b[0m                            Traceback (most recent call last)",
      "Cell \u001b[1;32mIn[90], line 2\u001b[0m\n\u001b[0;32m      1\u001b[0m qc_qubit_op \u001b[38;5;241m=\u001b[39m QuantumCircuit(\u001b[38;5;241m3\u001b[39m)\n\u001b[1;32m----> 2\u001b[0m \u001b[43mqc_qubit_op\u001b[49m\u001b[38;5;241;43m.\u001b[39;49m\u001b[43munitary\u001b[49m\u001b[43m(\u001b[49m\u001b[43mqubit_op_matrix\u001b[49m\u001b[43m,\u001b[49m\u001b[43m \u001b[49m\u001b[43m[\u001b[49m\u001b[38;5;241;43m0\u001b[39;49m\u001b[43m,\u001b[49m\u001b[38;5;241;43m1\u001b[39;49m\u001b[43m,\u001b[49m\u001b[38;5;241;43m2\u001b[39;49m\u001b[43m]\u001b[49m\u001b[43m)\u001b[49m\n\u001b[0;32m      3\u001b[0m \u001b[38;5;28mprint\u001b[39m(\u001b[38;5;28mtype\u001b[39m(qc_qubit_op))\n",
      "File \u001b[1;32m~\\miniconda3\\envs\\qa2_py39\\lib\\site-packages\\qiskit\\extensions\\unitary.py:234\u001b[0m, in \u001b[0;36munitary\u001b[1;34m(self, obj, qubits, label)\u001b[0m\n\u001b[0;32m    217\u001b[0m \u001b[38;5;28;01mdef\u001b[39;00m \u001b[38;5;21munitary\u001b[39m(\u001b[38;5;28mself\u001b[39m, obj, qubits, label\u001b[38;5;241m=\u001b[39m\u001b[38;5;28;01mNone\u001b[39;00m):\n\u001b[0;32m    218\u001b[0m \u001b[38;5;250m    \u001b[39m\u001b[38;5;124;03m\"\"\"Apply unitary gate specified by ``obj`` to ``qubits``.\u001b[39;00m\n\u001b[0;32m    219\u001b[0m \n\u001b[0;32m    220\u001b[0m \u001b[38;5;124;03m    Example:\u001b[39;00m\n\u001b[1;32m   (...)\u001b[0m\n\u001b[0;32m    232\u001b[0m \u001b[38;5;124;03m            circuit.unitary(matrix, [0, 1])\u001b[39;00m\n\u001b[0;32m    233\u001b[0m \u001b[38;5;124;03m    \"\"\"\u001b[39;00m\n\u001b[1;32m--> 234\u001b[0m     gate \u001b[38;5;241m=\u001b[39m \u001b[43mUnitaryGate\u001b[49m\u001b[43m(\u001b[49m\u001b[43mobj\u001b[49m\u001b[43m,\u001b[49m\u001b[43m \u001b[49m\u001b[43mlabel\u001b[49m\u001b[38;5;241;43m=\u001b[39;49m\u001b[43mlabel\u001b[49m\u001b[43m)\u001b[49m\n\u001b[0;32m    235\u001b[0m     \u001b[38;5;28;01mif\u001b[39;00m \u001b[38;5;28misinstance\u001b[39m(qubits, QuantumRegister):\n\u001b[0;32m    236\u001b[0m         qubits \u001b[38;5;241m=\u001b[39m qubits[:]\n",
      "File \u001b[1;32m~\\miniconda3\\envs\\qa2_py39\\lib\\site-packages\\qiskit\\extensions\\unitary.py:83\u001b[0m, in \u001b[0;36mUnitaryGate.__init__\u001b[1;34m(self, data, label)\u001b[0m\n\u001b[0;32m     81\u001b[0m \u001b[38;5;66;03m# Check input is unitary\u001b[39;00m\n\u001b[0;32m     82\u001b[0m \u001b[38;5;28;01mif\u001b[39;00m \u001b[38;5;129;01mnot\u001b[39;00m is_unitary_matrix(data):\n\u001b[1;32m---> 83\u001b[0m     \u001b[38;5;28;01mraise\u001b[39;00m ExtensionError(\u001b[38;5;124m\"\u001b[39m\u001b[38;5;124mInput matrix is not unitary.\u001b[39m\u001b[38;5;124m\"\u001b[39m)\n\u001b[0;32m     84\u001b[0m \u001b[38;5;66;03m# Check input is N-qubit matrix\u001b[39;00m\n\u001b[0;32m     85\u001b[0m input_dim, output_dim \u001b[38;5;241m=\u001b[39m data\u001b[38;5;241m.\u001b[39mshape\n",
      "\u001b[1;31mExtensionError\u001b[0m: 'Input matrix is not unitary.'"
     ]
    }
   ],
   "source": [
    "qc_qubit_op = QuantumCircuit(3)\n",
    "qc_qubit_op.unitary(qubit_op_matrix, [0,1,2])\n",
    "print(type(qc_qubit_op))"
   ]
  },
  {
   "cell_type": "code",
   "execution_count": 93,
   "id": "b78631c8-829b-4430-b8a7-5d5db7c9dcbc",
   "metadata": {},
   "outputs": [
    {
     "name": "stdout",
     "output_type": "stream",
     "text": [
      "main_chain_len 6\n"
     ]
    }
   ],
   "source": [
    "# qiskit_research tutorial chain\n",
    "# main_chain = \"APRLRFY\" \n",
    "# fractal analytics Alzheimer's enzyme related chain\n",
    "main_chain = \"YPYFIP\"\n",
    "main_chain_len = len(main_chain)\n",
    "print(\"main_chain_len\", main_chain_len)"
   ]
  },
  {
   "cell_type": "code",
   "execution_count": 94,
   "id": "52957404-d139-4db2-a909-6f95d15180cd",
   "metadata": {},
   "outputs": [],
   "source": [
    "side_chains = [\"\"] * main_chain_len"
   ]
  },
  {
   "cell_type": "code",
   "execution_count": 95,
   "id": "99925dee-3034-4e29-b1fe-0ae40836f5e7",
   "metadata": {},
   "outputs": [],
   "source": [
    "random_interaction = RandomInteraction()\n",
    "mj_interaction = MiyazawaJerniganInteraction()"
   ]
  },
  {
   "cell_type": "code",
   "execution_count": 96,
   "id": "ffa8cb80-4a31-44e5-ae62-f764b37bc036",
   "metadata": {},
   "outputs": [],
   "source": [
    "penalty_back = 10\n",
    "penalty_chiral = 10\n",
    "penalty_1 = 10\n",
    "\n",
    "penalty_terms = PenaltyParameters(penalty_chiral, penalty_back, penalty_1)"
   ]
  },
  {
   "cell_type": "code",
   "execution_count": 97,
   "id": "ceb35b21-dd00-486a-91a1-4ec193b5d65f",
   "metadata": {},
   "outputs": [],
   "source": [
    "peptide = Peptide(main_chain, side_chains)"
   ]
  },
  {
   "cell_type": "code",
   "execution_count": 98,
   "id": "7edece01-aac8-474b-99c1-e234e60c988f",
   "metadata": {},
   "outputs": [],
   "source": [
    "protein_folding_problem = ProteinFoldingProblem(peptide, mj_interaction, penalty_terms)\n",
    "qubit_op = protein_folding_problem.qubit_op()"
   ]
  },
  {
   "cell_type": "code",
   "execution_count": 99,
   "id": "04d01efa-74f1-46d6-bf4a-590fff724092",
   "metadata": {},
   "outputs": [
    {
     "name": "stdout",
     "output_type": "stream",
     "text": [
      "929.4905 * IIIIII\n",
      "+ 300.0 * IIIZII\n",
      "- 97.5 * IIIIZZ\n",
      "+ 97.5 * IIIZZZ\n",
      "- 100.0 * IZIZII\n",
      "- 100.0 * IIZIZI\n",
      "- 100.0 * IZZZZI\n",
      "+ 202.5 * IIIZZI\n",
      "- 310.0 * IZIIII\n",
      "- 207.5 * IZZIII\n",
      "+ 205.0 * IIIIIZ\n",
      "+ 102.5 * IIZIIZ\n",
      "- 102.5 * IZZIIZ\n",
      "- 924.4905 * ZIIIII\n",
      "- 302.5 * ZIIZII\n",
      "- 202.5 * ZIIZZI\n",
      "+ 310.0 * ZZIIII\n",
      "+ 207.5 * ZZZIII\n",
      "+ 102.5 * ZZIZII\n",
      "+ 102.5 * ZIZIZI\n",
      "+ 102.5 * ZZZZZI\n",
      "- 205.0 * ZIIIIZ\n",
      "+ 100.0 * ZIIIZZ\n",
      "- 100.0 * ZIIZZZ\n",
      "- 102.5 * ZIZIIZ\n",
      "+ 102.5 * ZZZIIZ\n",
      "- 2.5 * IIIIZI\n",
      "+ 2.5 * IIZIII\n",
      "+ 2.5 * ZIIIZI\n",
      "- 2.5 * ZIZIII\n"
     ]
    }
   ],
   "source": [
    "print(qubit_op)"
   ]
  },
  {
   "cell_type": "code",
   "execution_count": 100,
   "id": "083c5b31-0d82-43f5-a3b6-084257101d41",
   "metadata": {},
   "outputs": [
    {
     "data": {
      "text/plain": [
       "{'primitive': SparsePauliOp(['IIIIII', 'IIIZII', 'IIIIZZ', 'IIIZZZ', 'IZIZII', 'IIZIZI', 'IZZZZI', 'IIIZZI', 'IZIIII', 'IZZIII', 'IIIIIZ', 'IIZIIZ', 'IZZIIZ', 'ZIIIII', 'ZIIZII', 'ZIIZZI', 'ZZIIII', 'ZZZIII', 'ZZIZII', 'ZIZIZI', 'ZZZZZI', 'ZIIIIZ', 'ZIIIZZ', 'ZIIZZZ', 'ZIZIIZ', 'ZZZIIZ', 'IIIIZI', 'IIZIII', 'ZIIIZI', 'ZIZIII'],\n",
       "               coeffs=[ 929.4905+0.j,  300.    +0.j,  -97.5   +0.j,   97.5   +0.j, -100.    +0.j,\n",
       "  -100.    +0.j, -100.    +0.j,  202.5   +0.j, -310.    +0.j, -207.5   +0.j,\n",
       "   205.    +0.j,  102.5   +0.j, -102.5   +0.j, -924.4905+0.j, -302.5   +0.j,\n",
       "  -202.5   +0.j,  310.    +0.j,  207.5   +0.j,  102.5   +0.j,  102.5   +0.j,\n",
       "   102.5   +0.j, -205.    +0.j,  100.    +0.j, -100.    +0.j, -102.5   +0.j,\n",
       "   102.5   +0.j,   -2.5   +0.j,    2.5   +0.j,    2.5   +0.j,   -2.5   +0.j]),\n",
       " 'coeff': 1.0,\n",
       " 'grouping_type': 'None'}"
      ]
     },
     "execution_count": 100,
     "metadata": {},
     "output_type": "execute_result"
    }
   ],
   "source": [
    "qubit_op.settings"
   ]
  },
  {
   "cell_type": "code",
   "execution_count": 101,
   "id": "d25f64a6-c3b6-4986-a334-d5044403bb26",
   "metadata": {},
   "outputs": [
    {
     "data": {
      "text/plain": [
       "6"
      ]
     },
     "execution_count": 101,
     "metadata": {},
     "output_type": "execute_result"
    }
   ],
   "source": [
    "qubit_op.num_qubits"
   ]
  },
  {
   "cell_type": "code",
   "execution_count": 102,
   "id": "7fe01211-d940-4830-baf9-75a1aa9b7d56",
   "metadata": {},
   "outputs": [
    {
     "name": "stdout",
     "output_type": "stream",
     "text": [
      "<class 'numpy.ndarray'>\n",
      "(64, 64)\n"
     ]
    }
   ],
   "source": [
    "operator = qubit_op.to_matrix()\n",
    "print(type(operator))\n",
    "print(operator.shape)"
   ]
  },
  {
   "cell_type": "code",
   "execution_count": 103,
   "id": "50f83730-9c4d-4180-86be-c12feb4f4f36",
   "metadata": {},
   "outputs": [
    {
     "data": {
      "text/plain": [
       "(9.999999999999886+0j)"
      ]
     },
     "execution_count": 103,
     "metadata": {},
     "output_type": "execute_result"
    }
   ],
   "source": [
    "operator[1,1]"
   ]
  },
  {
   "cell_type": "code",
   "execution_count": 104,
   "id": "2feb60eb-481d-4296-9dd1-cec6b74e40ce",
   "metadata": {},
   "outputs": [
    {
     "data": {
      "text/plain": [
       "array([[ 1.00000000e+01+0.j,  0.00000000e+00+0.j,  0.00000000e+00+0.j,\n",
       "        ...,  0.00000000e+00+0.j,  0.00000000e+00+0.j,\n",
       "         0.00000000e+00+0.j],\n",
       "       [ 0.00000000e+00+0.j,  1.00000000e+01+0.j,  0.00000000e+00+0.j,\n",
       "        ...,  0.00000000e+00+0.j,  0.00000000e+00+0.j,\n",
       "         0.00000000e+00+0.j],\n",
       "       [ 0.00000000e+00+0.j,  0.00000000e+00+0.j, -1.13686838e-13+0.j,\n",
       "        ...,  0.00000000e+00+0.j,  0.00000000e+00+0.j,\n",
       "         0.00000000e+00+0.j],\n",
       "       ...,\n",
       "       [ 0.00000000e+00+0.j,  0.00000000e+00+0.j,  0.00000000e+00+0.j,\n",
       "        ...,  1.63898100e+03+0.j,  0.00000000e+00+0.j,\n",
       "         0.00000000e+00+0.j],\n",
       "       [ 0.00000000e+00+0.j,  0.00000000e+00+0.j,  0.00000000e+00+0.j,\n",
       "        ...,  0.00000000e+00+0.j,  1.64898100e+03+0.j,\n",
       "         0.00000000e+00+0.j],\n",
       "       [ 0.00000000e+00+0.j,  0.00000000e+00+0.j,  0.00000000e+00+0.j,\n",
       "        ...,  0.00000000e+00+0.j,  0.00000000e+00+0.j,\n",
       "         8.58981000e+02+0.j]])"
      ]
     },
     "execution_count": 104,
     "metadata": {},
     "output_type": "execute_result"
    }
   ],
   "source": [
    "operator"
   ]
  },
  {
   "cell_type": "code",
   "execution_count": 105,
   "id": "9e0f7dda-5ce3-47e5-8d72-d7cb50800504",
   "metadata": {},
   "outputs": [
    {
     "name": "stdout",
     "output_type": "stream",
     "text": [
      "SamplingMinimumEigensolverResult:\n",
      "\tEigenvalue: -1.0190000000001191\n",
      "\tBest measurement\n",
      ": {'state': 37, 'bitstring': '100101', 'value': (-1.0190000000001191+0j), 'probability': 0.4672198718418707}\n",
      "\n"
     ]
    }
   ],
   "source": [
    "from qiskit.circuit.library import RealAmplitudes\n",
    "from qiskit.algorithms.optimizers import COBYLA\n",
    "from qiskit.algorithms import NumPyMinimumEigensolver\n",
    "from qiskit.algorithms.minimum_eigensolvers import SamplingVQE\n",
    "from qiskit import execute, Aer\n",
    "from qiskit.primitives import Sampler\n",
    "\n",
    "# set classical optimizer\n",
    "optimizer = COBYLA(maxiter=50)\n",
    "\n",
    "# set variational ansatz\n",
    "ansatz = RealAmplitudes(reps=1)\n",
    "\n",
    "counts = []\n",
    "values = []\n",
    "\n",
    "\n",
    "def store_intermediate_result(eval_count, parameters, mean, std):\n",
    "    counts.append(eval_count)\n",
    "    values.append(mean)\n",
    "\n",
    "\n",
    "# initialize VQE using CVaR with alpha = 0.1\n",
    "vqe = SamplingVQE(\n",
    "    Sampler(),\n",
    "    ansatz=ansatz,\n",
    "    optimizer=optimizer,\n",
    "    aggregation=0.1,\n",
    "    callback=store_intermediate_result,\n",
    ")\n",
    "\n",
    "raw_result = vqe.compute_minimum_eigenvalue(qubit_op)\n",
    "print(raw_result)"
   ]
  },
  {
   "cell_type": "code",
   "execution_count": 108,
   "id": "30ee6544-9b60-4a1a-9d01-2f0eceda117d",
   "metadata": {},
   "outputs": [],
   "source": [
    "from qiskit.algorithms.minimum_eigensolvers import QAOA"
   ]
  },
  {
   "cell_type": "code",
   "execution_count": 112,
   "id": "6cb76ea1-74a3-4f48-900a-abad5ee96838",
   "metadata": {},
   "outputs": [
    {
     "name": "stdout",
     "output_type": "stream",
     "text": [
      "SamplingMinimumEigensolverResult:\n",
      "\tEigenvalue: -0.41062537953987066\n",
      "\tBest measurement\n",
      ": {'state': 37, 'bitstring': '100101', 'value': (-1.0190000000001191+0j), 'probability': 0.0402968969126354}\n",
      "\n"
     ]
    }
   ],
   "source": [
    "qaoa = QAOA(Sampler(), optimizer=optimizer, reps=10, initial_state=None, mixer=None, initial_point=None, aggregation=0.1, callback=store_intermediate_result)\n",
    "raw_result = qaoa.compute_minimum_eigenvalue(qubit_op)\n",
    "print(raw_result)"
   ]
  },
  {
   "cell_type": "code",
   "execution_count": 35,
   "id": "b88e2aa9-a9a5-4778-81a1-b9674378cb17",
   "metadata": {},
   "outputs": [
    {
     "name": "stderr",
     "output_type": "stream",
     "text": [
      "C:\\Users\\nat\\miniconda3\\envs\\qa2_py39\\lib\\site-packages\\matplotlib\\cbook.py:1699: ComplexWarning: Casting complex values to real discards the imaginary part\n",
      "  return math.isfinite(val)\n",
      "C:\\Users\\nat\\miniconda3\\envs\\qa2_py39\\lib\\site-packages\\matplotlib\\cbook.py:1345: ComplexWarning: Casting complex values to real discards the imaginary part\n",
      "  return np.asarray(x, float)\n"
     ]
    },
    {
     "data": {
      "image/png": "[encoded data removed]",
      "text/plain": [
       "<Figure size 640x480 with 2 Axes>"
      ]
     },
     "metadata": {},
     "output_type": "display_data"
    }
   ],
   "source": [
    "import matplotlib.pyplot as plt\n",
    "\n",
    "fig = plt.figure()\n",
    "\n",
    "plt.plot(counts, values)\n",
    "plt.ylabel(\"Conformation Energy\")\n",
    "plt.xlabel(\"VQE Iterations\")\n",
    "\n",
    "fig.add_axes([0.44, 0.51, 0.44, 0.32])\n",
    "\n",
    "plt.plot(counts[40:], values[40:])\n",
    "plt.ylabel(\"Conformation Energy\")\n",
    "plt.xlabel(\"VQE Iterations\")\n",
    "plt.show()"
   ]
  },
  {
   "cell_type": "code",
   "execution_count": 36,
   "id": "c98ccad6-15ae-42e9-ac19-7848890369cd",
   "metadata": {},
   "outputs": [
    {
     "name": "stdout",
     "output_type": "stream",
     "text": [
      "The bitstring representing the shape of the protein during optimization is:  111011\n",
      "The expanded expression is: 1__________________________________________________________________________________________1101_1____\n"
     ]
    }
   ],
   "source": [
    "result = protein_folding_problem.interpret(raw_result=raw_result)\n",
    "print(\n",
    "    \"The bitstring representing the shape of the protein during optimization is: \",\n",
    "    result.turn_sequence,\n",
    ")\n",
    "print(\"The expanded expression is:\", result.get_result_binary_vector())"
   ]
  },
  {
   "cell_type": "code",
   "execution_count": 37,
   "id": "8b393411-3112-46cf-b27c-62227b26ac0e",
   "metadata": {},
   "outputs": [
    {
     "name": "stdout",
     "output_type": "stream",
     "text": [
      "The folded protein's main sequence of turns is: [1, 0, 3, 2, 3]\n",
      "and the side turn sequences are: [None, None, None, None, None, None]\n"
     ]
    }
   ],
   "source": [
    "print(\n",
    "    f\"The folded protein's main sequence of turns is: {result.protein_shape_decoder.main_turns}\"\n",
    ")\n",
    "print(f\"and the side turn sequences are: {result.protein_shape_decoder.side_turns}\")"
   ]
  },
  {
   "cell_type": "code",
   "execution_count": 38,
   "id": "08fb0979-9fda-4529-9757-99f905038552",
   "metadata": {},
   "outputs": [
    {
     "name": "stdout",
     "output_type": "stream",
     "text": [
      "[['Y' '0.0' '0.0' '0.0']\n",
      " ['P' '0.5773502691896258' '0.5773502691896258' '-0.5773502691896258']\n",
      " ['Y' '1.1547005383792517' '0.0' '-1.1547005383792517']\n",
      " ['F' '1.7320508075688776' '-0.5773502691896258' '-0.5773502691896258']\n",
      " ['I' '2.3094010767585034' '0.0' '0.0']\n",
      " ['P' '2.886751345948129' '-0.5773502691896258' '0.5773502691896258']]\n"
     ]
    }
   ],
   "source": [
    "print(result.protein_shape_file_gen.get_xyz_data())"
   ]
  },
  {
   "cell_type": "code",
   "execution_count": 39,
   "id": "2dd1fad5-a009-4742-b368-cb9fe7c5ff81",
   "metadata": {},
   "outputs": [
    {
     "data": {
      "image/png": "[encoded data removed]",
      "text/plain": [
       "<Figure size 640x480 with 1 Axes>"
      ]
     },
     "metadata": {},
     "output_type": "display_data"
    }
   ],
   "source": [
    "fig = result.get_figure(title=\"Protein Structure\", ticks=False, grid=True)\n",
    "fig.get_axes()[0].view_init(10, 70)"
   ]
  },
  {
   "cell_type": "markdown",
   "id": "5412fd4f-f022-418b-981a-c93741690122",
   "metadata": {},
   "source": [
    "# IQPE Approach \n"
   ]
  },
  {
   "cell_type": "code",
   "execution_count": 40,
   "id": "00a7dd63-ca2f-49c7-ae54-91005878943e",
   "metadata": {},
   "outputs": [],
   "source": [
    "from qiskit import QuantumCircuit\n",
    "from qiskit.algorithms import IterativePhaseEstimation"
   ]
  },
  {
   "cell_type": "code",
   "execution_count": 41,
   "id": "9f100574-5c91-4765-bd74-9ed44fc26b1c",
   "metadata": {},
   "outputs": [],
   "source": [
    "# ?IterativePhaseEstimation"
   ]
  },
  {
   "cell_type": "code",
   "execution_count": 42,
   "id": "f3d1ea1f-b047-4d23-9154-37251d72a50f",
   "metadata": {},
   "outputs": [],
   "source": [
    "# Sampler"
   ]
  },
  {
   "cell_type": "code",
   "execution_count": 43,
   "id": "184dea6b-c441-4398-8611-d7ddbb05bf57",
   "metadata": {},
   "outputs": [],
   "source": [
    "num_iterations = 3\n",
    "quantum_instance = None\n",
    "qc = QuantumCircuit()\n",
    "sampler = Sampler()\n",
    "ipe = IterativePhaseEstimation(num_iterations, quantum_instance, sampler)"
   ]
  },
  {
   "cell_type": "code",
   "execution_count": 47,
   "id": "49c62e02-b782-4ee5-82a9-ad71e44e8b6d",
   "metadata": {},
   "outputs": [
    {
     "name": "stdout",
     "output_type": "stream",
     "text": [
      "<class 'qiskit.opflow.primitive_ops.pauli_sum_op.PauliSumOp'>\n",
      "<class 'numpy.ndarray'>\n",
      "(64, 64)\n",
      "<class 'qiskit.circuit.library.n_local.real_amplitudes.RealAmplitudes'>\n",
      "ansatz num qubits: 6\n",
      "ansatz num ancillas: 0\n",
      "ansatz num cl bits: 6\n"
     ]
    }
   ],
   "source": [
    "print(type(qubit_op))\n",
    "qubit_op_matrix = qubit_op.to_matrix()\n",
    "print(type(qubit_op_matrix))\n",
    "print(qubit_op_matrix.shape)\n",
    "# print(qubit_op_matrix)\n",
    "print(type(ansatz))\n",
    "print(\"ansatz num qubits:\", ansatz.num_qubits)\n",
    "print(\"ansatz num ancillas:\", ansatz.num_ancillas)\n",
    "print(\"ansatz num cl bits:\", ansatz.num_clbits)"
   ]
  },
  {
   "cell_type": "code",
   "execution_count": 51,
   "id": "3de04d35-34e7-4caa-a0ac-c1ddf07755d8",
   "metadata": {},
   "outputs": [
    {
     "ename": "ExtensionError",
     "evalue": "'Input matrix is not unitary.'",
     "output_type": "error",
     "traceback": [
      "\u001b[1;31m---------------------------------------------------------------------------\u001b[0m",
      "\u001b[1;31mExtensionError\u001b[0m                            Traceback (most recent call last)",
      "Cell \u001b[1;32mIn[51], line 2\u001b[0m\n\u001b[0;32m      1\u001b[0m qc_qubit_op \u001b[38;5;241m=\u001b[39m QuantumCircuit(\u001b[38;5;241m6\u001b[39m)\n\u001b[1;32m----> 2\u001b[0m \u001b[43mqc_qubit_op\u001b[49m\u001b[38;5;241;43m.\u001b[39;49m\u001b[43munitary\u001b[49m\u001b[43m(\u001b[49m\u001b[43mqubit_op_matrix\u001b[49m\u001b[43m,\u001b[49m\u001b[43m \u001b[49m\u001b[43m[\u001b[49m\u001b[38;5;241;43m0\u001b[39;49m\u001b[43m,\u001b[49m\u001b[38;5;241;43m1\u001b[39;49m\u001b[43m,\u001b[49m\u001b[38;5;241;43m2\u001b[39;49m\u001b[43m,\u001b[49m\u001b[38;5;241;43m3\u001b[39;49m\u001b[43m,\u001b[49m\u001b[38;5;241;43m4\u001b[39;49m\u001b[43m,\u001b[49m\u001b[38;5;241;43m5\u001b[39;49m\u001b[43m]\u001b[49m\u001b[43m)\u001b[49m\n\u001b[0;32m      3\u001b[0m \u001b[38;5;28mprint\u001b[39m(\u001b[38;5;28mtype\u001b[39m(qc_qubit_op))\n",
      "File \u001b[1;32m~\\miniconda3\\envs\\qa2_py39\\lib\\site-packages\\qiskit\\extensions\\unitary.py:234\u001b[0m, in \u001b[0;36munitary\u001b[1;34m(self, obj, qubits, label)\u001b[0m\n\u001b[0;32m    217\u001b[0m \u001b[38;5;28;01mdef\u001b[39;00m \u001b[38;5;21munitary\u001b[39m(\u001b[38;5;28mself\u001b[39m, obj, qubits, label\u001b[38;5;241m=\u001b[39m\u001b[38;5;28;01mNone\u001b[39;00m):\n\u001b[0;32m    218\u001b[0m \u001b[38;5;250m    \u001b[39m\u001b[38;5;124;03m\"\"\"Apply unitary gate specified by ``obj`` to ``qubits``.\u001b[39;00m\n\u001b[0;32m    219\u001b[0m \n\u001b[0;32m    220\u001b[0m \u001b[38;5;124;03m    Example:\u001b[39;00m\n\u001b[1;32m   (...)\u001b[0m\n\u001b[0;32m    232\u001b[0m \u001b[38;5;124;03m            circuit.unitary(matrix, [0, 1])\u001b[39;00m\n\u001b[0;32m    233\u001b[0m \u001b[38;5;124;03m    \"\"\"\u001b[39;00m\n\u001b[1;32m--> 234\u001b[0m     gate \u001b[38;5;241m=\u001b[39m \u001b[43mUnitaryGate\u001b[49m\u001b[43m(\u001b[49m\u001b[43mobj\u001b[49m\u001b[43m,\u001b[49m\u001b[43m \u001b[49m\u001b[43mlabel\u001b[49m\u001b[38;5;241;43m=\u001b[39;49m\u001b[43mlabel\u001b[49m\u001b[43m)\u001b[49m\n\u001b[0;32m    235\u001b[0m     \u001b[38;5;28;01mif\u001b[39;00m \u001b[38;5;28misinstance\u001b[39m(qubits, QuantumRegister):\n\u001b[0;32m    236\u001b[0m         qubits \u001b[38;5;241m=\u001b[39m qubits[:]\n",
      "File \u001b[1;32m~\\miniconda3\\envs\\qa2_py39\\lib\\site-packages\\qiskit\\extensions\\unitary.py:83\u001b[0m, in \u001b[0;36mUnitaryGate.__init__\u001b[1;34m(self, data, label)\u001b[0m\n\u001b[0;32m     81\u001b[0m \u001b[38;5;66;03m# Check input is unitary\u001b[39;00m\n\u001b[0;32m     82\u001b[0m \u001b[38;5;28;01mif\u001b[39;00m \u001b[38;5;129;01mnot\u001b[39;00m is_unitary_matrix(data):\n\u001b[1;32m---> 83\u001b[0m     \u001b[38;5;28;01mraise\u001b[39;00m ExtensionError(\u001b[38;5;124m\"\u001b[39m\u001b[38;5;124mInput matrix is not unitary.\u001b[39m\u001b[38;5;124m\"\u001b[39m)\n\u001b[0;32m     84\u001b[0m \u001b[38;5;66;03m# Check input is N-qubit matrix\u001b[39;00m\n\u001b[0;32m     85\u001b[0m input_dim, output_dim \u001b[38;5;241m=\u001b[39m data\u001b[38;5;241m.\u001b[39mshape\n",
      "\u001b[1;31mExtensionError\u001b[0m: 'Input matrix is not unitary.'"
     ]
    }
   ],
   "source": [
    "qc_qubit_op = QuantumCircuit(6)\n",
    "qc_qubit_op.unitary(qubit_op_matrix, [0,1,2,3,4,5])\n",
    "print(type(qc_qubit_op))"
   ]
  },
  {
   "cell_type": "code",
   "execution_count": 48,
   "id": "c4fa7f53-a476-47d3-a73e-314a905a531d",
   "metadata": {},
   "outputs": [
    {
     "ename": "AttributeError",
     "evalue": "'numpy.ndarray' object has no attribute 'num_qubits'",
     "output_type": "error",
     "traceback": [
      "\u001b[1;31m---------------------------------------------------------------------------\u001b[0m",
      "\u001b[1;31mAttributeError\u001b[0m                            Traceback (most recent call last)",
      "Cell \u001b[1;32mIn[48], line 1\u001b[0m\n\u001b[1;32m----> 1\u001b[0m result \u001b[38;5;241m=\u001b[39m \u001b[43mipe\u001b[49m\u001b[38;5;241;43m.\u001b[39;49m\u001b[43mestimate\u001b[49m\u001b[43m(\u001b[49m\u001b[43mqubit_op_matrix\u001b[49m\u001b[43m,\u001b[49m\u001b[43m \u001b[49m\u001b[43mansatz\u001b[49m\u001b[43m)\u001b[49m\n\u001b[0;32m      2\u001b[0m result\n",
      "File \u001b[1;32m~\\miniconda3\\envs\\qa2_py39\\lib\\site-packages\\qiskit\\algorithms\\phase_estimators\\ipe.py:197\u001b[0m, in \u001b[0;36mIterativePhaseEstimation.estimate\u001b[1;34m(self, unitary, state_preparation)\u001b[0m\n\u001b[0;32m    177\u001b[0m \u001b[38;5;28;01mdef\u001b[39;00m \u001b[38;5;21mestimate\u001b[39m(\n\u001b[0;32m    178\u001b[0m     \u001b[38;5;28mself\u001b[39m, unitary: QuantumCircuit, state_preparation: QuantumCircuit\n\u001b[0;32m    179\u001b[0m ) \u001b[38;5;241m-\u001b[39m\u001b[38;5;241m>\u001b[39m \u001b[38;5;124m\"\u001b[39m\u001b[38;5;124mIterativePhaseEstimationResult\u001b[39m\u001b[38;5;124m\"\u001b[39m:\n\u001b[0;32m    180\u001b[0m \u001b[38;5;250m    \u001b[39m\u001b[38;5;124;03m\"\"\"\u001b[39;00m\n\u001b[0;32m    181\u001b[0m \u001b[38;5;124;03m    Estimate the eigenphase of the input unitary and initial-state pair.\u001b[39;00m\n\u001b[0;32m    182\u001b[0m \n\u001b[1;32m   (...)\u001b[0m\n\u001b[0;32m    195\u001b[0m \u001b[38;5;124;03m        AlgorithmError: If neither sampler nor quantum instance is provided.\u001b[39;00m\n\u001b[0;32m    196\u001b[0m \u001b[38;5;124;03m    \"\"\"\u001b[39;00m\n\u001b[1;32m--> 197\u001b[0m     phase \u001b[38;5;241m=\u001b[39m \u001b[38;5;28;43mself\u001b[39;49m\u001b[38;5;241;43m.\u001b[39;49m\u001b[43m_estimate_phase_iteratively\u001b[49m\u001b[43m(\u001b[49m\u001b[43munitary\u001b[49m\u001b[43m,\u001b[49m\u001b[43m \u001b[49m\u001b[43mstate_preparation\u001b[49m\u001b[43m)\u001b[49m\n\u001b[0;32m    199\u001b[0m     \u001b[38;5;28;01mreturn\u001b[39;00m IterativePhaseEstimationResult(\u001b[38;5;28mself\u001b[39m\u001b[38;5;241m.\u001b[39m_num_iterations, phase)\n",
      "File \u001b[1;32m~\\miniconda3\\envs\\qa2_py39\\lib\\site-packages\\qiskit\\algorithms\\phase_estimators\\ipe.py:143\u001b[0m, in \u001b[0;36mIterativePhaseEstimation._estimate_phase_iteratively\u001b[1;34m(self, unitary, state_preparation)\u001b[0m\n\u001b[0;32m    139\u001b[0m omega_coef \u001b[38;5;241m/\u001b[39m\u001b[38;5;241m=\u001b[39m \u001b[38;5;241m2\u001b[39m\n\u001b[0;32m    141\u001b[0m \u001b[38;5;28;01mif\u001b[39;00m \u001b[38;5;28mself\u001b[39m\u001b[38;5;241m.\u001b[39m_sampler \u001b[38;5;129;01mis\u001b[39;00m \u001b[38;5;129;01mnot\u001b[39;00m \u001b[38;5;28;01mNone\u001b[39;00m:\n\u001b[1;32m--> 143\u001b[0m     qc \u001b[38;5;241m=\u001b[39m \u001b[38;5;28;43mself\u001b[39;49m\u001b[38;5;241;43m.\u001b[39;49m\u001b[43mconstruct_circuit\u001b[49m\u001b[43m(\u001b[49m\n\u001b[0;32m    144\u001b[0m \u001b[43m        \u001b[49m\u001b[43munitary\u001b[49m\u001b[43m,\u001b[49m\u001b[43m \u001b[49m\u001b[43mstate_preparation\u001b[49m\u001b[43m,\u001b[49m\u001b[43m \u001b[49m\u001b[43mk\u001b[49m\u001b[43m,\u001b[49m\u001b[43m \u001b[49m\u001b[38;5;241;43m-\u001b[39;49m\u001b[38;5;241;43m2\u001b[39;49m\u001b[43m \u001b[49m\u001b[38;5;241;43m*\u001b[39;49m\u001b[43m \u001b[49m\u001b[43mnumpy\u001b[49m\u001b[38;5;241;43m.\u001b[39;49m\u001b[43mpi\u001b[49m\u001b[43m \u001b[49m\u001b[38;5;241;43m*\u001b[39;49m\u001b[43m \u001b[49m\u001b[43momega_coef\u001b[49m\u001b[43m,\u001b[49m\u001b[43m \u001b[49m\u001b[38;5;28;43;01mTrue\u001b[39;49;00m\n\u001b[0;32m    145\u001b[0m \u001b[43m    \u001b[49m\u001b[43m)\u001b[49m\n\u001b[0;32m    146\u001b[0m     \u001b[38;5;28;01mtry\u001b[39;00m:\n\u001b[0;32m    147\u001b[0m         sampler_job \u001b[38;5;241m=\u001b[39m \u001b[38;5;28mself\u001b[39m\u001b[38;5;241m.\u001b[39m_sampler\u001b[38;5;241m.\u001b[39mrun([qc])\n",
      "File \u001b[1;32m~\\miniconda3\\envs\\qa2_py39\\lib\\site-packages\\qiskit\\algorithms\\phase_estimators\\ipe.py:108\u001b[0m, in \u001b[0;36mIterativePhaseEstimation.construct_circuit\u001b[1;34m(self, unitary, state_preparation, k, omega, measurement)\u001b[0m\n\u001b[0;32m    106\u001b[0m \u001b[38;5;66;03m# The auxiliary (phase measurement) qubit\u001b[39;00m\n\u001b[0;32m    107\u001b[0m phase_register \u001b[38;5;241m=\u001b[39m QuantumRegister(\u001b[38;5;241m1\u001b[39m, name\u001b[38;5;241m=\u001b[39m\u001b[38;5;124m\"\u001b[39m\u001b[38;5;124ma\u001b[39m\u001b[38;5;124m\"\u001b[39m)\n\u001b[1;32m--> 108\u001b[0m eigenstate_register \u001b[38;5;241m=\u001b[39m QuantumRegister(\u001b[43munitary\u001b[49m\u001b[38;5;241;43m.\u001b[39;49m\u001b[43mnum_qubits\u001b[49m, name\u001b[38;5;241m=\u001b[39m\u001b[38;5;124m\"\u001b[39m\u001b[38;5;124mq\u001b[39m\u001b[38;5;124m\"\u001b[39m)\n\u001b[0;32m    109\u001b[0m qc \u001b[38;5;241m=\u001b[39m QuantumCircuit(eigenstate_register)\n\u001b[0;32m    110\u001b[0m qc\u001b[38;5;241m.\u001b[39madd_register(phase_register)\n",
      "\u001b[1;31mAttributeError\u001b[0m: 'numpy.ndarray' object has no attribute 'num_qubits'"
     ]
    }
   ],
   "source": [
    "result = ipe.estimate(qc_qubit_op, ansatz)\n",
    "result"
   ]
  },
  {
   "cell_type": "markdown",
   "id": "8b35d114-24eb-4925-bf01-5496dae3414f",
   "metadata": {},
   "source": [
    "## VQE From Scratch Example \n",
    "\n",
    "U = [1  0  0  0  <br>\n",
    "     0  0 -1  0  <br>\n",
    "     0 -1  0  0  <br>\n",
    "     0  0  0  1] <br>\n",
    "\n",
    "\n",
    "Decompose U: <br>\n",
    "\n",
    "U = 1/2*(I1I2 + Z1Z2) - 1/2*(X1X2 + Y1Y2) <br>\n",
    "\n",
    "U * Ut = I, ==> U is unitary\n",
    "     "
   ]
  },
  {
   "cell_type": "code",
   "execution_count": 1,
   "id": "74634cc9-5a66-4403-97b3-0d68c4dddef9",
   "metadata": {},
   "outputs": [],
   "source": [
    "from qiskit.opflow.primitive_ops import PauliSumOp\n",
    "paulis  =  ['II', 'ZZ', 'XX', 'YY']\n",
    "weights  =  [1/2, 1/2, -1/2, -1/2]\n",
    "pauli_op = [([pauli,weight]) for pauli, weight in zip(paulis, weights)]\n",
    "hamiltonian = PauliSumOp.from_list([ op for op in pauli_op ])"
   ]
  },
  {
   "cell_type": "code",
   "execution_count": 3,
   "id": "b652a964-9749-4ea8-94f1-fdf799ff005b",
   "metadata": {},
   "outputs": [
    {
     "data": {
      "text/plain": [
       "PauliSumOp(SparsePauliOp(['II', 'ZZ', 'XX', 'YY'],\n",
       "              coeffs=[ 0.5+0.j,  0.5+0.j, -0.5+0.j, -0.5+0.j]), coeff=1.0)"
      ]
     },
     "execution_count": 3,
     "metadata": {},
     "output_type": "execute_result"
    }
   ],
   "source": [
    "# Hamiltonian is a PauliSumOp\n",
    "hamiltonian"
   ]
  },
  {
   "cell_type": "code",
   "execution_count": 57,
   "id": "b8563b74-e4d2-4d73-895b-1132bfe670d0",
   "metadata": {},
   "outputs": [
    {
     "name": "stdout",
     "output_type": "stream",
     "text": [
      "(4, 4)\n",
      "[[ 1.+0.j  0.+0.j  0.+0.j  0.+0.j]\n",
      " [ 0.+0.j  0.+0.j -1.+0.j  0.+0.j]\n",
      " [ 0.+0.j -1.+0.j  0.+0.j  0.+0.j]\n",
      " [ 0.+0.j  0.+0.j  0.+0.j  1.+0.j]]\n"
     ]
    }
   ],
   "source": [
    "# Return to the original matrix that we decomposed\n",
    "op_matrix = hamiltonian.to_matrix()\n",
    "print(op_matrix.shape)\n",
    "print(op_matrix)"
   ]
  },
  {
   "cell_type": "code",
   "execution_count": 59,
   "id": "c960f7da-4b55-4dfc-8af7-d08f28625c94",
   "metadata": {},
   "outputs": [
    {
     "name": "stdout",
     "output_type": "stream",
     "text": [
      "<class 'qiskit.circuit.quantumcircuit.QuantumCircuit'>\n"
     ]
    }
   ],
   "source": [
    "qc = QuantumCircuit(2)\n",
    "qc.unitary(op_matrix, [0,1])\n",
    "print(type(qc))"
   ]
  },
  {
   "cell_type": "code",
   "execution_count": null,
   "id": "9094c42a-52b2-479a-8ff2-0ae3cf17f032",
   "metadata": {},
   "outputs": [],
   "source": []
  }
 ],
 "metadata": {
  "kernelspec": {
   "display_name": "qa2_py39",
   "language": "python",
   "name": "qa2_py39"
  },
  "language_info": {
   "codemirror_mode": {
    "name": "ipython",
    "version": 3
   },
   "file_extension": ".py",
   "mimetype": "text/x-python",
   "name": "python",
   "nbconvert_exporter": "python",
   "pygments_lexer": "ipython3",
   "version": "3.9.18"
  }
 },
 "nbformat": 4,
 "nbformat_minor": 5
}
