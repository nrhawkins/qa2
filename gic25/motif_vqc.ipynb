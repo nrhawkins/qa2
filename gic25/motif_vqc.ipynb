{
 "cells": [
  {
   "cell_type": "markdown",
   "id": "950b023d-c046-4084-b508-b0e9777d110e",
   "metadata": {},
   "source": [
    "## Motif Prediction - classically and quantumly"
   ]
  },
  {
   "cell_type": "code",
   "execution_count": 1,
   "id": "99744d5a-3fdd-4ca9-a871-34e77d5d5ec1",
   "metadata": {},
   "outputs": [],
   "source": [
    "from IPython.display import clear_output\n",
    "from matplotlib import pyplot as plt\n",
    "import pandas as pd\n",
    "\n",
    "from qiskit.circuit.library import ZZFeatureMap\n",
    "from qiskit.circuit.library import RealAmplitudes\n",
    "\n",
    "from qiskit_machine_learning.algorithms.classifiers import VQC\n",
    "from qiskit_machine_learning.optimizers import COBYLA\n",
    "from qiskit_machine_learning.utils import algorithm_globals\n",
    "\n",
    "from qiskit.primitives import StatevectorSampler as Sampler\n",
    "\n",
    "import seaborn as sns\n",
    "\n",
    "from sklearn.datasets import load_iris\n",
    "from sklearn.decomposition import PCA\n",
    "from sklearn.preprocessing import MinMaxScaler\n",
    "from sklearn.model_selection import train_test_split\n",
    "from sklearn.svm import SVC\n",
    "\n",
    "import time"
   ]
  },
  {
   "cell_type": "code",
   "execution_count": 2,
   "id": "6c4b4753-5447-4c64-9ccd-a8cb9a7bdb10",
   "metadata": {},
   "outputs": [
    {
     "name": "stdout",
     "output_type": "stream",
     "text": [
      "(5900000, 5)\n"
     ]
    }
   ],
   "source": [
    "neuron_cube_df = pd.read_parquet('neuron_cube_df.parquet')\n",
    "print(neuron_cube_df.shape)"
   ]
  },
  {
   "cell_type": "code",
   "execution_count": 6,
   "id": "2d831749-6fbe-40f0-afcd-c9708493d952",
   "metadata": {},
   "outputs": [],
   "source": [
    "#neuron_cube_df.info()"
   ]
  },
  {
   "cell_type": "code",
   "execution_count": 5,
   "id": "1a2f41a9-112a-4cd2-bb01-f33a3123e1d8",
   "metadata": {},
   "outputs": [
    {
     "data": {
      "text/html": [
       "<div>\n",
       "<style scoped>\n",
       "    .dataframe tbody tr th:only-of-type {\n",
       "        vertical-align: middle;\n",
       "    }\n",
       "\n",
       "    .dataframe tbody tr th {\n",
       "        vertical-align: top;\n",
       "    }\n",
       "\n",
       "    .dataframe thead th {\n",
       "        text-align: right;\n",
       "    }\n",
       "</style>\n",
       "<table border=\"1\" class=\"dataframe\">\n",
       "  <thead>\n",
       "    <tr style=\"text-align: right;\">\n",
       "      <th></th>\n",
       "      <th>zDFF</th>\n",
       "      <th>Neuron</th>\n",
       "      <th>Frequency</th>\n",
       "      <th>Window</th>\n",
       "      <th>Stimulus</th>\n",
       "    </tr>\n",
       "  </thead>\n",
       "  <tbody>\n",
       "    <tr>\n",
       "      <th>count</th>\n",
       "      <td>5.900000e+06</td>\n",
       "      <td>5.900000e+06</td>\n",
       "      <td>5.900000e+06</td>\n",
       "      <td>5.900000e+06</td>\n",
       "      <td>5.900000e+06</td>\n",
       "    </tr>\n",
       "    <tr>\n",
       "      <th>mean</th>\n",
       "      <td>9.668301e+00</td>\n",
       "      <td>1.180331e+02</td>\n",
       "      <td>5.377561e+00</td>\n",
       "      <td>9.500000e+00</td>\n",
       "      <td>3.083546e-01</td>\n",
       "    </tr>\n",
       "    <tr>\n",
       "      <th>std</th>\n",
       "      <td>1.670201e+01</td>\n",
       "      <td>6.906387e+01</td>\n",
       "      <td>1.136437e+01</td>\n",
       "      <td>5.766282e+00</td>\n",
       "      <td>4.618139e-01</td>\n",
       "    </tr>\n",
       "    <tr>\n",
       "      <th>min</th>\n",
       "      <td>-1.000000e+02</td>\n",
       "      <td>0.000000e+00</td>\n",
       "      <td>0.000000e+00</td>\n",
       "      <td>0.000000e+00</td>\n",
       "      <td>0.000000e+00</td>\n",
       "    </tr>\n",
       "    <tr>\n",
       "      <th>25%</th>\n",
       "      <td>9.405625e-01</td>\n",
       "      <td>5.875000e+01</td>\n",
       "      <td>0.000000e+00</td>\n",
       "      <td>4.750000e+00</td>\n",
       "      <td>0.000000e+00</td>\n",
       "    </tr>\n",
       "    <tr>\n",
       "      <th>50%</th>\n",
       "      <td>6.512516e+00</td>\n",
       "      <td>1.175000e+02</td>\n",
       "      <td>0.000000e+00</td>\n",
       "      <td>9.500000e+00</td>\n",
       "      <td>0.000000e+00</td>\n",
       "    </tr>\n",
       "    <tr>\n",
       "      <th>75%</th>\n",
       "      <td>1.526041e+01</td>\n",
       "      <td>1.762500e+02</td>\n",
       "      <td>4.243000e+00</td>\n",
       "      <td>1.425000e+01</td>\n",
       "      <td>1.000000e+00</td>\n",
       "    </tr>\n",
       "    <tr>\n",
       "      <th>max</th>\n",
       "      <td>6.725551e+02</td>\n",
       "      <td>2.620000e+02</td>\n",
       "      <td>4.800000e+01</td>\n",
       "      <td>1.900000e+01</td>\n",
       "      <td>1.000000e+00</td>\n",
       "    </tr>\n",
       "  </tbody>\n",
       "</table>\n",
       "</div>"
      ],
      "text/plain": [
       "               zDFF        Neuron     Frequency        Window      Stimulus\n",
       "count  5.900000e+06  5.900000e+06  5.900000e+06  5.900000e+06  5.900000e+06\n",
       "mean   9.668301e+00  1.180331e+02  5.377561e+00  9.500000e+00  3.083546e-01\n",
       "std    1.670201e+01  6.906387e+01  1.136437e+01  5.766282e+00  4.618139e-01\n",
       "min   -1.000000e+02  0.000000e+00  0.000000e+00  0.000000e+00  0.000000e+00\n",
       "25%    9.405625e-01  5.875000e+01  0.000000e+00  4.750000e+00  0.000000e+00\n",
       "50%    6.512516e+00  1.175000e+02  0.000000e+00  9.500000e+00  0.000000e+00\n",
       "75%    1.526041e+01  1.762500e+02  4.243000e+00  1.425000e+01  1.000000e+00\n",
       "max    6.725551e+02  2.620000e+02  4.800000e+01  1.900000e+01  1.000000e+00"
      ]
     },
     "execution_count": 5,
     "metadata": {},
     "output_type": "execute_result"
    }
   ],
   "source": [
    "neuron_cube_df.describe()"
   ]
  },
  {
   "cell_type": "code",
   "execution_count": 10,
   "id": "f1949139-8952-4e31-9faf-a5a1012d51f6",
   "metadata": {},
   "outputs": [
    {
     "name": "stdout",
     "output_type": "stream",
     "text": [
      "<class 'numpy.ndarray'> (5900000, 4)\n",
      "<class 'numpy.ndarray'> (5900000,)\n"
     ]
    }
   ],
   "source": [
    "features = neuron_cube_df[['zDFF', 'Neuron', 'Frequency', 'Window']]\n",
    "labels = neuron_cube_df['Stimulus'].to_numpy()\n",
    "\n",
    "features = MinMaxScaler().fit_transform(features)\n",
    "\n",
    "print(type(features), features.shape)\n",
    "print(type(labels), labels.shape)"
   ]
  },
  {
   "cell_type": "code",
   "execution_count": 11,
   "id": "8b71496c-d934-40b2-800e-23fb7f09ed5a",
   "metadata": {},
   "outputs": [],
   "source": [
    "algorithm_globals.random_seed = 123\n",
    "\n",
    "train_features, test_features, train_labels, test_labels = train_test_split(\n",
    "    features, labels, train_size=0.8, random_state=algorithm_globals.random_seed\n",
    ")"
   ]
  },
  {
   "cell_type": "code",
   "execution_count": null,
   "id": "26b548f0-4ec8-4282-97c9-53a41e388023",
   "metadata": {},
   "outputs": [],
   "source": [
    "svc = SVC()\n",
    "_ = svc.fit(train_features, train_labels)  # suppress printing the return value"
   ]
  },
  {
   "cell_type": "code",
   "execution_count": null,
   "id": "fe6820ef-8a13-4556-adc0-3cca7a513c55",
   "metadata": {},
   "outputs": [],
   "source": [
    "train_score_c4 = svc.score(train_features, train_labels)\n",
    "test_score_c4 = svc.score(test_features, test_labels)\n",
    "\n",
    "print(f\"Classical SVC on the training dataset: {train_score_c4:.2f}\")\n",
    "print(f\"Classical SVC on the test dataset:     {test_score_c4:.2f}\")"
   ]
  },
  {
   "cell_type": "markdown",
   "id": "3b45fad2-0372-4878-bd9a-d5aed90cd37e",
   "metadata": {},
   "source": [
    "### QVC Model"
   ]
  },
  {
   "cell_type": "code",
   "execution_count": null,
   "id": "4389b686-e266-4370-82f9-78d43e200976",
   "metadata": {},
   "outputs": [],
   "source": [
    "num_features = features.shape[1]\n",
    "feature_map = ZZFeatureMap(feature_dimension=num_features, reps=1)"
   ]
  },
  {
   "cell_type": "code",
   "execution_count": null,
   "id": "33a207ed-6736-429a-9f42-2bd5d7abe99d",
   "metadata": {},
   "outputs": [],
   "source": [
    "ansatz = RealAmplitudes(num_qubits=num_features, reps=3)"
   ]
  },
  {
   "cell_type": "code",
   "execution_count": null,
   "id": "561cfc6a-a5d2-473f-ba42-a111bb61c0bb",
   "metadata": {},
   "outputs": [],
   "source": [
    "optimizer = COBYLA(maxiter=100)"
   ]
  },
  {
   "cell_type": "code",
   "execution_count": null,
   "id": "360e4a5e-402f-4e0a-94c5-9f5f6b08420d",
   "metadata": {},
   "outputs": [],
   "source": [
    "sampler = Sampler()"
   ]
  },
  {
   "cell_type": "code",
   "execution_count": null,
   "id": "dda6ab7e-8e9f-48c5-b31c-9ac5f81c3393",
   "metadata": {},
   "outputs": [],
   "source": [
    "objective_func_vals = []\n",
    "plt.rcParams[\"figure.figsize\"] = (12, 6)\n",
    "\n",
    "def callback_graph(weights, obj_func_eval):\n",
    "    clear_output(wait=True)\n",
    "    objective_func_vals.append(obj_func_eval)\n",
    "    plt.title(\"Objective function value against iteration\")\n",
    "    plt.xlabel(\"Iteration\")\n",
    "    plt.ylabel(\"Objective function value\")\n",
    "    plt.plot(range(len(objective_func_vals)), objective_func_vals)\n",
    "    plt.show()"
   ]
  },
  {
   "cell_type": "code",
   "execution_count": null,
   "id": "98a8af94-1c4f-4ed0-aa1a-644109c2bd68",
   "metadata": {},
   "outputs": [],
   "source": [
    "vqc = VQC(\n",
    "    sampler=sampler,\n",
    "    feature_map=feature_map,\n",
    "    ansatz=ansatz,\n",
    "    optimizer=optimizer,\n",
    "    callback=callback_graph,\n",
    ")\n",
    "\n",
    "# clear objective value history\n",
    "objective_func_vals = []\n",
    "\n",
    "start = time.time()\n",
    "vqc.fit(train_features, train_labels)\n",
    "elapsed = time.time() - start\n",
    "\n",
    "print(f\"Training time: {round(elapsed)} seconds\")"
   ]
  },
  {
   "cell_type": "code",
   "execution_count": null,
   "id": "8fd0eb89-9f3a-401e-a734-7d3e55833749",
   "metadata": {},
   "outputs": [],
   "source": [
    "train_score_q4 = vqc.score(train_features, train_labels)\n",
    "test_score_q4 = vqc.score(test_features, test_labels)\n",
    "\n",
    "print(f\"Quantum VQC on the training dataset: {train_score_q4:.2f}\")\n",
    "print(f\"Quantum VQC on the test dataset:     {test_score_q4:.2f}\")"
   ]
  },
  {
   "cell_type": "markdown",
   "id": "ad7fcb24-6ab5-4eef-ae49-4df3a4f9b114",
   "metadata": {},
   "source": [
    "### PCA Feature Reduction?"
   ]
  },
  {
   "cell_type": "code",
   "execution_count": null,
   "id": "146c6f5d-333d-4b54-8b19-f85ed38da130",
   "metadata": {},
   "outputs": [],
   "source": []
  }
 ],
 "metadata": {
  "kernelspec": {
   "display_name": "gic25_py312",
   "language": "python",
   "name": "gic25_py312"
  },
  "language_info": {
   "codemirror_mode": {
    "name": "ipython",
    "version": 3
   },
   "file_extension": ".py",
   "mimetype": "text/x-python",
   "name": "python",
   "nbconvert_exporter": "python",
   "pygments_lexer": "ipython3",
   "version": "3.12.9"
  }
 },
 "nbformat": 4,
 "nbformat_minor": 5
}
