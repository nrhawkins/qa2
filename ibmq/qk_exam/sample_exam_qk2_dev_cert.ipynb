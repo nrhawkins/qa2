{
 "cells": [
  {
   "cell_type": "markdown",
   "id": "845388c7-e18a-4cbe-a79f-32aade6fe70c",
   "metadata": {},
   "source": [
    "# Qiskit v2.0 Developer Certification Prep Study Session"
   ]
  },
  {
   "cell_type": "markdown",
   "id": "1317888f-5bd3-44ff-b9d1-6cfd1a0dfe0d",
   "metadata": {},
   "source": [
    "## What is Qiskit?\n",
    "\n",
    "\"Qiskit is the world’s most popular software stack for quantum computing,\" [IBM Q](https://www.ibm.com/quantum/qiskit).\n",
    "\n",
    "You can:\n",
    "1. Build circuits\n",
    "2. Leverage Qiskit functions\n",
    "3. Transpile with AI tools\n",
    "4. Execute workloads in an optimized runtime environment.\n",
    "\n",
    "Read more from IBM Q on [Qiskit Performance, Sep 2024](https://www.ibm.com/quantum/blog/qiskit-performance) relative to other quantum software development kits.\n",
    "\n",
    "<br>\n",
    "\n",
    "\"Introduction to Qiskit - The name 'Qiskit' is a general term referring to a collection of software for executing programs on quantum computers. Most notably among these software tools is the open-source Qiskit SDK, and the runtime environment (accessed using Qiskit Runtime) through which you can execute workloads on IBM® quantum processing units (QPUs). As quantum technology evolves, so does Qiskit, with new capabilities released every year that expand this core collection of quantum software.\n",
    "\n",
    "<br>\n",
    "\n",
    "In addition, many open-source projects are part of the broader Qiskit ecosystem. These software tools are not part of Qiskit itself, but rather interface with Qiskit and can provide valuable additional functionality,\" IBM Q.\n",
    "\n",
    "<br>\n"
   ]
  },
  {
   "cell_type": "markdown",
   "id": "41b53f7a-b30f-49a0-9be7-bf12d0dee08e",
   "metadata": {},
   "source": [
    "## Qiskit History - Timeline and Focus\n",
    "\n",
    "<table>\n",
    "  <tr>\n",
    "    <th>Date</th>\n",
    "    <th>Event</th>\n",
    "    <th>Focus</th>\n",
    "  </tr>\n",
    "  <tr>\n",
    "    <td>Mar 7, 2017</td>\n",
    "    <td>First Qiskit Release (Qiskit v0.1)</td>\n",
    "    <td>Getting started, in a pretty big way</td>\n",
    "  </tr>\n",
    "  <tr>\n",
    "    <td>Feb 15, 2024</td>\n",
    "    <td>First Stable Release of Qiskit (Qiskit SDK v1.0)</td>\n",
    "    <td>Performance - replaced some Python parts with Rust</td>\n",
    "  </tr>  \n",
    "  <tr>\n",
    "    <td>Apr 3, 2025</td>\n",
    "    <td>Second Qiskit Release (Qiskit v2.0)</td>\n",
    "    <td>C API to interface Qiskit and HPC systems</td>\n",
    "  </tr>  \n",
    "</table>\n",
    "\n",
    "<br>\n",
    "\n",
    "#### What is Semantic Versioning?\n",
    "\n",
    "\"Semantic versioning is a system for assigning version numbers to software that conveys information about the changes in the software's code. \n",
    "<br><br>\n",
    "It follows a MAJOR.MINOR.PATCH format, where each component indicates the type of change: <br><br>\n",
    "- Major (X): Increments when backward-incompatible changes are introduced (breaking changes). <br>\n",
    "- Minor (Y): Increments when new, backward-compatible functionality is added. <br>\n",
    "- Patch (Z): Increments for bug fixes and other backward-compatible changes. <br><br>\n",
    "This system helps developers understand the potential impact of upgrading to a new version of the software.\"\n",
    "<br>\n",
    "(source: Google AI) \n",
    "<br><br>\n",
    "\n"
   ]
  },
  {
   "cell_type": "markdown",
   "id": "4ce9099c-563d-4d5b-866c-93d24d68b929",
   "metadata": {},
   "source": [
    "## IBM Q Platform - take a look\n",
    "\n",
    "Legacy platform is being sunset on July 1.  \n",
    "\n",
    "Link to [New Platform](https://quantum.cloud.ibm.com/), 10 mins of free access per month.\n",
    "\n",
    "See Sections: Learning, Documention, QPUs, Tutorials, Announcements\n",
    "\n",
    "Example [Tutorial: QAOA](https://quantum.cloud.ibm.com/docs/en/tutorials/quantum-approximate-optimization-algorithm), small scale (5 qubits), and scaled up (to 127 qubits) "
   ]
  },
  {
   "cell_type": "markdown",
   "id": "5cf74db1-82d3-4a0c-a441-36ac8821a660",
   "metadata": {},
   "source": [
    "## Qiskit Migration\n",
    "\n",
    "#### What will break with Qiskit v2.0 that I had running with Qiskit v1.0?\n",
    "\n",
    "probably, possibly, for now, [Qiskit Machine Learning](https://pypi.org/project/qiskit-machine-learning/), on PyPI.\n",
    "\n",
    "Stay-tuned, seek out more information, join the Qiskit Slack Channel\n",
    "\n",
    "#### What about my existing code?\n",
    "\n",
    "- Change it to stay up-to-date.  \n",
    "- Continue to use it, for now, until you can update it.\n"
   ]
  },
  {
   "cell_type": "markdown",
   "id": "2bc9c08c-5e49-4d29-a24e-b9cee4dac8ca",
   "metadata": {},
   "source": [
    "## Qiskit - learning more and staying up-to-date\n",
    "\n",
    "#### You can check out these IBM Q posts for more information:\n",
    "\n",
    "[Detailed Qiskit History - the first 7 years](https://www.ibm.com/quantum/qiskit/history)\n",
    "\n",
    "[Qiskit v2.0 release notes](https://www.ibm.com/quantum/blog/qiskit-2-0-release-summary)\n",
    "\n",
    "#### You can join the Qiskit Slack Channel\n",
    "\n",
    "Link to [invite here](https://qisk.it/join-slack).\n"
   ]
  },
  {
   "cell_type": "markdown",
   "id": "20fec8bf-8d58-4d78-8e7c-d87169ee77f1",
   "metadata": {},
   "source": [
    "## Qiskit v2.0 Developer Certification Exam -- what is it and should I take it?\n",
    "\n",
    "Registration Coming Soon (sometime later this year)\n",
    "\n",
    "IBM Q awards a Badge for passing the exam.\n",
    "\n",
    "Passing this exam is a requirement for becoming a Qiskit Advocate.  The new version of the Qiskit Advocate Program will also be opening soon for new applications.\n"
   ]
  },
  {
   "cell_type": "markdown",
   "id": "b915806f-79da-400a-b3b5-f5659a3e8d36",
   "metadata": {},
   "source": [
    "#### What is the exam like? (based on the previous Qiskit v0.2 Certification Exam)\n",
    "\n",
    "- multiple choice questions\n",
    "- taken using a computer in a formal exam setting either at an exam facility or remotely with a camera on\n",
    "- 90 mins, 60 questions, score 73% or more to pass (these were the rules for the Qiskit v0.2 exam)\n",
    "\n",
    "#### How can I prepare for the exam?\n",
    "\n",
    "- study the Qiskit v2.0 documentation\n",
    "- take sample exams\n",
    "- join study sessions\n",
    "- watch Qiskit videos prepared by IBM Q (see the [Qiskit Channel on YouTube](https://www.youtube.com/qiskit))\n",
    "\n",
    "## Qiskit v2.0 Developer Certification Exam -- What topics are covered?\n",
    "\n",
    "1. Perform quantum operations\n",
    "    - Define Pauli Operators\n",
    "    - Apply quantum operations\n",
    "1. Visualize quantum circuits, measurements, and states\n",
    "    - Visualize quantum circuits\n",
    "    - Visualize quantum measurements\n",
    "    - Visualize quantum states\n",
    "1. Create quantum circuits\n",
    "    - Construct basic quantum circuits\n",
    "    - Construct dynamic circuits\n",
    "    - Construct parameterized circuits\n",
    "    - Transpile and optimize circuits\n",
    "1. Run quantum circuits\n",
    "    - Differentiate execution modes to optimize job\n",
    "queuing\n",
    "    - Run quantum circuits with real hardware in the\n",
    "IBM Runtime provider\n",
    "1. Use the sampler primitive\n",
    "    - Set sampler primitive options such as resilience\n",
    "levels\n",
    "    - Bypass runtime error mitigations and implement\n",
    "your own\n",
    "    - Understand the theoretical background behind the\n",
    "sampler primitive\n",
    "1. Use the estimator primitive\n",
    "    - Set estimator primitive options such as resilience\n",
    "levels\n",
    "    - Understand the theoretical background behind the\n",
    "estimator primitive  \n",
    "1. Retrieve and analyze the results of quantum circuits\n",
    "    - Retrieve previous experiment results (session/\n",
    "runtime)\n",
    "    - Monitor jobs\n",
    "1. Operate with OpenQASM\n",
    "    -  Structure types in OpenQASM 3 programs\n",
    "    -  Interpret OpenQASM semantics for versions 2 and 3\n",
    "    -  Interoperate different versions of OpenQASM with\n",
    "Qiskit\n",
    "    - Interact with the Qiskit IBM Runtime REST API\n"
   ]
  },
  {
   "cell_type": "markdown",
   "id": "849e8cce-bfba-46b3-8c4b-4e69ec6e1618",
   "metadata": {},
   "source": [
    "## Qiskit v2.0 Developer Certification Exam -- here's a sample exam of 22 questions"
   ]
  },
  {
   "cell_type": "markdown",
   "id": "ec0f7db8-c2ee-4b61-8953-43ac22c64d40",
   "metadata": {},
   "source": [
    "#### Qiskit Operators\n",
    "\n",
    "- Q1: Which is the correct, most common, and best way to create way to create a Pauli operator for the case of 105 qubits?\n",
    "\n",
    "    1. op = SparsePauliOp.from_sparse_list(\n",
    "    [(\"ZX\", [101, 104], 1.0), (\"YY\", [0, 3], -1 + 1j)], num_qubits=105)\n",
    "    1. op = SparsePauliOp.from_sparse_list(\n",
    "    [(\"XXZ\", [0, 1, 4], 1 + 2j), (\"ZZ\", [1, 2], -1 + 1j)], num_qubits=5)\n",
    "    1. op = Pauli(\"ZX\") + Pauli(\"(-1 + 1j)YY\")\n",
    "    1. op = Operator(np.random.rand(105, 105), input_dims=[2, 3], output_dims=[2, 3])  \n",
    "\n",
    "<br>\n",
    "\n",
    "- Q2: Which is the correct way to use a SparsePauliOp operator in a quantum circuit,\n",
    "\n",
    "     op = SparsePauliOp.from_sparse_list(\n",
    "    [(\"XXZ\", [0, 1, 4], 1 + 2j), (\"ZZ\", [1, 2], -1 + 1j)], num_qubits=5) ?\n",
    "\n",
    "    1. qc = QuantumCircuit(105)\n",
    "       qc.append(op, [0, 5])\n",
    "       qc.draw(\"mpl\")\n",
    "   \n",
    "    1. qc = QuantumCircuit(5)\n",
    "       qc.op([0, 5])\n",
    " \n",
    "    1. Neither of the above because a sparse Pauli operator is an observable. It is not a unitary transformation that can be directly applied as a gate in a quantum circuit.  You would prepare and run a circuit and then measure the expectation value of this observable on the output of your quantum circuit.     \n",
    "  "
   ]
  },
  {
   "cell_type": "markdown",
   "id": "b6332112-622a-46fd-a69b-bfd324abcaac",
   "metadata": {},
   "source": [
    "##### Q1 Answer via Code"
   ]
  },
  {
   "cell_type": "code",
   "execution_count": 1,
   "id": "62f5605f-3551-4516-9e49-978b965c76db",
   "metadata": {},
   "outputs": [],
   "source": [
    "from qiskit.quantum_info import Operator, Pauli, SparsePauliOp\n",
    "from qiskit.exceptions import QiskitError\n",
    "import numpy as np"
   ]
  },
  {
   "cell_type": "code",
   "execution_count": 2,
   "id": "61e88728-cebd-417b-876b-1734aa2e0380",
   "metadata": {},
   "outputs": [
    {
     "name": "stdout",
     "output_type": "stream",
     "text": [
      "op1: SparsePauliOp(['XIIZIIIIIIIIIIIIIIIIIIIIIIIIIIIIIIIIIIIIIIIIIIIIIIIIIIIIIIIIIIIIIIIIIIIIIIIIIIIIIIIIIIIIIIIIIIIIIIIIIIIII', 'IIIIIIIIIIIIIIIIIIIIIIIIIIIIIIIIIIIIIIIIIIIIIIIIIIIIIIIIIIIIIIIIIIIIIIIIIIIIIIIIIIIIIIIIIIIIIIIIIIIIIYIIY'],\n",
      "              coeffs=[ 1.+0.j, -1.+1.j])\n",
      "op2: SparsePauliOp(['ZIIXX', 'IIZZI'],\n",
      "              coeffs=[ 1.+2.j, -1.+1.j])\n",
      "op3: a QiskitError occurred: 'Pauli string label \"(-1 + 1j)YY\" is not valid.'\n",
      "op4: a QiskitError occurred: 'Output dimensions do not match matrix shape (6 != 105)'\n",
      "\n",
      "\n",
      "The answer is:\n",
      "answer 1 is valid because the dimensions of the operator matrix are 2**105 by 2**105, and we said that we have 105 qubits.\n",
      "\t This is a big matrix, since 2**105 equals 40564819207303340847894502572032\n",
      "\n",
      "\t Using SparsePauliOp is beneficial for dealing with large quantum systems because it\n",
      "\t can represent and manipulate operators efficiently, even with hundreds of qubits,\n",
      "\t as long as the number of non-zero Pauli terms is relatively small.\n",
      "\n",
      "answer 2 is not valid; the operator's dimensions are (32, 32) rather than 2**105 by 2**105\n",
      "answer 3 is not valid; we experienced QiskitError exceptions above\n",
      "answer 4 is not valid; we experienced QiskitError exceptions above\n"
     ]
    }
   ],
   "source": [
    "# Q1 \n",
    "\n",
    "op1 = SparsePauliOp.from_sparse_list(\n",
    "    [(\"ZX\", [101, 104], 1.0), (\"YY\", [0, 3], -1 + 1j)], num_qubits=105)\n",
    "print(\"op1:\", op1)\n",
    "\n",
    "op2 = SparsePauliOp.from_sparse_list(\n",
    "    [(\"XXZ\", [0, 1, 4], 1 + 2j), (\"ZZ\", [1, 2], -1 + 1j)], num_qubits=5)\n",
    "print(\"op2:\", op2)\n",
    "\n",
    "try:\n",
    "   op3 = Pauli(\"ZX\") + Pauli(\"(-1 + 1j)YY\")\n",
    "   print(\"op3\", op3)\n",
    "except QiskitError as e:\n",
    "   print(f\"op3: a QiskitError occurred: {e}\")\n",
    "finally:\n",
    "   op3 = None\n",
    "\n",
    "try:\n",
    "   op4 = Operator(np.random.rand(105, 105), input_dims=[2, 3], output_dims=[2, 3]) \n",
    "   print(\"op4\", op4)\n",
    "except QiskitError as e:\n",
    "   print(f\"op4: a QiskitError occurred: {e}\")\n",
    "finally:\n",
    "   op4 = None\n",
    "\n",
    "print(\"\\n\\nThe answer is:\")\n",
    "\n",
    "try:\n",
    "   assert(op1.dim[0] == op1.dim[1] == 2**105)\n",
    "   print(\"answer 1 is valid because the dimensions of the operator matrix are 2**105 by 2**105, and we said that we have 105 qubits.\")\n",
    "   print(\"\\t This is a big matrix, since 2**105 equals\", 2**105)\n",
    "   print(\"\\n\\t Using SparsePauliOp is beneficial for dealing with large quantum systems because it\") \n",
    "   print(\"\\t can represent and manipulate operators efficiently, even with hundreds of qubits,\")\n",
    "   print(\"\\t as long as the number of non-zero Pauli terms is relatively small.\\n\")  \n",
    "except AssertionError as e:\n",
    "   print(\"answer 1 is not valid\")\n",
    "    \n",
    "try: \n",
    "   assert(op2.dim[0] == op2.dim[1] == 2**105)\n",
    "   print(\"answer 2 is valid\")\n",
    "except AssertionError as e:\n",
    "   print(\"answer 2 is not valid; the operator's dimensions are\", op2.dim, \"rather than 2**105 by 2**105\")\n",
    "   \n",
    "if op3 is None:\n",
    "   print(\"answer 3 is not valid; we experienced QiskitError exceptions above\")\n",
    "if op4 is None:\n",
    "   print(\"answer 4 is not valid; we experienced QiskitError exceptions above\")\n"
   ]
  },
  {
   "cell_type": "markdown",
   "id": "95fca315-a155-4d53-bcd5-d06bb80be1ad",
   "metadata": {},
   "source": [
    "##### Q2 Answer via Code"
   ]
  },
  {
   "cell_type": "code",
   "execution_count": 3,
   "id": "8c870f28-8d2f-48e7-880b-8ca360dc392f",
   "metadata": {},
   "outputs": [],
   "source": [
    "from qiskit.circuit import QuantumCircuit"
   ]
  },
  {
   "cell_type": "code",
   "execution_count": 4,
   "id": "b74b2083-4d64-4dda-910e-31f5d05de599",
   "metadata": {},
   "outputs": [
    {
     "name": "stdout",
     "output_type": "stream",
     "text": [
      "qc1: a TypeError occurred: issubclass() arg 1 must be a class\n",
      "qc2: a TypeError occurred: 'QuantumCircuit' object has no attribute 'op2'\n",
      "\n",
      "The answer is 3,\n",
      "because SparsePauliOp's are not applied directly to a circuit as a gate would be,\n",
      "but instead are applied to the output state of a circuit to compute the expectation of the observable.\n",
      "This is Quantum Mechanics math.\n"
     ]
    }
   ],
   "source": [
    "try:\n",
    "   qc1 = QuantumCircuit(105)\n",
    "   qc1.append(op2, [0, 5])\n",
    "   qc1.draw(\"mpl\")\n",
    "except TypeError as e:\n",
    "   print(f\"qc1: a TypeError occurred: {e}\")\n",
    "   qc1Error = True\n",
    "    \n",
    "try:\n",
    "   qc2 = QuantumCircuit(5)\n",
    "   qc2.op2([0, 5])\n",
    "   qc2.draw(\"mpl\")\n",
    "except AttributeError as e:\n",
    "   print(f\"qc2: a TypeError occurred: {e}\")\n",
    "   qc2Error = True\n",
    "    \n",
    "if qc1Error and qc2Error:\n",
    "    print(\"\\nThe answer is 3,\") \n",
    "    print(\"because SparsePauliOp's are not applied directly to a circuit as a gate would be,\")\n",
    "    print(\"but instead are applied to the output state of a circuit to compute the expectation of the observable.\")\n",
    "    print(\"This is Quantum Mechanics math.\")"
   ]
  },
  {
   "cell_type": "markdown",
   "id": "6c2aa852-6ed1-4035-92e1-8c635cb12478",
   "metadata": {},
   "source": [
    "#### Visualize Quantum Circuits\n",
    "\n",
    "- Q3a: Visualize Quantum Circuits\n",
    "\n",
    "      Let's build a quantum circuit, qc = QuantumCircuit(3, 3), which has 3 qubits and 3 classical bits.\n",
    "\n",
    "          We add some gates:\n",
    "          qc.x(1)\n",
    "          qc.h(range(3))\n",
    "          qc.cx(0, 1)\n",
    "\n",
    "      All of the methods below are valid for drawing the circuit.\n",
    "  \n",
    "      Which one draws the circuit using color rather than black-and-white?\n",
    "\n",
    "          1. print(qc)\n",
    "          2. qc.draw()\n",
    "          3. qc.draw(output=\"mpl\")\n",
    "          4. qc.draw(output=\"latex\")\n",
    "          5. all of the commands as written above will result in non-black-and-white graphs\n",
    "\n",
    "<br>\n",
    "\n",
    "- Q3b: Visualize Quantum Circuits\n",
    "\n",
    "      If we add a barrier to the circuit, say, before measuring the qubits,\n",
    "\n",
    "          qc.barrier()\n",
    "          qc.measure(range(3), range(3))  \n",
    "\n",
    "      can we choose to not show the barrier when drawing the circuit,\n",
    "      and can we reverse the order that the qubits are displayed?\n",
    "\n",
    "      1. yes, qc.draw(output=\"mpl\", reverse_barriers=True, plot_barriers=False)\n",
    "      2. no, we can hide any barriers, but not reverse the order in which the qubits are displayed.\n",
    "      3. yes, qc.draw(output=\"mpl\", reverse_bits=True, plot_barriers=False)\n"
   ]
  },
  {
   "cell_type": "markdown",
   "id": "26cde7c1-1405-4a52-9498-ee228936a6df",
   "metadata": {},
   "source": [
    "##### Q3a Answer via Code"
   ]
  },
  {
   "cell_type": "code",
   "execution_count": 25,
   "id": "0d0134b1-0979-4895-bc51-e4e273f357a8",
   "metadata": {},
   "outputs": [
    {
     "name": "stdout",
     "output_type": "stream",
     "text": [
      "     ┌───┐          \n",
      "q_0: ┤ H ├───────■──\n",
      "     ├───┤┌───┐┌─┴─┐\n",
      "q_1: ┤ X ├┤ H ├┤ X ├\n",
      "     ├───┤└───┘└───┘\n",
      "q_2: ┤ H ├──────────\n",
      "     └───┘          \n",
      "c: 3/═══════════════\n",
      "                    \n"
     ]
    }
   ],
   "source": [
    "qc = QuantumCircuit(3, 3)\n",
    "qc.x(1)\n",
    "qc.h(range(3))\n",
    "qc.cx(0, 1)\n",
    "\n",
    "print(qc)"
   ]
  },
  {
   "cell_type": "code",
   "execution_count": 16,
   "id": "03eda77a-0306-45ef-a843-cdc882c16631",
   "metadata": {},
   "outputs": [
    {
     "data": {
      "text/html": [
       "<pre style=\"word-wrap: normal;white-space: pre;background: #fff0;line-height: 1.1;font-family: &quot;Courier New&quot;,Courier,monospace\">     ┌───┐          \n",
       "q_0: ┤ H ├───────■──\n",
       "     ├───┤┌───┐┌─┴─┐\n",
       "q_1: ┤ X ├┤ H ├┤ X ├\n",
       "     ├───┤└───┘└───┘\n",
       "q_2: ┤ H ├──────────\n",
       "     └───┘          \n",
       "c: 3/═══════════════\n",
       "                    </pre>"
      ],
      "text/plain": [
       "     ┌───┐          \n",
       "q_0: ┤ H ├───────■──\n",
       "     ├───┤┌───┐┌─┴─┐\n",
       "q_1: ┤ X ├┤ H ├┤ X ├\n",
       "     ├───┤└───┘└───┘\n",
       "q_2: ┤ H ├──────────\n",
       "     └───┘          \n",
       "c: 3/═══════════════\n",
       "                    "
      ]
     },
     "execution_count": 16,
     "metadata": {},
     "output_type": "execute_result"
    }
   ],
   "source": [
    "qc.draw()"
   ]
  },
  {
   "cell_type": "code",
   "execution_count": 17,
   "id": "9f8180b9-9bb8-4115-a924-27c118e7006c",
   "metadata": {},
   "outputs": [
    {
     "data": {
      "image/png": "[encoded data removed]",
      "text/plain": [
       "<Figure size 371.107x367.889 with 1 Axes>"
      ]
     },
     "execution_count": 17,
     "metadata": {},
     "output_type": "execute_result"
    }
   ],
   "source": [
    "qc.draw(output=\"mpl\")"
   ]
  },
  {
   "cell_type": "code",
   "execution_count": 18,
   "id": "e5d987d1-b985-4e21-acfc-c93b7c50e27d",
   "metadata": {},
   "outputs": [
    {
     "data": {
      "image/jpeg": "[encoded data removed]",
      "image/png": "[encoded data removed]",
      "text/plain": [
       "<PIL.Image.Image image mode=RGB size=217x117>"
      ]
     },
     "execution_count": 18,
     "metadata": {},
     "output_type": "execute_result"
    }
   ],
   "source": [
    "qc.draw(output=\"latex\")"
   ]
  },
  {
   "cell_type": "markdown",
   "id": "532898b5-c5fd-4412-9ed6-c38e7cad75e3",
   "metadata": {},
   "source": [
    "##### Q3b Answer via Code"
   ]
  },
  {
   "cell_type": "code",
   "execution_count": 26,
   "id": "d9875575-17b0-4a64-b2c0-93877576522b",
   "metadata": {},
   "outputs": [
    {
     "data": {
      "image/png": "[encoded data removed]",
      "text/plain": [
       "<Figure size 705.552x367.889 with 1 Axes>"
      ]
     },
     "execution_count": 26,
     "metadata": {},
     "output_type": "execute_result"
    }
   ],
   "source": [
    "qc.barrier()\n",
    "qc.measure(range(3), range(3))\n",
    "qc.draw(output=\"mpl\")"
   ]
  },
  {
   "cell_type": "code",
   "execution_count": 31,
   "id": "773a4541-48a7-4cd5-b97e-79425cbd4a9e",
   "metadata": {},
   "outputs": [
    {
     "name": "stdout",
     "output_type": "stream",
     "text": [
      "The answer is 'yes', number 3; the barrier is not displayed and the qubits are displayed in reverse order.\n"
     ]
    },
    {
     "data": {
      "image/png": "[encoded data removed]",
      "text/plain": [
       "<Figure size 621.941x367.889 with 1 Axes>"
      ]
     },
     "execution_count": 31,
     "metadata": {},
     "output_type": "execute_result"
    }
   ],
   "source": [
    "print(\"The answer is 'yes', number 3; the barrier is not displayed and the qubits are displayed in reverse order.\")\n",
    "qc.draw(output=\"mpl\", reverse_bits=True, plot_barriers=False)"
   ]
  },
  {
   "cell_type": "markdown",
   "id": "868ce76c-c75a-4f0a-b7e6-690022b0120b",
   "metadata": {},
   "source": [
    "#### Visualize Quantum Measurements\n",
    "\n",
    "- Q4: Visualize Quantum Measurements\n",
    "\n",
    "      Say we create a circuit, run it through a pass manager to convert the gates to ones that the hardware can execute,\n",
    "      (i.e. create an isa_circuit, where isa == Instruction Set Architecture), and run it using the Sampler:\n",
    "  \n",
    "      job = sampler.run([isa_circuit])\n",
    "      result = job.result()\n",
    "\n",
    "      How would we create a histogram of the resulting measurements from the default 4096 shots?\n",
    "\n",
    "      1. plot_histogram(result.get_counts())\n",
    "      2. plot_histogram(result[0].get_counts())\n",
    "      3. plot_histogram(result[0].data.meas.get_counts())\n"
   ]
  },
  {
   "cell_type": "markdown",
   "id": "ee408cd5-3a3a-4fd8-8d78-9af8c419e659",
   "metadata": {},
   "source": [
    "##### Q4 Answer via Code"
   ]
  },
  {
   "cell_type": "code",
   "execution_count": 6,
   "id": "cc84b516-c1dc-4802-a902-af86fb8cacfc",
   "metadata": {},
   "outputs": [
    {
     "name": "stderr",
     "output_type": "stream",
     "text": [
      "C:\\Users\\nat\\AppData\\Local\\Temp\\ipykernel_11168\\2971531056.py:7: DeprecationWarning: The \"ibm_quantum\" channel option is deprecated and will be sunset on 1 July. After this date, \"ibm_cloud\", \"ibm_quantum_platform\", and \"local\" will be the only valid channels. Open Plan users should migrate now.  All other users should review the migration guide (https://quantum.cloud.ibm.com/docs/migration-guides/classic-iqp-to-cloud-iqp)to learn when to migrate.\n",
      "  service = QiskitRuntimeService()\n",
      "C:\\Users\\nat\\miniconda3\\envs\\qk2_py312\\Lib\\site-packages\\qiskit_ibm_runtime\\qiskit_runtime_service.py:1129: UserWarning: IBM Quantum Platform is moving, and this version will be sunset on July 1. To get started on the new platform, read the migration guide at https://docs.quantum.ibm.com/migration-guides/classic-iqp-to-cloud-iqp\n",
      "  warnings.warn(warning_message)\n"
     ]
    },
    {
     "ename": "KeyboardInterrupt",
     "evalue": "",
     "output_type": "error",
     "traceback": [
      "\u001b[31m---------------------------------------------------------------------------\u001b[39m",
      "\u001b[31mKeyboardInterrupt\u001b[39m                         Traceback (most recent call last)",
      "\u001b[36mCell\u001b[39m\u001b[36m \u001b[39m\u001b[32mIn[6]\u001b[39m\u001b[32m, line 23\u001b[39m\n\u001b[32m     21\u001b[39m sampler = Sampler(backend)\n\u001b[32m     22\u001b[39m job = sampler.run([isa_circuit])\n\u001b[32m---> \u001b[39m\u001b[32m23\u001b[39m result = \u001b[43mjob\u001b[49m\u001b[43m.\u001b[49m\u001b[43mresult\u001b[49m\u001b[43m(\u001b[49m\u001b[43m)\u001b[49m\n\u001b[32m     25\u001b[39m plot_histogram(result[\u001b[32m0\u001b[39m].data.meas.get_counts())\n",
      "\u001b[36mFile \u001b[39m\u001b[32m~\\miniconda3\\envs\\qk2_py312\\Lib\\site-packages\\qiskit_ibm_runtime\\runtime_job_v2.py:133\u001b[39m, in \u001b[36mRuntimeJobV2.result\u001b[39m\u001b[34m(self, timeout, decoder)\u001b[39m\n\u001b[32m    118\u001b[39m \u001b[38;5;250m\u001b[39m\u001b[33;03m\"\"\"Return the results of the job.\u001b[39;00m\n\u001b[32m    119\u001b[39m \n\u001b[32m    120\u001b[39m \u001b[33;03mArgs:\u001b[39;00m\n\u001b[32m   (...)\u001b[39m\u001b[32m    130\u001b[39m \u001b[33;03m    RuntimeInvalidStateError: If the job was cancelled, and attempting to retrieve result.\u001b[39;00m\n\u001b[32m    131\u001b[39m \u001b[33;03m\"\"\"\u001b[39;00m\n\u001b[32m    132\u001b[39m _decoder = decoder \u001b[38;5;129;01mor\u001b[39;00m \u001b[38;5;28mself\u001b[39m._final_result_decoder\n\u001b[32m--> \u001b[39m\u001b[32m133\u001b[39m \u001b[38;5;28;43mself\u001b[39;49m\u001b[43m.\u001b[49m\u001b[43mwait_for_final_state\u001b[49m\u001b[43m(\u001b[49m\u001b[43mtimeout\u001b[49m\u001b[43m=\u001b[49m\u001b[43mtimeout\u001b[49m\u001b[43m)\u001b[49m\n\u001b[32m    134\u001b[39m \u001b[38;5;28;01mif\u001b[39;00m \u001b[38;5;28mself\u001b[39m._status == \u001b[33m\"\u001b[39m\u001b[33mERROR\u001b[39m\u001b[33m\"\u001b[39m:\n\u001b[32m    135\u001b[39m     error_message = \u001b[38;5;28mself\u001b[39m._reason \u001b[38;5;28;01mif\u001b[39;00m \u001b[38;5;28mself\u001b[39m._reason \u001b[38;5;28;01melse\u001b[39;00m \u001b[38;5;28mself\u001b[39m._error_message\n",
      "\u001b[36mFile \u001b[39m\u001b[32m~\\miniconda3\\envs\\qk2_py312\\Lib\\site-packages\\qiskit_ibm_runtime\\runtime_job_v2.py:252\u001b[39m, in \u001b[36mRuntimeJobV2.wait_for_final_state\u001b[39m\u001b[34m(self, timeout)\u001b[39m\n\u001b[32m    248\u001b[39m             \u001b[38;5;28;01mraise\u001b[39;00m RuntimeJobTimeoutError(\n\u001b[32m    249\u001b[39m                 \u001b[33mf\u001b[39m\u001b[33m\"\u001b[39m\u001b[33mTimed out waiting for job to complete after \u001b[39m\u001b[38;5;132;01m{\u001b[39;00mtimeout\u001b[38;5;132;01m}\u001b[39;00m\u001b[33m secs.\u001b[39m\u001b[33m\"\u001b[39m\n\u001b[32m    250\u001b[39m             )\n\u001b[32m    251\u001b[39m         time.sleep(\u001b[32m0.1\u001b[39m)\n\u001b[32m--> \u001b[39m\u001b[32m252\u001b[39m         status = \u001b[38;5;28;43mself\u001b[39;49m\u001b[43m.\u001b[49m\u001b[43mstatus\u001b[49m\u001b[43m(\u001b[49m\u001b[43m)\u001b[49m\n\u001b[32m    253\u001b[39m \u001b[38;5;28;01mexcept\u001b[39;00m futures.TimeoutError:\n\u001b[32m    254\u001b[39m     \u001b[38;5;28;01mraise\u001b[39;00m RuntimeJobTimeoutError(\n\u001b[32m    255\u001b[39m         \u001b[33mf\u001b[39m\u001b[33m\"\u001b[39m\u001b[33mTimed out waiting for job to complete after \u001b[39m\u001b[38;5;132;01m{\u001b[39;00mtimeout\u001b[38;5;132;01m}\u001b[39;00m\u001b[33m secs.\u001b[39m\u001b[33m\"\u001b[39m\n\u001b[32m    256\u001b[39m     )\n",
      "\u001b[36mFile \u001b[39m\u001b[32m~\\miniconda3\\envs\\qk2_py312\\Lib\\site-packages\\qiskit_ibm_runtime\\runtime_job_v2.py:169\u001b[39m, in \u001b[36mRuntimeJobV2.status\u001b[39m\u001b[34m(self)\u001b[39m\n\u001b[32m    163\u001b[39m \u001b[38;5;28;01mdef\u001b[39;00m\u001b[38;5;250m \u001b[39m\u001b[34mstatus\u001b[39m(\u001b[38;5;28mself\u001b[39m) -> JobStatus:\n\u001b[32m    164\u001b[39m \u001b[38;5;250m    \u001b[39m\u001b[33;03m\"\"\"Return the status of the job.\u001b[39;00m\n\u001b[32m    165\u001b[39m \n\u001b[32m    166\u001b[39m \u001b[33;03m    Returns:\u001b[39;00m\n\u001b[32m    167\u001b[39m \u001b[33;03m        Status of this job.\u001b[39;00m\n\u001b[32m    168\u001b[39m \u001b[33;03m    \"\"\"\u001b[39;00m\n\u001b[32m--> \u001b[39m\u001b[32m169\u001b[39m     \u001b[38;5;28;43mself\u001b[39;49m\u001b[43m.\u001b[49m\u001b[43m_set_status_and_error_message\u001b[49m\u001b[43m(\u001b[49m\u001b[43m)\u001b[49m\n\u001b[32m    170\u001b[39m     \u001b[38;5;28;01mreturn\u001b[39;00m \u001b[38;5;28mself\u001b[39m._status\n",
      "\u001b[36mFile \u001b[39m\u001b[32m~\\miniconda3\\envs\\qk2_py312\\Lib\\site-packages\\qiskit_ibm_runtime\\base_runtime_job.py:212\u001b[39m, in \u001b[36mBaseRuntimeJob._set_status_and_error_message\u001b[39m\u001b[34m(self)\u001b[39m\n\u001b[32m    210\u001b[39m \u001b[38;5;250m\u001b[39m\u001b[33;03m\"\"\"Fetch and set status and error message.\"\"\"\u001b[39;00m\n\u001b[32m    211\u001b[39m \u001b[38;5;28;01mif\u001b[39;00m \u001b[38;5;28mself\u001b[39m._status \u001b[38;5;129;01mnot\u001b[39;00m \u001b[38;5;129;01min\u001b[39;00m \u001b[38;5;28mself\u001b[39m.JOB_FINAL_STATES:\n\u001b[32m--> \u001b[39m\u001b[32m212\u001b[39m     response = \u001b[38;5;28;43mself\u001b[39;49m\u001b[43m.\u001b[49m\u001b[43m_api_client\u001b[49m\u001b[43m.\u001b[49m\u001b[43mjob_get\u001b[49m\u001b[43m(\u001b[49m\u001b[43mjob_id\u001b[49m\u001b[43m=\u001b[49m\u001b[38;5;28;43mself\u001b[39;49m\u001b[43m.\u001b[49m\u001b[43mjob_id\u001b[49m\u001b[43m(\u001b[49m\u001b[43m)\u001b[49m\u001b[43m)\u001b[49m\n\u001b[32m    213\u001b[39m     \u001b[38;5;28mself\u001b[39m._set_status(response)\n\u001b[32m    214\u001b[39m     \u001b[38;5;28mself\u001b[39m._set_error_message(response)\n",
      "\u001b[36mFile \u001b[39m\u001b[32m~\\miniconda3\\envs\\qk2_py312\\Lib\\site-packages\\qiskit_ibm_runtime\\api\\clients\\runtime.py:113\u001b[39m, in \u001b[36mRuntimeClient.job_get\u001b[39m\u001b[34m(self, job_id, exclude_params)\u001b[39m\n\u001b[32m    104\u001b[39m \u001b[38;5;28;01mdef\u001b[39;00m\u001b[38;5;250m \u001b[39m\u001b[34mjob_get\u001b[39m(\u001b[38;5;28mself\u001b[39m, job_id: \u001b[38;5;28mstr\u001b[39m, exclude_params: \u001b[38;5;28mbool\u001b[39m = \u001b[38;5;28;01mTrue\u001b[39;00m) -> Dict:\n\u001b[32m    105\u001b[39m \u001b[38;5;250m    \u001b[39m\u001b[33;03m\"\"\"Get job data.\u001b[39;00m\n\u001b[32m    106\u001b[39m \n\u001b[32m    107\u001b[39m \u001b[33;03m    Args:\u001b[39;00m\n\u001b[32m   (...)\u001b[39m\u001b[32m    111\u001b[39m \u001b[33;03m        JSON response.\u001b[39;00m\n\u001b[32m    112\u001b[39m \u001b[33;03m    \"\"\"\u001b[39;00m\n\u001b[32m--> \u001b[39m\u001b[32m113\u001b[39m     response = \u001b[38;5;28;43mself\u001b[39;49m\u001b[43m.\u001b[49m\u001b[43m_api\u001b[49m\u001b[43m.\u001b[49m\u001b[43mprogram_job\u001b[49m\u001b[43m(\u001b[49m\u001b[43mjob_id\u001b[49m\u001b[43m)\u001b[49m\u001b[43m.\u001b[49m\u001b[43mget\u001b[49m\u001b[43m(\u001b[49m\u001b[43mexclude_params\u001b[49m\u001b[43m=\u001b[49m\u001b[43mexclude_params\u001b[49m\u001b[43m)\u001b[49m\n\u001b[32m    114\u001b[39m     logger.debug(\u001b[33m\"\u001b[39m\u001b[33mRuntime job get response: \u001b[39m\u001b[38;5;132;01m%s\u001b[39;00m\u001b[33m\"\u001b[39m, response)\n\u001b[32m    115\u001b[39m     \u001b[38;5;28;01mreturn\u001b[39;00m response\n",
      "\u001b[36mFile \u001b[39m\u001b[32m~\\miniconda3\\envs\\qk2_py312\\Lib\\site-packages\\qiskit_ibm_runtime\\api\\rest\\program_job.py:59\u001b[39m, in \u001b[36mProgramJob.get\u001b[39m\u001b[34m(self, exclude_params)\u001b[39m\n\u001b[32m     56\u001b[39m \u001b[38;5;28;01mif\u001b[39;00m exclude_params:\n\u001b[32m     57\u001b[39m     payload[\u001b[33m\"\u001b[39m\u001b[33mexclude_params\u001b[39m\u001b[33m\"\u001b[39m] = \u001b[33m\"\u001b[39m\u001b[33mtrue\u001b[39m\u001b[33m\"\u001b[39m\n\u001b[32m---> \u001b[39m\u001b[32m59\u001b[39m \u001b[38;5;28;01mreturn\u001b[39;00m \u001b[38;5;28;43mself\u001b[39;49m\u001b[43m.\u001b[49m\u001b[43msession\u001b[49m\u001b[43m.\u001b[49m\u001b[43mget\u001b[49m\u001b[43m(\u001b[49m\n\u001b[32m     60\u001b[39m \u001b[43m    \u001b[49m\u001b[38;5;28;43mself\u001b[39;49m\u001b[43m.\u001b[49m\u001b[43mget_url\u001b[49m\u001b[43m(\u001b[49m\u001b[33;43m\"\u001b[39;49m\u001b[33;43mself\u001b[39;49m\u001b[33;43m\"\u001b[39;49m\u001b[43m)\u001b[49m\u001b[43m,\u001b[49m\u001b[43m \u001b[49m\u001b[43mparams\u001b[49m\u001b[43m=\u001b[49m\u001b[43mpayload\u001b[49m\u001b[43m,\u001b[49m\u001b[43m \u001b[49m\u001b[43mheaders\u001b[49m\u001b[43m=\u001b[49m\u001b[38;5;28;43mself\u001b[39;49m\u001b[43m.\u001b[49m\u001b[43m_HEADER_JSON_ACCEPT\u001b[49m\n\u001b[32m     61\u001b[39m \u001b[43m\u001b[49m\u001b[43m)\u001b[49m.json(\u001b[38;5;28mcls\u001b[39m=RuntimeDecoder)\n",
      "\u001b[36mFile \u001b[39m\u001b[32m~\\miniconda3\\envs\\qk2_py312\\Lib\\site-packages\\requests\\sessions.py:602\u001b[39m, in \u001b[36mSession.get\u001b[39m\u001b[34m(self, url, **kwargs)\u001b[39m\n\u001b[32m    594\u001b[39m \u001b[38;5;250m\u001b[39m\u001b[33mr\u001b[39m\u001b[33;03m\"\"\"Sends a GET request. Returns :class:`Response` object.\u001b[39;00m\n\u001b[32m    595\u001b[39m \n\u001b[32m    596\u001b[39m \u001b[33;03m:param url: URL for the new :class:`Request` object.\u001b[39;00m\n\u001b[32m    597\u001b[39m \u001b[33;03m:param \\*\\*kwargs: Optional arguments that ``request`` takes.\u001b[39;00m\n\u001b[32m    598\u001b[39m \u001b[33;03m:rtype: requests.Response\u001b[39;00m\n\u001b[32m    599\u001b[39m \u001b[33;03m\"\"\"\u001b[39;00m\n\u001b[32m    601\u001b[39m kwargs.setdefault(\u001b[33m\"\u001b[39m\u001b[33mallow_redirects\u001b[39m\u001b[33m\"\u001b[39m, \u001b[38;5;28;01mTrue\u001b[39;00m)\n\u001b[32m--> \u001b[39m\u001b[32m602\u001b[39m \u001b[38;5;28;01mreturn\u001b[39;00m \u001b[38;5;28;43mself\u001b[39;49m\u001b[43m.\u001b[49m\u001b[43mrequest\u001b[49m\u001b[43m(\u001b[49m\u001b[33;43m\"\u001b[39;49m\u001b[33;43mGET\u001b[39;49m\u001b[33;43m\"\u001b[39;49m\u001b[43m,\u001b[49m\u001b[43m \u001b[49m\u001b[43murl\u001b[49m\u001b[43m,\u001b[49m\u001b[43m \u001b[49m\u001b[43m*\u001b[49m\u001b[43m*\u001b[49m\u001b[43mkwargs\u001b[49m\u001b[43m)\u001b[49m\n",
      "\u001b[36mFile \u001b[39m\u001b[32m~\\miniconda3\\envs\\qk2_py312\\Lib\\site-packages\\qiskit_ibm_runtime\\api\\session.py:327\u001b[39m, in \u001b[36mRetrySession.request\u001b[39m\u001b[34m(self, method, url, bare, **kwargs)\u001b[39m\n\u001b[32m    325\u001b[39m \u001b[38;5;28;01mtry\u001b[39;00m:\n\u001b[32m    326\u001b[39m     \u001b[38;5;28mself\u001b[39m._log_request_info(final_url, method, kwargs)\n\u001b[32m--> \u001b[39m\u001b[32m327\u001b[39m     response = \u001b[38;5;28;43msuper\u001b[39;49m\u001b[43m(\u001b[49m\u001b[43m)\u001b[49m\u001b[43m.\u001b[49m\u001b[43mrequest\u001b[49m\u001b[43m(\u001b[49m\u001b[43mmethod\u001b[49m\u001b[43m,\u001b[49m\u001b[43m \u001b[49m\u001b[43mfinal_url\u001b[49m\u001b[43m,\u001b[49m\u001b[43m \u001b[49m\u001b[43mheaders\u001b[49m\u001b[43m=\u001b[49m\u001b[43mheaders\u001b[49m\u001b[43m,\u001b[49m\u001b[43m \u001b[49m\u001b[43m*\u001b[49m\u001b[43m*\u001b[49m\u001b[43mkwargs\u001b[49m\u001b[43m)\u001b[49m\n\u001b[32m    328\u001b[39m     response.raise_for_status()\n\u001b[32m    329\u001b[39m \u001b[38;5;28;01mexcept\u001b[39;00m RequestException \u001b[38;5;28;01mas\u001b[39;00m ex:\n\u001b[32m    330\u001b[39m     \u001b[38;5;66;03m# Wrap the requests exceptions into a IBM Q custom one, for\u001b[39;00m\n\u001b[32m    331\u001b[39m     \u001b[38;5;66;03m# compatibility.\u001b[39;00m\n",
      "\u001b[36mFile \u001b[39m\u001b[32m~\\miniconda3\\envs\\qk2_py312\\Lib\\site-packages\\requests\\sessions.py:589\u001b[39m, in \u001b[36mSession.request\u001b[39m\u001b[34m(self, method, url, params, data, headers, cookies, files, auth, timeout, allow_redirects, proxies, hooks, stream, verify, cert, json)\u001b[39m\n\u001b[32m    584\u001b[39m send_kwargs = {\n\u001b[32m    585\u001b[39m     \u001b[33m\"\u001b[39m\u001b[33mtimeout\u001b[39m\u001b[33m\"\u001b[39m: timeout,\n\u001b[32m    586\u001b[39m     \u001b[33m\"\u001b[39m\u001b[33mallow_redirects\u001b[39m\u001b[33m\"\u001b[39m: allow_redirects,\n\u001b[32m    587\u001b[39m }\n\u001b[32m    588\u001b[39m send_kwargs.update(settings)\n\u001b[32m--> \u001b[39m\u001b[32m589\u001b[39m resp = \u001b[38;5;28;43mself\u001b[39;49m\u001b[43m.\u001b[49m\u001b[43msend\u001b[49m\u001b[43m(\u001b[49m\u001b[43mprep\u001b[49m\u001b[43m,\u001b[49m\u001b[43m \u001b[49m\u001b[43m*\u001b[49m\u001b[43m*\u001b[49m\u001b[43msend_kwargs\u001b[49m\u001b[43m)\u001b[49m\n\u001b[32m    591\u001b[39m \u001b[38;5;28;01mreturn\u001b[39;00m resp\n",
      "\u001b[36mFile \u001b[39m\u001b[32m~\\miniconda3\\envs\\qk2_py312\\Lib\\site-packages\\requests\\sessions.py:703\u001b[39m, in \u001b[36mSession.send\u001b[39m\u001b[34m(self, request, **kwargs)\u001b[39m\n\u001b[32m    700\u001b[39m start = preferred_clock()\n\u001b[32m    702\u001b[39m \u001b[38;5;66;03m# Send the request\u001b[39;00m\n\u001b[32m--> \u001b[39m\u001b[32m703\u001b[39m r = \u001b[43madapter\u001b[49m\u001b[43m.\u001b[49m\u001b[43msend\u001b[49m\u001b[43m(\u001b[49m\u001b[43mrequest\u001b[49m\u001b[43m,\u001b[49m\u001b[43m \u001b[49m\u001b[43m*\u001b[49m\u001b[43m*\u001b[49m\u001b[43mkwargs\u001b[49m\u001b[43m)\u001b[49m\n\u001b[32m    705\u001b[39m \u001b[38;5;66;03m# Total elapsed time of the request (approximately)\u001b[39;00m\n\u001b[32m    706\u001b[39m elapsed = preferred_clock() - start\n",
      "\u001b[36mFile \u001b[39m\u001b[32m~\\miniconda3\\envs\\qk2_py312\\Lib\\site-packages\\requests\\adapters.py:667\u001b[39m, in \u001b[36mHTTPAdapter.send\u001b[39m\u001b[34m(self, request, stream, timeout, verify, cert, proxies)\u001b[39m\n\u001b[32m    664\u001b[39m     timeout = TimeoutSauce(connect=timeout, read=timeout)\n\u001b[32m    666\u001b[39m \u001b[38;5;28;01mtry\u001b[39;00m:\n\u001b[32m--> \u001b[39m\u001b[32m667\u001b[39m     resp = \u001b[43mconn\u001b[49m\u001b[43m.\u001b[49m\u001b[43murlopen\u001b[49m\u001b[43m(\u001b[49m\n\u001b[32m    668\u001b[39m \u001b[43m        \u001b[49m\u001b[43mmethod\u001b[49m\u001b[43m=\u001b[49m\u001b[43mrequest\u001b[49m\u001b[43m.\u001b[49m\u001b[43mmethod\u001b[49m\u001b[43m,\u001b[49m\n\u001b[32m    669\u001b[39m \u001b[43m        \u001b[49m\u001b[43murl\u001b[49m\u001b[43m=\u001b[49m\u001b[43murl\u001b[49m\u001b[43m,\u001b[49m\n\u001b[32m    670\u001b[39m \u001b[43m        \u001b[49m\u001b[43mbody\u001b[49m\u001b[43m=\u001b[49m\u001b[43mrequest\u001b[49m\u001b[43m.\u001b[49m\u001b[43mbody\u001b[49m\u001b[43m,\u001b[49m\n\u001b[32m    671\u001b[39m \u001b[43m        \u001b[49m\u001b[43mheaders\u001b[49m\u001b[43m=\u001b[49m\u001b[43mrequest\u001b[49m\u001b[43m.\u001b[49m\u001b[43mheaders\u001b[49m\u001b[43m,\u001b[49m\n\u001b[32m    672\u001b[39m \u001b[43m        \u001b[49m\u001b[43mredirect\u001b[49m\u001b[43m=\u001b[49m\u001b[38;5;28;43;01mFalse\u001b[39;49;00m\u001b[43m,\u001b[49m\n\u001b[32m    673\u001b[39m \u001b[43m        \u001b[49m\u001b[43massert_same_host\u001b[49m\u001b[43m=\u001b[49m\u001b[38;5;28;43;01mFalse\u001b[39;49;00m\u001b[43m,\u001b[49m\n\u001b[32m    674\u001b[39m \u001b[43m        \u001b[49m\u001b[43mpreload_content\u001b[49m\u001b[43m=\u001b[49m\u001b[38;5;28;43;01mFalse\u001b[39;49;00m\u001b[43m,\u001b[49m\n\u001b[32m    675\u001b[39m \u001b[43m        \u001b[49m\u001b[43mdecode_content\u001b[49m\u001b[43m=\u001b[49m\u001b[38;5;28;43;01mFalse\u001b[39;49;00m\u001b[43m,\u001b[49m\n\u001b[32m    676\u001b[39m \u001b[43m        \u001b[49m\u001b[43mretries\u001b[49m\u001b[43m=\u001b[49m\u001b[38;5;28;43mself\u001b[39;49m\u001b[43m.\u001b[49m\u001b[43mmax_retries\u001b[49m\u001b[43m,\u001b[49m\n\u001b[32m    677\u001b[39m \u001b[43m        \u001b[49m\u001b[43mtimeout\u001b[49m\u001b[43m=\u001b[49m\u001b[43mtimeout\u001b[49m\u001b[43m,\u001b[49m\n\u001b[32m    678\u001b[39m \u001b[43m        \u001b[49m\u001b[43mchunked\u001b[49m\u001b[43m=\u001b[49m\u001b[43mchunked\u001b[49m\u001b[43m,\u001b[49m\n\u001b[32m    679\u001b[39m \u001b[43m    \u001b[49m\u001b[43m)\u001b[49m\n\u001b[32m    681\u001b[39m \u001b[38;5;28;01mexcept\u001b[39;00m (ProtocolError, \u001b[38;5;167;01mOSError\u001b[39;00m) \u001b[38;5;28;01mas\u001b[39;00m err:\n\u001b[32m    682\u001b[39m     \u001b[38;5;28;01mraise\u001b[39;00m \u001b[38;5;167;01mConnectionError\u001b[39;00m(err, request=request)\n",
      "\u001b[36mFile \u001b[39m\u001b[32m~\\miniconda3\\envs\\qk2_py312\\Lib\\site-packages\\urllib3\\connectionpool.py:787\u001b[39m, in \u001b[36mHTTPConnectionPool.urlopen\u001b[39m\u001b[34m(self, method, url, body, headers, retries, redirect, assert_same_host, timeout, pool_timeout, release_conn, chunked, body_pos, preload_content, decode_content, **response_kw)\u001b[39m\n\u001b[32m    784\u001b[39m response_conn = conn \u001b[38;5;28;01mif\u001b[39;00m \u001b[38;5;129;01mnot\u001b[39;00m release_conn \u001b[38;5;28;01melse\u001b[39;00m \u001b[38;5;28;01mNone\u001b[39;00m\n\u001b[32m    786\u001b[39m \u001b[38;5;66;03m# Make the request on the HTTPConnection object\u001b[39;00m\n\u001b[32m--> \u001b[39m\u001b[32m787\u001b[39m response = \u001b[38;5;28;43mself\u001b[39;49m\u001b[43m.\u001b[49m\u001b[43m_make_request\u001b[49m\u001b[43m(\u001b[49m\n\u001b[32m    788\u001b[39m \u001b[43m    \u001b[49m\u001b[43mconn\u001b[49m\u001b[43m,\u001b[49m\n\u001b[32m    789\u001b[39m \u001b[43m    \u001b[49m\u001b[43mmethod\u001b[49m\u001b[43m,\u001b[49m\n\u001b[32m    790\u001b[39m \u001b[43m    \u001b[49m\u001b[43murl\u001b[49m\u001b[43m,\u001b[49m\n\u001b[32m    791\u001b[39m \u001b[43m    \u001b[49m\u001b[43mtimeout\u001b[49m\u001b[43m=\u001b[49m\u001b[43mtimeout_obj\u001b[49m\u001b[43m,\u001b[49m\n\u001b[32m    792\u001b[39m \u001b[43m    \u001b[49m\u001b[43mbody\u001b[49m\u001b[43m=\u001b[49m\u001b[43mbody\u001b[49m\u001b[43m,\u001b[49m\n\u001b[32m    793\u001b[39m \u001b[43m    \u001b[49m\u001b[43mheaders\u001b[49m\u001b[43m=\u001b[49m\u001b[43mheaders\u001b[49m\u001b[43m,\u001b[49m\n\u001b[32m    794\u001b[39m \u001b[43m    \u001b[49m\u001b[43mchunked\u001b[49m\u001b[43m=\u001b[49m\u001b[43mchunked\u001b[49m\u001b[43m,\u001b[49m\n\u001b[32m    795\u001b[39m \u001b[43m    \u001b[49m\u001b[43mretries\u001b[49m\u001b[43m=\u001b[49m\u001b[43mretries\u001b[49m\u001b[43m,\u001b[49m\n\u001b[32m    796\u001b[39m \u001b[43m    \u001b[49m\u001b[43mresponse_conn\u001b[49m\u001b[43m=\u001b[49m\u001b[43mresponse_conn\u001b[49m\u001b[43m,\u001b[49m\n\u001b[32m    797\u001b[39m \u001b[43m    \u001b[49m\u001b[43mpreload_content\u001b[49m\u001b[43m=\u001b[49m\u001b[43mpreload_content\u001b[49m\u001b[43m,\u001b[49m\n\u001b[32m    798\u001b[39m \u001b[43m    \u001b[49m\u001b[43mdecode_content\u001b[49m\u001b[43m=\u001b[49m\u001b[43mdecode_content\u001b[49m\u001b[43m,\u001b[49m\n\u001b[32m    799\u001b[39m \u001b[43m    \u001b[49m\u001b[43m*\u001b[49m\u001b[43m*\u001b[49m\u001b[43mresponse_kw\u001b[49m\u001b[43m,\u001b[49m\n\u001b[32m    800\u001b[39m \u001b[43m\u001b[49m\u001b[43m)\u001b[49m\n\u001b[32m    802\u001b[39m \u001b[38;5;66;03m# Everything went great!\u001b[39;00m\n\u001b[32m    803\u001b[39m clean_exit = \u001b[38;5;28;01mTrue\u001b[39;00m\n",
      "\u001b[36mFile \u001b[39m\u001b[32m~\\miniconda3\\envs\\qk2_py312\\Lib\\site-packages\\urllib3\\connectionpool.py:534\u001b[39m, in \u001b[36mHTTPConnectionPool._make_request\u001b[39m\u001b[34m(self, conn, method, url, body, headers, retries, timeout, chunked, response_conn, preload_content, decode_content, enforce_content_length)\u001b[39m\n\u001b[32m    532\u001b[39m \u001b[38;5;66;03m# Receive the response from the server\u001b[39;00m\n\u001b[32m    533\u001b[39m \u001b[38;5;28;01mtry\u001b[39;00m:\n\u001b[32m--> \u001b[39m\u001b[32m534\u001b[39m     response = \u001b[43mconn\u001b[49m\u001b[43m.\u001b[49m\u001b[43mgetresponse\u001b[49m\u001b[43m(\u001b[49m\u001b[43m)\u001b[49m\n\u001b[32m    535\u001b[39m \u001b[38;5;28;01mexcept\u001b[39;00m (BaseSSLError, \u001b[38;5;167;01mOSError\u001b[39;00m) \u001b[38;5;28;01mas\u001b[39;00m e:\n\u001b[32m    536\u001b[39m     \u001b[38;5;28mself\u001b[39m._raise_timeout(err=e, url=url, timeout_value=read_timeout)\n",
      "\u001b[36mFile \u001b[39m\u001b[32m~\\miniconda3\\envs\\qk2_py312\\Lib\\site-packages\\urllib3\\connection.py:516\u001b[39m, in \u001b[36mHTTPConnection.getresponse\u001b[39m\u001b[34m(self)\u001b[39m\n\u001b[32m    513\u001b[39m _shutdown = \u001b[38;5;28mgetattr\u001b[39m(\u001b[38;5;28mself\u001b[39m.sock, \u001b[33m\"\u001b[39m\u001b[33mshutdown\u001b[39m\u001b[33m\"\u001b[39m, \u001b[38;5;28;01mNone\u001b[39;00m)\n\u001b[32m    515\u001b[39m \u001b[38;5;66;03m# Get the response from http.client.HTTPConnection\u001b[39;00m\n\u001b[32m--> \u001b[39m\u001b[32m516\u001b[39m httplib_response = \u001b[38;5;28;43msuper\u001b[39;49m\u001b[43m(\u001b[49m\u001b[43m)\u001b[49m\u001b[43m.\u001b[49m\u001b[43mgetresponse\u001b[49m\u001b[43m(\u001b[49m\u001b[43m)\u001b[49m\n\u001b[32m    518\u001b[39m \u001b[38;5;28;01mtry\u001b[39;00m:\n\u001b[32m    519\u001b[39m     assert_header_parsing(httplib_response.msg)\n",
      "\u001b[36mFile \u001b[39m\u001b[32m~\\miniconda3\\envs\\qk2_py312\\Lib\\http\\client.py:1430\u001b[39m, in \u001b[36mHTTPConnection.getresponse\u001b[39m\u001b[34m(self)\u001b[39m\n\u001b[32m   1428\u001b[39m \u001b[38;5;28;01mtry\u001b[39;00m:\n\u001b[32m   1429\u001b[39m     \u001b[38;5;28;01mtry\u001b[39;00m:\n\u001b[32m-> \u001b[39m\u001b[32m1430\u001b[39m         \u001b[43mresponse\u001b[49m\u001b[43m.\u001b[49m\u001b[43mbegin\u001b[49m\u001b[43m(\u001b[49m\u001b[43m)\u001b[49m\n\u001b[32m   1431\u001b[39m     \u001b[38;5;28;01mexcept\u001b[39;00m \u001b[38;5;167;01mConnectionError\u001b[39;00m:\n\u001b[32m   1432\u001b[39m         \u001b[38;5;28mself\u001b[39m.close()\n",
      "\u001b[36mFile \u001b[39m\u001b[32m~\\miniconda3\\envs\\qk2_py312\\Lib\\http\\client.py:331\u001b[39m, in \u001b[36mHTTPResponse.begin\u001b[39m\u001b[34m(self)\u001b[39m\n\u001b[32m    329\u001b[39m \u001b[38;5;66;03m# read until we get a non-100 response\u001b[39;00m\n\u001b[32m    330\u001b[39m \u001b[38;5;28;01mwhile\u001b[39;00m \u001b[38;5;28;01mTrue\u001b[39;00m:\n\u001b[32m--> \u001b[39m\u001b[32m331\u001b[39m     version, status, reason = \u001b[38;5;28;43mself\u001b[39;49m\u001b[43m.\u001b[49m\u001b[43m_read_status\u001b[49m\u001b[43m(\u001b[49m\u001b[43m)\u001b[49m\n\u001b[32m    332\u001b[39m     \u001b[38;5;28;01mif\u001b[39;00m status != CONTINUE:\n\u001b[32m    333\u001b[39m         \u001b[38;5;28;01mbreak\u001b[39;00m\n",
      "\u001b[36mFile \u001b[39m\u001b[32m~\\miniconda3\\envs\\qk2_py312\\Lib\\http\\client.py:292\u001b[39m, in \u001b[36mHTTPResponse._read_status\u001b[39m\u001b[34m(self)\u001b[39m\n\u001b[32m    291\u001b[39m \u001b[38;5;28;01mdef\u001b[39;00m\u001b[38;5;250m \u001b[39m\u001b[34m_read_status\u001b[39m(\u001b[38;5;28mself\u001b[39m):\n\u001b[32m--> \u001b[39m\u001b[32m292\u001b[39m     line = \u001b[38;5;28mstr\u001b[39m(\u001b[38;5;28;43mself\u001b[39;49m\u001b[43m.\u001b[49m\u001b[43mfp\u001b[49m\u001b[43m.\u001b[49m\u001b[43mreadline\u001b[49m\u001b[43m(\u001b[49m\u001b[43m_MAXLINE\u001b[49m\u001b[43m \u001b[49m\u001b[43m+\u001b[49m\u001b[43m \u001b[49m\u001b[32;43m1\u001b[39;49m\u001b[43m)\u001b[49m, \u001b[33m\"\u001b[39m\u001b[33miso-8859-1\u001b[39m\u001b[33m\"\u001b[39m)\n\u001b[32m    293\u001b[39m     \u001b[38;5;28;01mif\u001b[39;00m \u001b[38;5;28mlen\u001b[39m(line) > _MAXLINE:\n\u001b[32m    294\u001b[39m         \u001b[38;5;28;01mraise\u001b[39;00m LineTooLong(\u001b[33m\"\u001b[39m\u001b[33mstatus line\u001b[39m\u001b[33m\"\u001b[39m)\n",
      "\u001b[36mFile \u001b[39m\u001b[32m~\\miniconda3\\envs\\qk2_py312\\Lib\\socket.py:720\u001b[39m, in \u001b[36mSocketIO.readinto\u001b[39m\u001b[34m(self, b)\u001b[39m\n\u001b[32m    718\u001b[39m \u001b[38;5;28;01mwhile\u001b[39;00m \u001b[38;5;28;01mTrue\u001b[39;00m:\n\u001b[32m    719\u001b[39m     \u001b[38;5;28;01mtry\u001b[39;00m:\n\u001b[32m--> \u001b[39m\u001b[32m720\u001b[39m         \u001b[38;5;28;01mreturn\u001b[39;00m \u001b[38;5;28;43mself\u001b[39;49m\u001b[43m.\u001b[49m\u001b[43m_sock\u001b[49m\u001b[43m.\u001b[49m\u001b[43mrecv_into\u001b[49m\u001b[43m(\u001b[49m\u001b[43mb\u001b[49m\u001b[43m)\u001b[49m\n\u001b[32m    721\u001b[39m     \u001b[38;5;28;01mexcept\u001b[39;00m timeout:\n\u001b[32m    722\u001b[39m         \u001b[38;5;28mself\u001b[39m._timeout_occurred = \u001b[38;5;28;01mTrue\u001b[39;00m\n",
      "\u001b[36mFile \u001b[39m\u001b[32m~\\miniconda3\\envs\\qk2_py312\\Lib\\ssl.py:1251\u001b[39m, in \u001b[36mSSLSocket.recv_into\u001b[39m\u001b[34m(self, buffer, nbytes, flags)\u001b[39m\n\u001b[32m   1247\u001b[39m     \u001b[38;5;28;01mif\u001b[39;00m flags != \u001b[32m0\u001b[39m:\n\u001b[32m   1248\u001b[39m         \u001b[38;5;28;01mraise\u001b[39;00m \u001b[38;5;167;01mValueError\u001b[39;00m(\n\u001b[32m   1249\u001b[39m           \u001b[33m\"\u001b[39m\u001b[33mnon-zero flags not allowed in calls to recv_into() on \u001b[39m\u001b[38;5;132;01m%s\u001b[39;00m\u001b[33m\"\u001b[39m %\n\u001b[32m   1250\u001b[39m           \u001b[38;5;28mself\u001b[39m.\u001b[34m__class__\u001b[39m)\n\u001b[32m-> \u001b[39m\u001b[32m1251\u001b[39m     \u001b[38;5;28;01mreturn\u001b[39;00m \u001b[38;5;28;43mself\u001b[39;49m\u001b[43m.\u001b[49m\u001b[43mread\u001b[49m\u001b[43m(\u001b[49m\u001b[43mnbytes\u001b[49m\u001b[43m,\u001b[49m\u001b[43m \u001b[49m\u001b[43mbuffer\u001b[49m\u001b[43m)\u001b[49m\n\u001b[32m   1252\u001b[39m \u001b[38;5;28;01melse\u001b[39;00m:\n\u001b[32m   1253\u001b[39m     \u001b[38;5;28;01mreturn\u001b[39;00m \u001b[38;5;28msuper\u001b[39m().recv_into(buffer, nbytes, flags)\n",
      "\u001b[36mFile \u001b[39m\u001b[32m~\\miniconda3\\envs\\qk2_py312\\Lib\\ssl.py:1103\u001b[39m, in \u001b[36mSSLSocket.read\u001b[39m\u001b[34m(self, len, buffer)\u001b[39m\n\u001b[32m   1101\u001b[39m \u001b[38;5;28;01mtry\u001b[39;00m:\n\u001b[32m   1102\u001b[39m     \u001b[38;5;28;01mif\u001b[39;00m buffer \u001b[38;5;129;01mis\u001b[39;00m \u001b[38;5;129;01mnot\u001b[39;00m \u001b[38;5;28;01mNone\u001b[39;00m:\n\u001b[32m-> \u001b[39m\u001b[32m1103\u001b[39m         \u001b[38;5;28;01mreturn\u001b[39;00m \u001b[38;5;28;43mself\u001b[39;49m\u001b[43m.\u001b[49m\u001b[43m_sslobj\u001b[49m\u001b[43m.\u001b[49m\u001b[43mread\u001b[49m\u001b[43m(\u001b[49m\u001b[38;5;28;43mlen\u001b[39;49m\u001b[43m,\u001b[49m\u001b[43m \u001b[49m\u001b[43mbuffer\u001b[49m\u001b[43m)\u001b[49m\n\u001b[32m   1104\u001b[39m     \u001b[38;5;28;01melse\u001b[39;00m:\n\u001b[32m   1105\u001b[39m         \u001b[38;5;28;01mreturn\u001b[39;00m \u001b[38;5;28mself\u001b[39m._sslobj.read(\u001b[38;5;28mlen\u001b[39m)\n",
      "\u001b[31mKeyboardInterrupt\u001b[39m: "
     ]
    }
   ],
   "source": [
    "from qiskit_ibm_runtime import QiskitRuntimeService, SamplerV2 as Sampler\n",
    "from qiskit.transpiler import generate_preset_pass_manager\n",
    " \n",
    "from qiskit.circuit import QuantumCircuit\n",
    "from qiskit.visualization import plot_histogram\n",
    " \n",
    "service = QiskitRuntimeService()\n",
    " \n",
    "# backend = service.least_busy(simulator=False, operational=True)\n",
    "backend = \n",
    "\n",
    "# Quantum circuit to make a Bell state\n",
    "bell = QuantumCircuit(2)\n",
    "bell.h(0)\n",
    "bell.cx(0, 1)\n",
    "bell.measure_all()\n",
    " \n",
    "pm = generate_preset_pass_manager(backend=backend, optimization_level=1)\n",
    "isa_circuit = pm.run(bell)\n",
    " \n",
    "# execute the quantum circuit\n",
    "sampler = Sampler(backend)\n",
    "job = sampler.run([isa_circuit])\n",
    "result = job.result()\n",
    "\n",
    "plot_histogram(result[0].data.meas.get_counts())"
   ]
  },
  {
   "cell_type": "markdown",
   "id": "85a48c16-0013-4ec3-b672-0b4d1a1f8de8",
   "metadata": {},
   "source": [
    "#### Visualize Quantum States\n",
    "\n",
    "- Q5: Visualize Quantum States\n",
    "\n",
    "      Say we create a circuit, add some gates, and wish to view the quantum state of the system that the circuit holds:\n",
    "\n",
    "      qc = QuantumCircuit(2)\n",
    "      qc.h(0)\n",
    "      qc.crx(pi / 2, 0, 1)\n",
    "      psi = Statevector(qc)\n",
    "\n",
    "      Which of the following is not something we can visualize?\n",
    "\n",
    "      1. the state vector written in Dirac braket notation?\n",
    "      2. the corresponding density matrix \n",
    "      3. the Bloch sphere of the state, psi\n",
    "      4. two Bloch spheres displaying the state of each qubit in psi\n",
    "      5. a qsphere of psi\n"
   ]
  },
  {
   "cell_type": "markdown",
   "id": "8e03ec18-798f-464d-a5bd-6eea79186b9d",
   "metadata": {},
   "source": [
    "##### Q5 Answer via Code\n",
    "\n",
    "Answer is 3, since the Bloch sphere can only display the state of one qubit, and our state psi consists of 2 qubits.\n",
    "\n",
    "\"A qsphere is a visualization tool used in quantum computing to represent the state of a multi-qubit system. It's a generalization of the Bloch sphere, which is used for single qubits.\" (Google AI)"
   ]
  },
  {
   "cell_type": "code",
   "execution_count": 2,
   "id": "afa8a967-1b14-4ca6-be6d-6b4e85b34483",
   "metadata": {},
   "outputs": [
    {
     "data": {
      "text/latex": [
       "$$\\frac{\\sqrt{2}}{2} |00\\rangle+\\frac{1}{2} |01\\rangle- \\frac{i}{2} |11\\rangle$$"
      ],
      "text/plain": [
       "<IPython.core.display.Latex object>"
      ]
     },
     "execution_count": 2,
     "metadata": {},
     "output_type": "execute_result"
    }
   ],
   "source": [
    "from math import pi\n",
    "from qiskit import QuantumCircuit\n",
    "from qiskit.quantum_info import Statevector\n",
    " \n",
    "# Create a state for demonstration\n",
    "qc = QuantumCircuit(2)\n",
    "qc.h(0)\n",
    "qc.crx(pi / 2, 0, 1)\n",
    "psi = Statevector(qc)\n",
    "\n",
    "psi.draw(\"latex\")  # psi is a Statevector object"
   ]
  },
  {
   "cell_type": "code",
   "execution_count": 3,
   "id": "e03c28f6-72a5-424d-a6ab-ede028a3b78f",
   "metadata": {},
   "outputs": [
    {
     "data": {
      "text/latex": [
       "$$\n",
       "\n",
       "\\begin{bmatrix}\n",
       "\\frac{1}{2} & \\frac{\\sqrt{2}}{4} & 0 & \\frac{\\sqrt{2} i}{4}  \\\\\n",
       " \\frac{\\sqrt{2}}{4} & \\frac{1}{4} & 0 & \\frac{i}{4}  \\\\\n",
       " 0 & 0 & 0 & 0  \\\\\n",
       " - \\frac{\\sqrt{2} i}{4} & - \\frac{i}{4} & 0 & \\frac{1}{4}  \\\\\n",
       " \\end{bmatrix}\n",
       "$$"
      ],
      "text/plain": [
       "<IPython.core.display.Latex object>"
      ]
     },
     "execution_count": 3,
     "metadata": {},
     "output_type": "execute_result"
    }
   ],
   "source": [
    "from qiskit.quantum_info import DensityMatrix\n",
    " \n",
    "DensityMatrix(psi).draw(\"latex\")  # convert to a DensityMatrix and draw"
   ]
  },
  {
   "cell_type": "code",
   "execution_count": 5,
   "id": "0ca6376d-2829-44bf-bf82-ea863a4511b5",
   "metadata": {},
   "outputs": [],
   "source": [
    "# Plot psi on a Bloch sphere\n",
    "## TODO\n"
   ]
  },
  {
   "cell_type": "code",
   "execution_count": 4,
   "id": "46ff73e6-07c8-4d6b-849f-6fe00763ab24",
   "metadata": {},
   "outputs": [],
   "source": [
    "# Plot a qsphere of psi with title 'Psi'\n",
    "## TODO\n"
   ]
  },
  {
   "cell_type": "markdown",
   "id": "f6506513-be9d-40e4-ada0-98ee2ec259d7",
   "metadata": {},
   "source": [
    "#### Create Quantum Circuits \n",
    "\n",
    "- Q6: Construct Basic Quantum Circuits\n",
    "- Q7: Construct Dynamic Circuits\n",
    "- Q8: Construct Parameterized Circuits\n",
    "- Q9: Transpile and Optimize Circuits"
   ]
  },
  {
   "cell_type": "markdown",
   "id": "d60a4c2a-0e3b-4bbf-9deb-d0a1107dc580",
   "metadata": {},
   "source": [
    "#### Run Quantum Circuits\n",
    "\n",
    "- Q10: Differentiate Execution Modes to Optimize Job Queuing\n",
    "- Q11: Run Quantum Circuits with real hardware in the IBM Runtime provider"
   ]
  },
  {
   "cell_type": "markdown",
   "id": "9d129966-2756-4532-a609-34592629bebb",
   "metadata": {
    "jp-MarkdownHeadingCollapsed": true
   },
   "source": [
    "#### Use the Sampler Primitive\n",
    "\n",
    "- Q12: Set options, such as resilience\n",
    "- Q13: Bypass runtime error mitigations, and implement your own\n",
    "- Q14: Understand the theoretical background\n"
   ]
  },
  {
   "cell_type": "markdown",
   "id": "9fa23103-a3dc-43e8-940e-3dc88076e76e",
   "metadata": {
    "jp-MarkdownHeadingCollapsed": true
   },
   "source": [
    "#### Use the Estimator Primitive\n",
    "\n",
    "- Q15: Set options, such as resilience\n",
    "- Q16: Understand the theoretical background\n"
   ]
  },
  {
   "cell_type": "markdown",
   "id": "308f3b63-5d08-4b04-ab56-b8d45762fb5b",
   "metadata": {
    "jp-MarkdownHeadingCollapsed": true
   },
   "source": [
    "#### Retrieve and Analyze the Results of Quantum Circuits\n",
    "\n",
    "- Q17: Retrieve previous experiment results (session/ runtime)\n",
    "- Q18: Monitor jobs   \n"
   ]
  },
  {
   "cell_type": "markdown",
   "id": "24e8b8af-1564-4bd1-a351-145e77b05cfd",
   "metadata": {},
   "source": [
    "#### Operate with OpenQASM\n",
    "\n",
    "- Q19: Structure types in OpenQASM 3 programs\n",
    "- Q20: Interpret OpenQASM semantics for versions 2 and 3\n",
    "- Q21: Interoperate different versions of OpenQASM with\n",
    "Qiskit\n",
    "- Q22: Interact with the Qiskit IBM Runtime REST API\n"
   ]
  },
  {
   "cell_type": "code",
   "execution_count": null,
   "id": "316391fb-1f3c-4312-9029-7d38345ab061",
   "metadata": {},
   "outputs": [],
   "source": []
  }
 ],
 "metadata": {
  "kernelspec": {
   "display_name": "qk2_py312",
   "language": "python",
   "name": "qk2_py312"
  },
  "language_info": {
   "codemirror_mode": {
    "name": "ipython",
    "version": 3
   },
   "file_extension": ".py",
   "mimetype": "text/x-python",
   "name": "python",
   "nbconvert_exporter": "python",
   "pygments_lexer": "ipython3",
   "version": "3.12.11"
  }
 },
 "nbformat": 4,
 "nbformat_minor": 5
}
